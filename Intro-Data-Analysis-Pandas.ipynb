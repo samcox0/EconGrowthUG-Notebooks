{
 "cells": [
  {
   "cell_type": "markdown",
   "metadata": {
    "slideshow": {
     "slide_type": "slide"
    },
    "tags": [],
    "user_expressions": []
   },
   "source": [
    "# <center>Introduction to Data Analysis in </center>\n",
    "    \n",
    "<center><img src=\"https://www.python.org/static/community_logos/python-logo-inkscape.svg\" alt=\"Python\" width=300/> </center>\n",
    "\n",
    "# <center>using </center>\n",
    "\n",
    "<center><a href=\"https://pandas.pydata.org/docs/index.html\"><img src=\"https://raw.githubusercontent.com/SMU-Econ-Growth/EconGrowthUG-Notebooks/c004a90a03c3633fd05cdbce96647e229fdc21d8/pics/Pandas_logo.svg\" alt=\"Pandas\" width=300/></a></center>"
   ]
  },
  {
   "cell_type": "markdown",
   "metadata": {
    "slideshow": {
     "slide_type": "slide"
    },
    "tags": [],
    "user_expressions": []
   },
   "source": [
    "# <center>What is <img src=\"https://raw.githubusercontent.com/SMU-Econ-Growth/EconGrowthUG-Notebooks/c004a90a03c3633fd05cdbce96647e229fdc21d8/pics/Pandas_logo.svg\" alt=\"Pandas\" width=150/>?</center>"
   ]
  },
  {
   "cell_type": "markdown",
   "metadata": {
    "slideshow": {
     "slide_type": "fragment"
    },
    "user_expressions": []
   },
   "source": [
    "**pandas** is a fast, powerful, flexible and easy to use open source data analysis and manipulation tool, built on top of the Python programming language."
   ]
  },
  {
   "cell_type": "markdown",
   "metadata": {
    "slideshow": {
     "slide_type": "slide"
    },
    "tags": [],
    "user_expressions": []
   },
   "source": [
    "# <center>What is <img src=\"https://raw.githubusercontent.com/SMU-Econ-Growth/EconGrowthUG-Notebooks/c004a90a03c3633fd05cdbce96647e229fdc21d8/pics/Pandas_logo.svg\" alt=\"Pandas\" width=150/> for?</center>"
   ]
  },
  {
   "cell_type": "markdown",
   "metadata": {
    "slideshow": {
     "slide_type": "fragment"
    },
    "tags": [],
    "user_expressions": []
   },
   "source": [
    "* **pandas** is the right tool when working with tabular data\n",
    "    * such as data stored in spreadsheets or databases "
   ]
  },
  {
   "cell_type": "markdown",
   "metadata": {
    "slideshow": {
     "slide_type": "subslide"
    },
    "tags": [],
    "user_expressions": []
   },
   "source": [
    "* **pandas** will help you to \n",
    "    * explore\n",
    "    * clean\n",
    "    * transform\n",
    "    * merge \n",
    "    * process"
   ]
  },
  {
   "cell_type": "markdown",
   "metadata": {
    "slideshow": {
     "slide_type": "slide"
    },
    "tags": [],
    "user_expressions": []
   },
   "source": [
    "* In **pandas**, a data table is called a ``DataFrame``\n",
    "<center><a href=\"https://pandas.pydata.org/docs/getting_started/index.html\"><img src=\"https://raw.githubusercontent.com/SMU-Econ-Growth/EconGrowthUG-Notebooks/c004a90a03c3633fd05cdbce96647e229fdc21d8/pics/01_table_dataframe.svg\" alt=\"Pandas DataFrame\" width=500/></a></center>"
   ]
  },
  {
   "cell_type": "markdown",
   "metadata": {
    "slideshow": {
     "slide_type": "subslide"
    },
    "tags": [],
    "user_expressions": []
   },
   "source": [
    "* In **pandas**, a column of a data table is called a `Series`\n",
    "    * A `DataFrame` is a collection of `Series`"
   ]
  },
  {
   "cell_type": "markdown",
   "metadata": {
    "slideshow": {
     "slide_type": "subslide"
    },
    "user_expressions": []
   },
   "source": [
    "With [pandas](http://pandas.pydata.org) you can \n",
    "1. Import many types of data, including\n",
    "    * CSV files\n",
    "    * Tab or other types of delimited files \n",
    "    * Excel (xls, xlsx) files\n",
    "    * Stata files"
   ]
  },
  {
   "cell_type": "markdown",
   "metadata": {
    "slideshow": {
     "slide_type": "subslide"
    },
    "user_expressions": []
   },
   "source": [
    "2. Open files directly from a website\n",
    "3. Merge, select, join data\n",
    "4. Perform statistical analyses\n",
    "5. Create plots of your data\n",
    "\n",
    "and much more."
   ]
  },
  {
   "cell_type": "markdown",
   "metadata": {
    "slideshow": {
     "slide_type": "subslide"
    },
    "tags": [],
    "user_expressions": []
   },
   "source": [
    "* **pandas** is imported as\n",
    "```python\n",
    "import pandas as pd\n",
    "```\n",
    "I suggest you follow this convention, which will make using other people's code and snippets easier."
   ]
  },
  {
   "cell_type": "code",
   "execution_count": 1,
   "metadata": {
    "slideshow": {
     "slide_type": "fragment"
    }
   },
   "outputs": [],
   "source": [
    "# Let's import pandas and some other basic packages we will use \n",
    "from __future__ import division\n",
    "%matplotlib inline\n",
    "import os\n",
    "import matplotlib.pyplot as plt\n",
    "import numpy as np\n",
    "import pandas as pd"
   ]
  },
  {
   "cell_type": "markdown",
   "metadata": {
    "slideshow": {
     "slide_type": "slide"
    },
    "tags": [],
    "user_expressions": []
   },
   "source": [
    "# <center>How to create a <img src=\"https://raw.githubusercontent.com/SMU-Econ-Growth/EconGrowthUG-Notebooks/c004a90a03c3633fd05cdbce96647e229fdc21d8/pics/Pandas_logo.svg\" alt=\"Pandas\" width=150/> `DataFrame`?</center>"
   ]
  },
  {
   "cell_type": "markdown",
   "metadata": {
    "slideshow": {
     "slide_type": "subslide"
    },
    "user_expressions": []
   },
   "source": [
    "# Import and Export Data"
   ]
  },
  {
   "cell_type": "markdown",
   "metadata": {
    "slideshow": {
     "slide_type": "-"
    },
    "tags": [],
    "user_expressions": []
   },
   "source": [
    "<center><a href=\"https://pandas.pydata.org/docs/getting_started/intro_tutorials/02_read_write.html#min-tut-02-read-write\"><img src=\"https://raw.githubusercontent.com/SMU-Econ-Growth/EconGrowthUG-Notebooks/c004a90a03c3633fd05cdbce96647e229fdc21d8/pics/02_io_readwrite.svg\" alt=\"Pandas\" width=700/></center>"
   ]
  },
  {
   "cell_type": "markdown",
   "metadata": {
    "slideshow": {
     "slide_type": "subslide"
    },
    "user_expressions": []
   },
   "source": [
    "# Import Existing Data"
   ]
  },
  {
   "cell_type": "markdown",
   "metadata": {
    "slideshow": {
     "slide_type": "fragment"
    },
    "user_expressions": []
   },
   "source": [
    "**pandas** supports the integration with many file formats or data sources\n",
    "* csv\n",
    "* excel\n",
    "* sql\n",
    "* json\n",
    "* parquet\n",
    "* Stata\n",
    "* HTML"
   ]
  },
  {
   "cell_type": "markdown",
   "metadata": {
    "slideshow": {
     "slide_type": "subslide"
    },
    "tags": [],
    "user_expressions": []
   },
   "source": [
    "To import data in a specific format you use the function with the prefix `read_*`, e.g.,  \n",
    "* csv: [`pd.read_csv`](https://pandas.pydata.org/docs/reference/api/pandas.read_csv.html)\n",
    "* excel: [`pd.read_excel`](https://pandas.pydata.org/docs/reference/api/pandas.read_excel.html)\n",
    "* stata: [`pd.read_stata`](https://pandas.pydata.org/docs/reference/api/pandas.read_stata.html)\n",
    "* html: [`pd.read_html`](https://pandas.pydata.org/docs/reference/api/pandas.read_html.html)"
   ]
  },
  {
   "cell_type": "markdown",
   "metadata": {
    "slideshow": {
     "slide_type": "subslide"
    },
    "user_expressions": []
   },
   "source": [
    "# Export Data"
   ]
  },
  {
   "cell_type": "markdown",
   "metadata": {
    "slideshow": {
     "slide_type": "fragment"
    },
    "tags": [],
    "user_expressions": []
   },
   "source": [
    "To export data in a specific format you use the function with the prefix `to_*`, e.g.,  \n",
    "* csv: [`pd.to_csv`](https://pandas.pydata.org/docs/reference/api/pandas.DataFrame.to_csv.html)\n",
    "* excel: [`pd.to_excel`](https://pandas.pydata.org/docs/reference/api/pandas.DataFrame.to_excel.html)\n",
    "* stata: [`pd.to_stata`](https://pandas.pydata.org/docs/reference/api/pandas.DataFrame.to_stata.html)"
   ]
  },
  {
   "cell_type": "markdown",
   "metadata": {
    "slideshow": {
     "slide_type": "subslide"
    },
    "tags": [],
    "user_expressions": []
   },
   "source": [
    "# Create a New `DataFrame`\n",
    "<center><a href=\"https://pandas.pydata.org/docs/getting_started/intro_tutorials/01_table_oriented.html#min-tut-01-tableoriented\"><img src=\"https://raw.githubusercontent.com/SMU-Econ-Growth/EconGrowthUG-Notebooks/c004a90a03c3633fd05cdbce96647e229fdc21d8/pics/01_table_dataframe.svg\" alt=\"Pandas DataFrame\" width=500/></a></center>"
   ]
  },
  {
   "cell_type": "markdown",
   "metadata": {
    "slideshow": {
     "slide_type": "subslide"
    },
    "tags": [],
    "user_expressions": []
   },
   "source": [
    "* To create a new [`Series`](https://pandas.pydata.org/docs/reference/api/pandas.Series.html)\n",
    "```python\n",
    "my_new_series = pd.Series(a_list_with_data, \n",
    "                          name='Name of Column in data table')\n",
    "```"
   ]
  },
  {
   "cell_type": "markdown",
   "metadata": {
    "slideshow": {
     "slide_type": "subslide"
    },
    "tags": [],
    "user_expressions": []
   },
   "source": [
    "* To create a new [`DataFrame`](https://pandas.pydata.org/docs/reference/api/pandas.DataFrame.html)\n",
    "```python\n",
    "df = pd.DataFrame(a_list_of_series_or_raw_data,\n",
    "                  columns=list_with_column_names,\n",
    "                  index=list_of_indices_if_you_need)\n",
    "```"
   ]
  },
  {
   "cell_type": "markdown",
   "metadata": {
    "slideshow": {
     "slide_type": "slide"
    },
    "user_expressions": []
   },
   "source": [
    "# Select subset of data"
   ]
  },
  {
   "cell_type": "markdown",
   "metadata": {
    "slideshow": {
     "slide_type": "-"
    },
    "tags": [],
    "user_expressions": []
   },
   "source": [
    "<center><a href=\"https://pandas.pydata.org/docs/getting_started/intro_tutorials/03_subset_data.html#min-tut-03-subset\"><img src=\"https://raw.githubusercontent.com/SMU-Econ-Growth/EconGrowthUG-Notebooks/c004a90a03c3633fd05cdbce96647e229fdc21d8/pics/03_subset_columns_rows.svg\" alt=\"Subset data\" width=700/></a></center>"
   ]
  },
  {
   "cell_type": "markdown",
   "metadata": {
    "slideshow": {
     "slide_type": "subslide"
    },
    "tags": [],
    "user_expressions": []
   },
   "source": [
    "# Select subset of columns"
   ]
  },
  {
   "cell_type": "markdown",
   "metadata": {
    "slideshow": {
     "slide_type": "-"
    },
    "tags": [],
    "user_expressions": []
   },
   "source": [
    "<center><a href=\"https://pandas.pydata.org/docs/getting_started/intro_tutorials/03_subset_data.html#min-tut-03-subset\"><img src=\"https://raw.githubusercontent.com/SMU-Econ-Growth/EconGrowthUG-Notebooks/c004a90a03c3633fd05cdbce96647e229fdc21d8/pics/03_subset_columns.svg\" alt=\"Subset data\" width=700/></a></center>"
   ]
  },
  {
   "cell_type": "markdown",
   "metadata": {
    "slideshow": {
     "slide_type": "subslide"
    },
    "tags": [],
    "user_expressions": []
   },
   "source": [
    "* To select 1 column and get a `Series`\n",
    "```python \n",
    "df['name of column']\n",
    "```\n",
    "or \n",
    "```python \n",
    "df.name_of_column\n",
    "```"
   ]
  },
  {
   "cell_type": "markdown",
   "metadata": {
    "slideshow": {
     "slide_type": "fragment"
    },
    "tags": [],
    "user_expressions": []
   },
   "source": [
    "<div class=\"alert alert-block alert-danger\">\n",
    "<b>Careful:</b> The second method only works if there are no spaces in the name of the variable/row.\n",
    "</div>"
   ]
  },
  {
   "cell_type": "markdown",
   "metadata": {
    "slideshow": {
     "slide_type": "subslide"
    },
    "tags": [],
    "user_expressions": []
   },
   "source": [
    "* To select a subset of columns and get a `DataFrame`\n",
    "```python \n",
    "df[list_of_columns]\n",
    "```\n",
    "* In particular, to get a `DataFrame` from a single column\n",
    "```python \n",
    "df[['name of column']]\n",
    "```"
   ]
  },
  {
   "cell_type": "markdown",
   "metadata": {
    "slideshow": {
     "slide_type": "fragment"
    },
    "tags": [],
    "user_expressions": []
   },
   "source": [
    "<div class=\"alert alert-block alert-info\">\n",
    "    <b>Note:</b> Notice the small difference when selecting <b>a unique column</b>\n",
    "</div>"
   ]
  },
  {
   "cell_type": "markdown",
   "metadata": {
    "slideshow": {
     "slide_type": "subslide"
    },
    "tags": [],
    "user_expressions": []
   },
   "source": [
    "# Select subset of rows"
   ]
  },
  {
   "cell_type": "markdown",
   "metadata": {
    "slideshow": {
     "slide_type": "-"
    },
    "tags": [],
    "user_expressions": []
   },
   "source": [
    "<center><a href=\"https://pandas.pydata.org/docs/getting_started/intro_tutorials/03_subset_data.html#min-tut-03-subset\"><img src=\"https://raw.githubusercontent.com/SMU-Econ-Growth/EconGrowthUG-Notebooks/c004a90a03c3633fd05cdbce96647e229fdc21d8/pics/03_subset_rows.svg\" alt=\"Subset data\" width=700/></a></center>"
   ]
  },
  {
   "cell_type": "markdown",
   "metadata": {
    "slideshow": {
     "slide_type": "subslide"
    },
    "tags": [],
    "user_expressions": []
   },
   "source": [
    "* To select specific rows, you need to pass the index of the rows you want and use `df.iloc`.\n",
    "    \n",
    "    E.g., if you want the observations in index [0,2,5,9], then\n",
    "    ```python\n",
    "    df.iloc[[0,2,5,9]]\n",
    "    ```"
   ]
  },
  {
   "cell_type": "markdown",
   "metadata": {
    "slideshow": {
     "slide_type": "subslide"
    },
    "tags": [],
    "user_expressions": []
   },
   "source": [
    "* To select rows that satisfy a condition, e.g., variable_1>0, use `df.loc`\n",
    "\n",
    "    ```python\n",
    "    df.loc[df['variable_1']>0]\n",
    "    ```    "
   ]
  },
  {
   "cell_type": "markdown",
   "metadata": {
    "slideshow": {
     "slide_type": "fragment"
    },
    "tags": [],
    "user_expressions": []
   },
   "source": [
    "* or more generally\n",
    "    \n",
    "    ```python\n",
    "    df.loc[condition to be satisfied by data in df]\n",
    "    ```"
   ]
  },
  {
   "cell_type": "markdown",
   "metadata": {
    "slideshow": {
     "slide_type": "subslide"
    },
    "tags": [],
    "user_expressions": []
   },
   "source": [
    "# Select subset of rows and columns"
   ]
  },
  {
   "cell_type": "markdown",
   "metadata": {
    "slideshow": {
     "slide_type": "-"
    },
    "tags": [],
    "user_expressions": []
   },
   "source": [
    "<center><a href=\"https://pandas.pydata.org/docs/getting_started/intro_tutorials/03_subset_data.html#min-tut-03-subset\"><img src=\"https://raw.githubusercontent.com/SMU-Econ-Growth/EconGrowthUG-Notebooks/c004a90a03c3633fd05cdbce96647e229fdc21d8/pics/03_subset_columns_rows.svg\" alt=\"Subset data\" width=700/></a></center>"
   ]
  },
  {
   "cell_type": "markdown",
   "metadata": {
    "slideshow": {
     "slide_type": "subslide"
    },
    "tags": [],
    "user_expressions": []
   },
   "source": [
    "* To select jointly a subset of rows that satisfy a condition and some of the variables\n",
    "```python\n",
    "df.loc[condition to be satisfied by data in df, list_of_columns]\n",
    "```\n",
    "e.g., select rows that satisfy `variable_1>0` and only the subset of columns `['variable_1', 'variable_2']`\n",
    "```python\n",
    "df.loc[df['variable_1']>0, ['variable_1', 'variable_2']]\n",
    "```"
   ]
  },
  {
   "cell_type": "markdown",
   "metadata": {
    "slideshow": {
     "slide_type": "slide"
    },
    "tags": [],
    "user_expressions": []
   },
   "source": [
    "# Plot Data"
   ]
  },
  {
   "cell_type": "markdown",
   "metadata": {
    "slideshow": {
     "slide_type": "-"
    },
    "tags": [],
    "user_expressions": []
   },
   "source": [
    "<center><a href=\"https://pandas.pydata.org/docs/getting_started/intro_tutorials/04_plotting.html#min-tut-04-plotting\"><img src=\"https://raw.githubusercontent.com/SMU-Econ-Growth/EconGrowthUG-Notebooks/c004a90a03c3633fd05cdbce96647e229fdc21d8/pics/04_plot_overview.svg\" alt=\"Plotting\" width=700/></a></center>"
   ]
  },
  {
   "cell_type": "markdown",
   "metadata": {
    "slideshow": {
     "slide_type": "subslide"
    },
    "tags": [],
    "user_expressions": []
   },
   "source": [
    "**pandas** can easily create various types of plots based on the data\n",
    "* Plot all variables, where $x$ is the index\n",
    "```python\n",
    "df.plot()\n",
    "```"
   ]
  },
  {
   "cell_type": "markdown",
   "metadata": {
    "slideshow": {
     "slide_type": "subslide"
    },
    "user_expressions": []
   },
   "source": [
    "* Plot only one specific variable (against the index)\n",
    "```python\n",
    "df['variable'].plot()\n",
    "```\n",
    "or\n",
    "```python\n",
    "df.variable_name.plot()\n",
    "```"
   ]
  },
  {
   "cell_type": "markdown",
   "metadata": {
    "slideshow": {
     "slide_type": "subslide"
    },
    "tags": [],
    "user_expressions": []
   },
   "source": [
    "* Plot `variable X` against `variable Y`\n",
    "```python\n",
    "df.plot.scatter(x='Variable X', y='Variable Y')\n",
    "```"
   ]
  },
  {
   "cell_type": "markdown",
   "metadata": {
    "slideshow": {
     "slide_type": "subslide"
    },
    "tags": [],
    "user_expressions": []
   },
   "source": [
    "* Other plot types:\n",
    "    * Box plot: `df.plot.box()`\n",
    "    * Area plot: df.plot.area()\n",
    "    * (Vertical) Bar plot: df.plot.bar()\n",
    "    * (Horizontal) Bar plot: df.plot.barh()\n",
    "    * Density plot: df.plot.density()\n",
    "    * Historam: df.plot.hist()\n",
    "    * KDE plot: df.plot.kde()\n",
    "    * Pie Chart: df.plot.pie()"
   ]
  },
  {
   "cell_type": "markdown",
   "metadata": {
    "slideshow": {
     "slide_type": "subslide"
    },
    "user_expressions": []
   },
   "source": [
    "## **pandas** uses `matplotlib`, so we can pass options or use axes and figures as we learned before"
   ]
  },
  {
   "cell_type": "markdown",
   "metadata": {
    "slideshow": {
     "slide_type": "slide"
    },
    "tags": [],
    "user_expressions": []
   },
   "source": [
    "## We can also pass **pandas** dataframes to **seaborn**, **statsmodels**, and many other packages"
   ]
  },
  {
   "cell_type": "markdown",
   "metadata": {
    "slideshow": {
     "slide_type": "slide"
    },
    "tags": [],
    "user_expressions": []
   },
   "source": [
    "# Create New Columns/Variables"
   ]
  },
  {
   "cell_type": "markdown",
   "metadata": {
    "slideshow": {
     "slide_type": "-"
    },
    "tags": [],
    "user_expressions": []
   },
   "source": [
    "<center><a href=\"https://pandas.pydata.org/docs/getting_started/intro_tutorials/05_add_columns.html#min-tut-05-columns\"><img src=\"https://raw.githubusercontent.com/SMU-Econ-Growth/EconGrowthUG-Notebooks/c004a90a03c3633fd05cdbce96647e229fdc21d8/pics/05_newcolumn_2.svg\" alt=\"New Columns\" width=700/></a></center>"
   ]
  },
  {
   "cell_type": "markdown",
   "metadata": {
    "slideshow": {
     "slide_type": "subslide"
    },
    "tags": [],
    "user_expressions": []
   },
   "source": [
    "# From Other Columns/Variables"
   ]
  },
  {
   "cell_type": "markdown",
   "metadata": {
    "slideshow": {
     "slide_type": "fragment"
    },
    "tags": [],
    "user_expressions": []
   },
   "source": [
    "* To create a new column in a dataframe from other columns in the dataframe just perform any operations on the existing variables"
   ]
  },
  {
   "cell_type": "markdown",
   "metadata": {
    "slideshow": {
     "slide_type": "fragment"
    },
    "tags": [],
    "user_expressions": []
   },
   "source": [
    "* All operations are performed across all rows"
   ]
  },
  {
   "cell_type": "markdown",
   "metadata": {
    "slideshow": {
     "slide_type": "fragment"
    },
    "tags": [],
    "user_expressions": []
   },
   "source": [
    "* E.g., to create the new variable $Y$ defined as $Y=2\\cdot X^2-\\ln(Z)$, where $X$ and $Z$ are existing variables\n",
    "```python\n",
    "df['Y'] = 2 * df['X']**2 - df['Z'].apply(np.log)\n",
    "```"
   ]
  },
  {
   "cell_type": "markdown",
   "metadata": {
    "slideshow": {
     "slide_type": "subslide"
    },
    "tags": [],
    "user_expressions": []
   },
   "source": [
    "# From a `list` or `numpy.array`"
   ]
  },
  {
   "cell_type": "markdown",
   "metadata": {
    "slideshow": {
     "slide_type": "fragment"
    },
    "user_expressions": []
   },
   "source": [
    "* To create a new column in the dataframe from a list or array, just define the new column to be equal to the list or array\n",
    "```python\n",
    "df['new variable'] = list_or_array\n",
    "```"
   ]
  },
  {
   "cell_type": "markdown",
   "metadata": {
    "slideshow": {
     "slide_type": "fragment"
    },
    "tags": [],
    "user_expressions": []
   },
   "source": [
    "<div class=\"alert alert-block alert-danger\">\n",
    "<b>Careful:</b> The list or array must have the same dimension as the dataframe. Check it using <code>df.shape</code> and <code>array.shape</code> or <code>len(list)</code>\n",
    "</div>"
   ]
  },
  {
   "cell_type": "markdown",
   "metadata": {
    "slideshow": {
     "slide_type": "subslide"
    },
    "user_expressions": []
   },
   "source": [
    "# Applying Functions to Dataframe"
   ]
  },
  {
   "cell_type": "markdown",
   "metadata": {
    "slideshow": {
     "slide_type": "-"
    },
    "tags": [],
    "user_expressions": []
   },
   "source": [
    "<center><a href=\"https://pandas.pydata.org/docs/getting_started/intro_tutorials/05_add_columns.html#min-tut-05-columns\"><img src=\"https://raw.githubusercontent.com/SMU-Econ-Growth/EconGrowthUG-Notebooks/c004a90a03c3633fd05cdbce96647e229fdc21d8/pics/05_newcolumn_2.svg\" alt=\"New Columns\" width=700/></a></center>"
   ]
  },
  {
   "cell_type": "markdown",
   "metadata": {
    "slideshow": {
     "slide_type": "subslide"
    },
    "tags": [],
    "user_expressions": []
   },
   "source": [
    "* **pandas** also let's you apply a function to a column or to the whole dataset using the `apply` function."
   ]
  },
  {
   "cell_type": "markdown",
   "metadata": {
    "slideshow": {
     "slide_type": "fragment"
    },
    "tags": [],
    "user_expressions": []
   },
   "source": [
    "* To apply a function to the whole dataset:\n",
    "```python\n",
    "df.apply(my_function, axis=1)\n",
    "```\n",
    "This is useful when the function uses data from various columns"
   ]
  },
  {
   "cell_type": "markdown",
   "metadata": {
    "slideshow": {
     "slide_type": "subslide"
    },
    "tags": [],
    "user_expressions": []
   },
   "source": [
    "* To apply a function to only a column:\n",
    "```python\n",
    "df['My Column'].apply(my_function, axis=1)\n",
    "```\n",
    "or\n",
    "```python\n",
    "df.my_column.apply(my_function, axis=1)\n",
    "```"
   ]
  },
  {
   "cell_type": "markdown",
   "metadata": {
    "slideshow": {
     "slide_type": "slide"
    },
    "user_expressions": []
   },
   "source": [
    "# Create Statistics for Columns in Dataframe"
   ]
  },
  {
   "cell_type": "markdown",
   "metadata": {
    "slideshow": {
     "slide_type": "-"
    },
    "tags": [],
    "user_expressions": []
   },
   "source": [
    "<center><a href=\"https://pandas.pydata.org/docs/getting_started/intro_tutorials/06_calculate_statistics.html#min-tut-06-stats\"><img src=\"https://raw.githubusercontent.com/SMU-Econ-Growth/EconGrowthUG-Notebooks/c004a90a03c3633fd05cdbce96647e229fdc21d8/pics/06_reduction.svg\" alt=\"groupby\" width=700/></a></center>"
   ]
  },
  {
   "cell_type": "markdown",
   "metadata": {
    "slideshow": {
     "slide_type": "subslide"
    },
    "tags": [],
    "user_expressions": []
   },
   "source": [
    "The **pandas** `DataFrame` has various properties that compute statistics based on columns in the dataframe\n",
    "* mean\n",
    "* min\n",
    "* max\n",
    "* std\n",
    "* median\n",
    "* quantile"
   ]
  },
  {
   "cell_type": "markdown",
   "metadata": {
    "slideshow": {
     "slide_type": "subslide"
    },
    "tags": [],
    "user_expressions": []
   },
   "source": [
    "These statistics can be computed across rows or columns"
   ]
  },
  {
   "cell_type": "markdown",
   "metadata": {
    "slideshow": {
     "slide_type": "fragment"
    },
    "tags": [],
    "user_expressions": []
   },
   "source": [
    "* Statistic across rows (for all columns): `df.statistic()` or `df.statistic(axis=0)`"
   ]
  },
  {
   "cell_type": "markdown",
   "metadata": {
    "slideshow": {
     "slide_type": "fragment"
    },
    "tags": [],
    "user_expressions": []
   },
   "source": [
    "* Statistics across columns: `df.statistic(axis=1)`"
   ]
  },
  {
   "cell_type": "markdown",
   "metadata": {
    "slideshow": {
     "slide_type": "subslide"
    },
    "tags": [],
    "user_expressions": []
   },
   "source": [
    "The special method `describe` generates various summary statistics\n",
    "```python\n",
    "df.describe()\n",
    "```"
   ]
  },
  {
   "cell_type": "markdown",
   "metadata": {
    "slideshow": {
     "slide_type": "fragment"
    },
    "tags": [],
    "user_expressions": []
   },
   "source": [
    "<div class=\"alert alert-block alert-info\">\n",
    "    <b>Note:</b> You can apply these statistics to a single column or a subset of columns.\n",
    "</div>"
   ]
  },
  {
   "cell_type": "markdown",
   "metadata": {
    "slideshow": {
     "slide_type": "subslide"
    },
    "tags": [],
    "user_expressions": []
   },
   "source": [
    "# Apply Functions or Create Aggregate Statistics by Groups of Rows"
   ]
  },
  {
   "cell_type": "markdown",
   "metadata": {
    "slideshow": {
     "slide_type": "-"
    },
    "tags": [],
    "user_expressions": []
   },
   "source": [
    "<center><a href=\"https://pandas.pydata.org/docs/getting_started/intro_tutorials/06_calculate_statistics.html#min-tut-06-stats\"><img src=\"https://raw.githubusercontent.com/SMU-Econ-Growth/EconGrowthUG-Notebooks/c004a90a03c3633fd05cdbce96647e229fdc21d8/pics/06_groupby.svg\" alt=\"groupby\" width=700/></a></center>"
   ]
  },
  {
   "cell_type": "markdown",
   "metadata": {
    "slideshow": {
     "slide_type": "subslide"
    },
    "tags": [],
    "user_expressions": []
   },
   "source": [
    "* To generate statistics or apply functions my groups in the data we use the `groupby` method"
   ]
  },
  {
   "cell_type": "markdown",
   "metadata": {
    "slideshow": {
     "slide_type": "fragment"
    },
    "tags": [],
    "user_expressions": []
   },
   "source": [
    "* To generate a dataframe that contains the statistics for each group defined by columns named `Variable1` and `Variable2`\n",
    "    \n",
    "```python\n",
    "df.groupby(['Variable1', 'Variable2']).statistic()\n",
    "```"
   ]
  },
  {
   "cell_type": "markdown",
   "metadata": {
    "slideshow": {
     "slide_type": "fragment"
    },
    "tags": [],
    "user_expressions": []
   },
   "source": [
    "* To apply a function to all rows in each group and generate a dataframe with the group level result\n",
    "```python\n",
    "df.groupby(['Variable1', 'Variable2']).apply(my_function)\n",
    "```"
   ]
  },
  {
   "cell_type": "markdown",
   "metadata": {
    "slideshow": {
     "slide_type": "slide"
    },
    "tags": [],
    "user_expressions": []
   },
   "source": [
    "# Reshape DataFrame"
   ]
  },
  {
   "cell_type": "markdown",
   "metadata": {
    "slideshow": {
     "slide_type": "-"
    },
    "tags": [],
    "user_expressions": []
   },
   "source": [
    "<center><a href=\"https://pandas.pydata.org/docs/getting_started/intro_tutorials/07_reshape_table_layout.html#min-tut-07-reshape\"><img src=\"https://raw.githubusercontent.com/SMU-Econ-Growth/EconGrowthUG-Notebooks/c004a90a03c3633fd05cdbce96647e229fdc21d8/pics/07_melt.svg\" alt=\"melt\" width=500/><img src=\"https://raw.githubusercontent.com/SMU-Econ-Growth/EconGrowthUG-Notebooks/c004a90a03c3633fd05cdbce96647e229fdc21d8/pics/07_pivot.svg\" alt=\"pivot\" width=500/></a></center>"
   ]
  },
  {
   "cell_type": "markdown",
   "metadata": {
    "slideshow": {
     "slide_type": "subslide"
    },
    "tags": [],
    "user_expressions": []
   },
   "source": [
    "## Many times you may need to reshape you data\n",
    "* To be used in other python commands\n",
    "* For further processing"
   ]
  },
  {
   "cell_type": "markdown",
   "metadata": {
    "slideshow": {
     "slide_type": "subslide"
    },
    "tags": [],
    "user_expressions": []
   },
   "source": [
    "# Reshape DataFrame From Wide To Long"
   ]
  },
  {
   "cell_type": "markdown",
   "metadata": {
    "slideshow": {
     "slide_type": "-"
    },
    "tags": [],
    "user_expressions": []
   },
   "source": [
    "<center><a href=\"https://pandas.pydata.org/docs/getting_started/intro_tutorials/07_reshape_table_layout.html#min-tut-07-reshape\"><img src=\"https://raw.githubusercontent.com/SMU-Econ-Growth/EconGrowthUG-Notebooks/c004a90a03c3633fd05cdbce96647e229fdc21d8/pics/07_melt.svg\" alt=\"melt\" width=700/></center>"
   ]
  },
  {
   "cell_type": "markdown",
   "metadata": {
    "slideshow": {
     "slide_type": "subslide"
    },
    "tags": [],
    "user_expressions": []
   },
   "source": [
    "## Original dataframe has units (countries, households, individuals) in rows and variables or yearly observations in columns"
   ]
  },
  {
   "cell_type": "markdown",
   "metadata": {
    "slideshow": {
     "slide_type": "fragment"
    },
    "tags": [],
    "user_expressions": []
   },
   "source": [
    "## New dataframe has unit $\\times$ variable/year in each row and values in columns"
   ]
  },
  {
   "cell_type": "markdown",
   "metadata": {
    "slideshow": {
     "slide_type": "subslide"
    },
    "tags": [],
    "user_expressions": []
   },
   "source": [
    "## Useful commands\n",
    "* [`pd.wide_to_long(df, stubnames, i, j, sep='', suffix='\\\\d+')`](https://pandas.pydata.org/docs/reference/api/pandas.wide_to_long.html)\n",
    "* [`pd.melt(frame, id_vars=None, value_vars=None, var_name=None, value_name='value', col_level=None, ignore_index=True)`](https://pandas.pydata.org/docs/reference/api/pandas.melt.html#pandas.melt)\n",
    "* [`df.melt(id_vars=None, value_vars=None, var_name=None, value_name='value', col_level=None, ignore_index=True)`](https://pandas.pydata.org/docs/reference/api/pandas.DataFrame.melt.html#pandas.DataFrame.melt)\n",
    "* [`df.stack(level=- 1, dropna=True)`](https://pandas.pydata.org/docs/reference/api/pandas.DataFrame.stack.html#pandas.DataFrame.stack)"
   ]
  },
  {
   "cell_type": "markdown",
   "metadata": {
    "slideshow": {
     "slide_type": "subslide"
    },
    "tags": [],
    "user_expressions": []
   },
   "source": [
    "<center><a href=\"https://pandas.pydata.org/docs/user_guide/reshaping.html#reshaping-stacking\"><img src=\"https://raw.githubusercontent.com/SMU-Econ-Growth/EconGrowthUG-Notebooks/c004a90a03c3633fd05cdbce96647e229fdc21d8/pics/reshaping_melt.png\" alt=\"melt\" width=700/></center>"
   ]
  },
  {
   "cell_type": "markdown",
   "metadata": {
    "slideshow": {
     "slide_type": "subslide"
    },
    "tags": [],
    "user_expressions": []
   },
   "source": [
    "<center><a href=\"https://pandas.pydata.org/docs/user_guide/reshaping.html#reshaping-stacking\"><img src=\"https://raw.githubusercontent.com/SMU-Econ-Growth/EconGrowthUG-Notebooks/c004a90a03c3633fd05cdbce96647e229fdc21d8/pics/reshaping_stack.png\" alt=\"melt\" width=700/></center>"
   ]
  },
  {
   "cell_type": "markdown",
   "metadata": {
    "slideshow": {
     "slide_type": "subslide"
    },
    "tags": [],
    "user_expressions": []
   },
   "source": [
    "# Reshape DataFrame From Long To Wide"
   ]
  },
  {
   "cell_type": "markdown",
   "metadata": {
    "slideshow": {
     "slide_type": "-"
    },
    "tags": [],
    "user_expressions": []
   },
   "source": [
    "<center><a href=\"https://pandas.pydata.org/docs/getting_started/intro_tutorials/07_reshape_table_layout.html#min-tut-07-reshape\"><img src=\"https://raw.githubusercontent.com/SMU-Econ-Growth/EconGrowthUG-Notebooks/c004a90a03c3633fd05cdbce96647e229fdc21d8/pics/07_pivot.svg\" alt=\"pivot\" width=700/></center>"
   ]
  },
  {
   "cell_type": "markdown",
   "metadata": {
    "slideshow": {
     "slide_type": "subslide"
    },
    "tags": [],
    "user_expressions": []
   },
   "source": [
    "## Original dataframe has unit $\\times$ variable/year in each row and values in columns"
   ]
  },
  {
   "cell_type": "markdown",
   "metadata": {
    "slideshow": {
     "slide_type": "fragment"
    },
    "tags": [],
    "user_expressions": []
   },
   "source": [
    "## New dataframe has units (countries, households, individuals) in rows and variables or yearly observations in columns"
   ]
  },
  {
   "cell_type": "markdown",
   "metadata": {
    "slideshow": {
     "slide_type": "subslide"
    },
    "tags": [],
    "user_expressions": []
   },
   "source": [
    "## Useful commands\n",
    "* [`pd.pivot(data, index=None, columns=None, values=None)`](https://pandas.pydata.org/docs/reference/api/pandas.pivot.html#pandas.pivot)\n",
    "* [`df.pivot(index=None, columns=None, values=None)`](https://pandas.pydata.org/docs/reference/api/pandas.DataFrame.pivot.html#pandas.DataFrame.pivot)\n",
    "* [`df.unstack(level=- 1, fill_value=None)`](https://pandas.pydata.org/docs/reference/api/pandas.DataFrame.unstack.html#pandas.DataFrame.unstack)"
   ]
  },
  {
   "cell_type": "markdown",
   "metadata": {
    "slideshow": {
     "slide_type": "subslide"
    },
    "tags": [],
    "user_expressions": []
   },
   "source": [
    "<center><a href=\"https://pandas.pydata.org/docs/user_guide/reshaping.html#reshaping-by-pivoting-dataframe-objects\"><img src=\"https://raw.githubusercontent.com/SMU-Econ-Growth/EconGrowthUG-Notebooks/c004a90a03c3633fd05cdbce96647e229fdc21d8/pics/reshaping_pivot.png\" alt=\"melt\" width=700/></center>"
   ]
  },
  {
   "cell_type": "markdown",
   "metadata": {
    "slideshow": {
     "slide_type": "subslide"
    },
    "tags": [],
    "user_expressions": []
   },
   "source": [
    "<center><a href=\"https://pandas.pydata.org/docs/user_guide/reshaping.html#reshaping-by-stacking-and-unstacking\"><img src=\"https://raw.githubusercontent.com/SMU-Econ-Growth/EconGrowthUG-Notebooks/c004a90a03c3633fd05cdbce96647e229fdc21d8/pics/reshaping_unstack.png\" alt=\"melt\" width=700/></center>"
   ]
  },
  {
   "cell_type": "markdown",
   "metadata": {
    "slideshow": {
     "slide_type": "slide"
    },
    "tags": [],
    "user_expressions": []
   },
   "source": [
    "# Combine Data from Multiple DataFrames"
   ]
  },
  {
   "cell_type": "markdown",
   "metadata": {
    "slideshow": {
     "slide_type": "-"
    },
    "tags": [],
    "user_expressions": []
   },
   "source": [
    "<center><a href=\"https://pandas.pydata.org/docs/getting_started/intro_tutorials/08_combine_dataframes.html#min-tut-08-combine\"><img src=\"https://raw.githubusercontent.com/SMU-Econ-Growth/EconGrowthUG-Notebooks/c004a90a03c3633fd05cdbce96647e229fdc21d8/pics/08_concat_row.svg\" alt=\"concatenate\" width=700/></center>"
   ]
  },
  {
   "cell_type": "markdown",
   "metadata": {
    "slideshow": {
     "slide_type": "subslide"
    },
    "user_expressions": []
   },
   "source": [
    "# Concatenating Dataframes"
   ]
  },
  {
   "cell_type": "markdown",
   "metadata": {
    "slideshow": {
     "slide_type": "-"
    },
    "tags": [],
    "user_expressions": []
   },
   "source": [
    "<center><a href=\"https://pandas.pydata.org/docs/getting_started/intro_tutorials/08_combine_dataframes.html#min-tut-08-combine\"><img src=\"https://raw.githubusercontent.com/SMU-Econ-Growth/EconGrowthUG-Notebooks/c004a90a03c3633fd05cdbce96647e229fdc21d8/pics/08_concat_row.svg\" alt=\"concatenate\" width=700/></center>"
   ]
  },
  {
   "cell_type": "markdown",
   "metadata": {
    "slideshow": {
     "slide_type": "subslide"
    },
    "tags": [],
    "user_expressions": []
   },
   "source": [
    "## **pandas** let's you easily concatenate various `Series` or `DataFrames` to create a new `DataFrame`\n",
    "[`pd.concat(objs, axis=0, join='outer', ignore_index=False, keys=None, levels=None, names=None, verify_integrity=False, sort=False, copy=True)`](https://pandas.pydata.org/docs/reference/api/pandas.concat.html)"
   ]
  },
  {
   "cell_type": "markdown",
   "metadata": {
    "slideshow": {
     "slide_type": "subslide"
    },
    "tags": [],
    "user_expressions": []
   },
   "source": [
    "```python\n",
    "pd.concat([df1, df2, df3])\n",
    "```"
   ]
  },
  {
   "cell_type": "markdown",
   "metadata": {
    "slideshow": {
     "slide_type": "-"
    },
    "tags": [],
    "user_expressions": []
   },
   "source": [
    "<center><a href=\"https://pandas.pydata.org/docs/user_guide/merging.html#concatenating-objects\"><img src=\"https://raw.githubusercontent.com/SMU-Econ-Growth/EconGrowthUG-Notebooks/c004a90a03c3633fd05cdbce96647e229fdc21d8/pics/merging_concat_basic.png\" alt=\"concatenate\" width=500/></center>"
   ]
  },
  {
   "cell_type": "markdown",
   "metadata": {
    "slideshow": {
     "slide_type": "subslide"
    },
    "tags": [],
    "user_expressions": []
   },
   "source": [
    "```python\n",
    "pd.concat([df1, df4], axis=1)\n",
    "```"
   ]
  },
  {
   "cell_type": "markdown",
   "metadata": {
    "slideshow": {
     "slide_type": "-"
    },
    "tags": [],
    "user_expressions": []
   },
   "source": [
    "<center><a href=\"https://pandas.pydata.org/docs/user_guide/merging.html#concatenating-objects\"><img src=\"https://raw.githubusercontent.com/SMU-Econ-Growth/EconGrowthUG-Notebooks/c004a90a03c3633fd05cdbce96647e229fdc21d8/pics/merging_concat_axis1.png\" alt=\"concatenate\" width=1000/></center>"
   ]
  },
  {
   "cell_type": "markdown",
   "metadata": {
    "slideshow": {
     "slide_type": "subslide"
    },
    "tags": [],
    "user_expressions": []
   },
   "source": [
    "```python\n",
    "pd.concat([df1, df4], axis=1, join='inner')\n",
    "```"
   ]
  },
  {
   "cell_type": "markdown",
   "metadata": {
    "slideshow": {
     "slide_type": "-"
    },
    "tags": [],
    "user_expressions": []
   },
   "source": [
    "<center><a href=\"https://pandas.pydata.org/docs/user_guide/merging.html#concatenating-objects\"><img src=\"https://raw.githubusercontent.com/SMU-Econ-Growth/EconGrowthUG-Notebooks/c004a90a03c3633fd05cdbce96647e229fdc21d8/pics/merging_concat_axis1_inner.png\" alt=\"concatenate\" width=1000/></center>"
   ]
  },
  {
   "cell_type": "markdown",
   "metadata": {
    "slideshow": {
     "slide_type": "subslide"
    },
    "user_expressions": []
   },
   "source": [
    "# Merging/Joining Dataframes"
   ]
  },
  {
   "cell_type": "markdown",
   "metadata": {
    "slideshow": {
     "slide_type": "-"
    },
    "tags": [],
    "user_expressions": []
   },
   "source": [
    "<center><a href=\"https://pandas.pydata.org/docs/getting_started/intro_tutorials/08_combine_dataframes.html#join-tables-using-a-common-identifier\"><img src=\"https://raw.githubusercontent.com/SMU-Econ-Growth/EconGrowthUG-Notebooks/c004a90a03c3633fd05cdbce96647e229fdc21d8/pics/08_merge_left.svg\" alt=\"concatenate\" width=1000/></center>"
   ]
  },
  {
   "cell_type": "markdown",
   "metadata": {
    "slideshow": {
     "slide_type": "subslide"
    },
    "tags": [],
    "user_expressions": []
   },
   "source": [
    "## **pandas** let's you easily merge/join `Series` or `DataFrames` to create a new `DataFrame`"
   ]
  },
  {
   "cell_type": "markdown",
   "metadata": {
    "slideshow": {
     "slide_type": "fragment"
    },
    "tags": [],
    "user_expressions": []
   },
   "source": [
    "* [`pd.merge(left, right, how='inner', on=None, left_on=None, right_on=None, left_index=False, right_index=False, sort=False, suffixes=('_x', '_y'), copy=True, indicator=False, validate=None)`](https://pandas.pydata.org/docs/reference/api/pandas.merge.html)"
   ]
  },
  {
   "cell_type": "markdown",
   "metadata": {
    "slideshow": {
     "slide_type": "fragment"
    },
    "tags": [],
    "user_expressions": []
   },
   "source": [
    "* [`df.merge(right, how='inner', on=None, left_on=None, right_on=None, left_index=False, right_index=False, sort=False, suffixes=('_x', '_y'), copy=True, indicator=False, validate=None)`](https://pandas.pydata.org/docs/reference/api/pandas.DataFrame.merge.html)"
   ]
  },
  {
   "cell_type": "markdown",
   "metadata": {
    "slideshow": {
     "slide_type": "subslide"
    },
    "tags": [],
    "user_expressions": []
   },
   "source": [
    "```python\n",
    "pd.merge([left, right])\n",
    "```\n",
    "or\n",
    "```python\n",
    "left.merge(right)\n",
    "```\n",
    "or\n",
    "```python\n",
    "right.merge(left)\n",
    "```"
   ]
  },
  {
   "cell_type": "markdown",
   "metadata": {
    "slideshow": {
     "slide_type": "-"
    },
    "tags": [],
    "user_expressions": []
   },
   "source": [
    "<center><a href=\"https://pandas.pydata.org/docs/user_guide/merging.html#database-style-dataframe-or-named-series-joining-merging\"><img src=\"https://raw.githubusercontent.com/SMU-Econ-Growth/EconGrowthUG-Notebooks/c004a90a03c3633fd05cdbce96647e229fdc21d8/pics/merging_merge_on_key.png\" alt=\"concatenate\" width=700/></center>"
   ]
  },
  {
   "cell_type": "markdown",
   "metadata": {
    "slideshow": {
     "slide_type": "subslide"
    },
    "tags": [],
    "user_expressions": []
   },
   "source": [
    "```python\n",
    "pd.merge([left, right])\n",
    "```\n",
    "or\n",
    "```python\n",
    "pd.merge([left, right], on=[\"key1\", \"key2\"])\n",
    "```"
   ]
  },
  {
   "cell_type": "markdown",
   "metadata": {
    "slideshow": {
     "slide_type": "-"
    },
    "tags": [],
    "user_expressions": []
   },
   "source": [
    "<center><a href=\"https://pandas.pydata.org/docs/user_guide/merging.html#database-style-dataframe-or-named-series-joining-merging\"><img src=\"https://raw.githubusercontent.com/SMU-Econ-Growth/EconGrowthUG-Notebooks/c004a90a03c3633fd05cdbce96647e229fdc21d8/pics/merging_merge_on_key_multiple.png\" alt=\"concatenate\" width=1000/></center>"
   ]
  },
  {
   "cell_type": "markdown",
   "metadata": {
    "slideshow": {
     "slide_type": "subslide"
    },
    "tags": [],
    "user_expressions": []
   },
   "source": [
    "```python\n",
    "pd.merge([left, right], how=\"left\", on=[\"key1\", \"key2\"])\n",
    "```\n",
    "or\n",
    "```python\n",
    "left.merge(right, how=\"left\", on=[\"key1\", \"key2\"])\n",
    "```\n",
    "or\n",
    "```python\n",
    "right.merge(left, how=\"right\", on=[\"key1\", \"key2\"])\n",
    "```"
   ]
  },
  {
   "cell_type": "markdown",
   "metadata": {
    "slideshow": {
     "slide_type": "-"
    },
    "tags": [],
    "user_expressions": []
   },
   "source": [
    "<center><a href=\"https://pandas.pydata.org/docs/user_guide/merging.html#database-style-dataframe-or-named-series-joining-merging\"><img src=\"https://raw.githubusercontent.com/SMU-Econ-Growth/EconGrowthUG-Notebooks/c004a90a03c3633fd05cdbce96647e229fdc21d8/pics/merging_merge_on_key_left.png\" alt=\"concatenate\" width=1000/></center>"
   ]
  },
  {
   "cell_type": "markdown",
   "metadata": {
    "slideshow": {
     "slide_type": "subslide"
    },
    "tags": [],
    "user_expressions": []
   },
   "source": [
    "```python\n",
    "pd.merge([left, right], how=\"right\", on=[\"key1\", \"key2\"])\n",
    "```\n",
    "or\n",
    "```python\n",
    "left.merge(right, how=\"right\", on=[\"key1\", \"key2\"])\n",
    "```\n",
    "or\n",
    "```python\n",
    "right.merge(left, how=\"left\", on=[\"key1\", \"key2\"])\n",
    "```"
   ]
  },
  {
   "cell_type": "markdown",
   "metadata": {
    "slideshow": {
     "slide_type": "-"
    },
    "tags": [],
    "user_expressions": []
   },
   "source": [
    "<center><a href=\"https://pandas.pydata.org/docs/user_guide/merging.html#database-style-dataframe-or-named-series-joining-merging\"><img src=\"https://raw.githubusercontent.com/SMU-Econ-Growth/EconGrowthUG-Notebooks/c004a90a03c3633fd05cdbce96647e229fdc21d8/pics/merging_merge_on_key_right.png\" alt=\"concatenate\" width=1000/></center>"
   ]
  },
  {
   "cell_type": "markdown",
   "metadata": {
    "slideshow": {
     "slide_type": "subslide"
    },
    "tags": [],
    "user_expressions": []
   },
   "source": [
    "```python\n",
    "pd.merge([left, right], how=\"outer\", on=[\"key1\", \"key2\"])\n",
    "```\n",
    "or\n",
    "```python\n",
    "left.merge(right, how=\"outer\", on=[\"key1\", \"key2\"])\n",
    "```\n",
    "or\n",
    "```python\n",
    "right.merge(left, how=\"outer\", on=[\"key1\", \"key2\"])\n",
    "```"
   ]
  },
  {
   "cell_type": "markdown",
   "metadata": {
    "slideshow": {
     "slide_type": "-"
    },
    "tags": [],
    "user_expressions": []
   },
   "source": [
    "<center><a href=\"https://pandas.pydata.org/docs/user_guide/merging.html#database-style-dataframe-or-named-series-joining-merging\"><img src=\"https://raw.githubusercontent.com/SMU-Econ-Growth/EconGrowthUG-Notebooks/c004a90a03c3633fd05cdbce96647e229fdc21d8/pics/merging_merge_on_key_outer.png\" alt=\"concatenate\" width=1000/></center>"
   ]
  },
  {
   "cell_type": "markdown",
   "metadata": {
    "slideshow": {
     "slide_type": "slide"
    },
    "user_expressions": []
   },
   "source": [
    "# Many Other Options and Possibilities\n",
    "* [Working with Time Series](https://pandas.pydata.org/docs/getting_started/intro_tutorials/09_timeseries.html#min-tut-09-timeseries)\n",
    "* [Working with Text](https://pandas.pydata.org/docs/getting_started/intro_tutorials/10_text_data.html#min-tut-10-text)"
   ]
  },
  {
   "cell_type": "markdown",
   "metadata": {
    "slideshow": {
     "slide_type": "slide"
    },
    "tags": [],
    "user_expressions": []
   },
   "source": [
    "# <center>Examples</center>"
   ]
  },
  {
   "cell_type": "markdown",
   "metadata": {
    "slideshow": {
     "slide_type": "subslide"
    },
    "user_expressions": []
   },
   "source": [
    "# Example - Import data"
   ]
  },
  {
   "cell_type": "markdown",
   "metadata": {
    "slideshow": {
     "slide_type": "subslide"
    },
    "user_expressions": []
   },
   "source": [
    "## Let's import the table of countries' ISO codes from [Wikipedia](https://en.wikipedia.org/wiki/List_of_ISO_3166_country_codes)"
   ]
  },
  {
   "cell_type": "code",
   "execution_count": 2,
   "metadata": {
    "slideshow": {
     "slide_type": "subslide"
    }
   },
   "outputs": [
    {
     "data": {
      "text/html": [
       "\n",
       "        <iframe\n",
       "            width=\"800\"\n",
       "            height=\"400\"\n",
       "            src=\"https://en.wikipedia.org/wiki/List_of_ISO_3166_country_codes\"\n",
       "            frameborder=\"0\"\n",
       "            allowfullscreen\n",
       "            \n",
       "        ></iframe>\n",
       "        "
      ],
      "text/plain": [
       "<IPython.lib.display.IFrame at 0x1098e0250>"
      ]
     },
     "execution_count": 2,
     "metadata": {},
     "output_type": "execute_result"
    }
   ],
   "source": [
    "# Import display options for showing websites\n",
    "from IPython.display import IFrame\n",
    "url = 'https://en.wikipedia.org/wiki/List_of_ISO_3166_country_codes'\n",
    "IFrame(url, width=800, height=400)"
   ]
  },
  {
   "cell_type": "code",
   "execution_count": 3,
   "metadata": {
    "slideshow": {
     "slide_type": "subslide"
    }
   },
   "outputs": [
    {
     "data": {
      "text/html": [
       "<div>\n",
       "<style scoped>\n",
       "    .dataframe tbody tr th:only-of-type {\n",
       "        vertical-align: middle;\n",
       "    }\n",
       "\n",
       "    .dataframe tbody tr th {\n",
       "        vertical-align: top;\n",
       "    }\n",
       "\n",
       "    .dataframe thead tr th {\n",
       "        text-align: left;\n",
       "    }\n",
       "</style>\n",
       "<table border=\"1\" class=\"dataframe\">\n",
       "  <thead>\n",
       "    <tr>\n",
       "      <th></th>\n",
       "      <th>ISO 3166[1]</th>\n",
       "      <th>Unnamed: 1_level_0</th>\n",
       "      <th>Unnamed: 2_level_0</th>\n",
       "      <th colspan=\"3\" halign=\"left\">ISO 3166-1[2]</th>\n",
       "      <th>ISO 3166-2[3]</th>\n",
       "      <th>Unnamed: 7_level_0</th>\n",
       "    </tr>\n",
       "    <tr>\n",
       "      <th></th>\n",
       "      <th>Country name[5]</th>\n",
       "      <th>Official state name[6]</th>\n",
       "      <th>Sovereignty[6][7][8]</th>\n",
       "      <th>Alpha-2 code[5]</th>\n",
       "      <th>Alpha-3 code[5]</th>\n",
       "      <th>Numeric code[5]</th>\n",
       "      <th>Subdivision code links[3]</th>\n",
       "      <th>Internet ccTLD[9]</th>\n",
       "    </tr>\n",
       "  </thead>\n",
       "  <tbody>\n",
       "    <tr>\n",
       "      <th>0</th>\n",
       "      <td>Afghanistan</td>\n",
       "      <td>The Islamic Republic of Afghanistan</td>\n",
       "      <td>UN member state</td>\n",
       "      <td>.mw-parser-output .monospaced{font-family:mono...</td>\n",
       "      <td>AFG</td>\n",
       "      <td>004</td>\n",
       "      <td>ISO 3166-2:AF</td>\n",
       "      <td>.af</td>\n",
       "    </tr>\n",
       "    <tr>\n",
       "      <th>1</th>\n",
       "      <td>Åland Islands</td>\n",
       "      <td>Åland</td>\n",
       "      <td>Finland</td>\n",
       "      <td>AX</td>\n",
       "      <td>ALA</td>\n",
       "      <td>248</td>\n",
       "      <td>ISO 3166-2:AX</td>\n",
       "      <td>.ax</td>\n",
       "    </tr>\n",
       "    <tr>\n",
       "      <th>2</th>\n",
       "      <td>Albania</td>\n",
       "      <td>The Republic of Albania</td>\n",
       "      <td>UN member state</td>\n",
       "      <td>AL</td>\n",
       "      <td>ALB</td>\n",
       "      <td>008</td>\n",
       "      <td>ISO 3166-2:AL</td>\n",
       "      <td>.al</td>\n",
       "    </tr>\n",
       "    <tr>\n",
       "      <th>3</th>\n",
       "      <td>Algeria</td>\n",
       "      <td>The People's Democratic Republic of Algeria</td>\n",
       "      <td>UN member state</td>\n",
       "      <td>DZ</td>\n",
       "      <td>DZA</td>\n",
       "      <td>012</td>\n",
       "      <td>ISO 3166-2:DZ</td>\n",
       "      <td>.dz</td>\n",
       "    </tr>\n",
       "    <tr>\n",
       "      <th>4</th>\n",
       "      <td>American Samoa</td>\n",
       "      <td>The Territory of American Samoa</td>\n",
       "      <td>United States</td>\n",
       "      <td>AS</td>\n",
       "      <td>ASM</td>\n",
       "      <td>016</td>\n",
       "      <td>ISO 3166-2:AS</td>\n",
       "      <td>.as</td>\n",
       "    </tr>\n",
       "    <tr>\n",
       "      <th>...</th>\n",
       "      <td>...</td>\n",
       "      <td>...</td>\n",
       "      <td>...</td>\n",
       "      <td>...</td>\n",
       "      <td>...</td>\n",
       "      <td>...</td>\n",
       "      <td>...</td>\n",
       "      <td>...</td>\n",
       "    </tr>\n",
       "    <tr>\n",
       "      <th>266</th>\n",
       "      <td>Wallis and Futuna</td>\n",
       "      <td>The Territory of the Wallis and Futuna Islands</td>\n",
       "      <td>France</td>\n",
       "      <td>WF</td>\n",
       "      <td>WLF</td>\n",
       "      <td>876</td>\n",
       "      <td>ISO 3166-2:WF</td>\n",
       "      <td>.wf</td>\n",
       "    </tr>\n",
       "    <tr>\n",
       "      <th>267</th>\n",
       "      <td>Western Sahara [ai]</td>\n",
       "      <td>The Sahrawi Arab Democratic Republic</td>\n",
       "      <td>Disputed [aj]</td>\n",
       "      <td>EH</td>\n",
       "      <td>ESH</td>\n",
       "      <td>732</td>\n",
       "      <td>ISO 3166-2:EH</td>\n",
       "      <td>[ak]</td>\n",
       "    </tr>\n",
       "    <tr>\n",
       "      <th>268</th>\n",
       "      <td>Yemen</td>\n",
       "      <td>The Republic of Yemen</td>\n",
       "      <td>UN member state</td>\n",
       "      <td>YE</td>\n",
       "      <td>YEM</td>\n",
       "      <td>887</td>\n",
       "      <td>ISO 3166-2:YE</td>\n",
       "      <td>.ye</td>\n",
       "    </tr>\n",
       "    <tr>\n",
       "      <th>269</th>\n",
       "      <td>Zambia</td>\n",
       "      <td>The Republic of Zambia</td>\n",
       "      <td>UN member state</td>\n",
       "      <td>ZM</td>\n",
       "      <td>ZMB</td>\n",
       "      <td>894</td>\n",
       "      <td>ISO 3166-2:ZM</td>\n",
       "      <td>.zm</td>\n",
       "    </tr>\n",
       "    <tr>\n",
       "      <th>270</th>\n",
       "      <td>Zimbabwe</td>\n",
       "      <td>The Republic of Zimbabwe</td>\n",
       "      <td>UN member state</td>\n",
       "      <td>ZW</td>\n",
       "      <td>ZWE</td>\n",
       "      <td>716</td>\n",
       "      <td>ISO 3166-2:ZW</td>\n",
       "      <td>.zw</td>\n",
       "    </tr>\n",
       "  </tbody>\n",
       "</table>\n",
       "<p>271 rows × 8 columns</p>\n",
       "</div>"
      ],
      "text/plain": [
       "             ISO 3166[1]                              Unnamed: 1_level_0   Unnamed: 2_level_0                                      ISO 3166-1[2]                                  \\\n",
       "         Country name[5]                          Official state name[6] Sovereignty[6][7][8]                                    Alpha-2 code[5] Alpha-3 code[5] Numeric code[5]   \n",
       "0            Afghanistan             The Islamic Republic of Afghanistan      UN member state  .mw-parser-output .monospaced{font-family:mono...             AFG             004   \n",
       "1          Åland Islands                                           Åland              Finland                                                 AX             ALA             248   \n",
       "2                Albania                         The Republic of Albania      UN member state                                                 AL             ALB             008   \n",
       "3                Algeria     The People's Democratic Republic of Algeria      UN member state                                                 DZ             DZA             012   \n",
       "4         American Samoa                 The Territory of American Samoa        United States                                                 AS             ASM             016   \n",
       "..                   ...                                             ...                  ...                                                ...             ...             ...   \n",
       "266    Wallis and Futuna  The Territory of the Wallis and Futuna Islands               France                                                 WF             WLF             876   \n",
       "267  Western Sahara [ai]            The Sahrawi Arab Democratic Republic        Disputed [aj]                                                 EH             ESH             732   \n",
       "268                Yemen                           The Republic of Yemen      UN member state                                                 YE             YEM             887   \n",
       "269               Zambia                          The Republic of Zambia      UN member state                                                 ZM             ZMB             894   \n",
       "270             Zimbabwe                        The Republic of Zimbabwe      UN member state                                                 ZW             ZWE             716   \n",
       "\n",
       "                ISO 3166-2[3] Unnamed: 7_level_0  \n",
       "    Subdivision code links[3]  Internet ccTLD[9]  \n",
       "0               ISO 3166-2:AF                .af  \n",
       "1               ISO 3166-2:AX                .ax  \n",
       "2               ISO 3166-2:AL                .al  \n",
       "3               ISO 3166-2:DZ                .dz  \n",
       "4               ISO 3166-2:AS                .as  \n",
       "..                        ...                ...  \n",
       "266             ISO 3166-2:WF                .wf  \n",
       "267             ISO 3166-2:EH               [ak]  \n",
       "268             ISO 3166-2:YE                .ye  \n",
       "269             ISO 3166-2:ZM                .zm  \n",
       "270             ISO 3166-2:ZW                .zw  \n",
       "\n",
       "[271 rows x 8 columns]"
      ]
     },
     "execution_count": 3,
     "metadata": {},
     "output_type": "execute_result"
    }
   ],
   "source": [
    "isocodes = pd.read_html(url, encoding='utf-8')[0]\n",
    "isocodes"
   ]
  },
  {
   "cell_type": "markdown",
   "metadata": {
    "slideshow": {
     "slide_type": "subslide"
    },
    "user_expressions": []
   },
   "source": [
    "## Not perfect, but we can correct it and make it look nice"
   ]
  },
  {
   "cell_type": "code",
   "execution_count": 4,
   "metadata": {
    "slideshow": {
     "slide_type": "fragment"
    }
   },
   "outputs": [
    {
     "data": {
      "text/plain": [
       "MultiIndex([(       'ISO 3166[1]',           'Country name[5]'),\n",
       "            ('Unnamed: 1_level_0',    'Official state name[6]'),\n",
       "            ('Unnamed: 2_level_0',      'Sovereignty[6][7][8]'),\n",
       "            (     'ISO 3166-1[2]',           'Alpha-2 code[5]'),\n",
       "            (     'ISO 3166-1[2]',           'Alpha-3 code[5]'),\n",
       "            (     'ISO 3166-1[2]',           'Numeric code[5]'),\n",
       "            (     'ISO 3166-2[3]', 'Subdivision code links[3]'),\n",
       "            ('Unnamed: 7_level_0',         'Internet ccTLD[9]')],\n",
       "           )"
      ]
     },
     "execution_count": 4,
     "metadata": {},
     "output_type": "execute_result"
    }
   ],
   "source": [
    "isocodes.columns"
   ]
  },
  {
   "cell_type": "markdown",
   "metadata": {
    "slideshow": {
     "slide_type": "subslide"
    },
    "user_expressions": []
   },
   "source": [
    "## First, let's drop the first column index"
   ]
  },
  {
   "cell_type": "code",
   "execution_count": 5,
   "metadata": {
    "slideshow": {
     "slide_type": "fragment"
    }
   },
   "outputs": [
    {
     "data": {
      "text/html": [
       "<div>\n",
       "<style scoped>\n",
       "    .dataframe tbody tr th:only-of-type {\n",
       "        vertical-align: middle;\n",
       "    }\n",
       "\n",
       "    .dataframe tbody tr th {\n",
       "        vertical-align: top;\n",
       "    }\n",
       "\n",
       "    .dataframe thead th {\n",
       "        text-align: right;\n",
       "    }\n",
       "</style>\n",
       "<table border=\"1\" class=\"dataframe\">\n",
       "  <thead>\n",
       "    <tr style=\"text-align: right;\">\n",
       "      <th></th>\n",
       "      <th>Country name[5]</th>\n",
       "      <th>Official state name[6]</th>\n",
       "      <th>Sovereignty[6][7][8]</th>\n",
       "      <th>Alpha-2 code[5]</th>\n",
       "      <th>Alpha-3 code[5]</th>\n",
       "      <th>Numeric code[5]</th>\n",
       "      <th>Subdivision code links[3]</th>\n",
       "      <th>Internet ccTLD[9]</th>\n",
       "    </tr>\n",
       "  </thead>\n",
       "  <tbody>\n",
       "    <tr>\n",
       "      <th>0</th>\n",
       "      <td>Afghanistan</td>\n",
       "      <td>The Islamic Republic of Afghanistan</td>\n",
       "      <td>UN member state</td>\n",
       "      <td>.mw-parser-output .monospaced{font-family:mono...</td>\n",
       "      <td>AFG</td>\n",
       "      <td>004</td>\n",
       "      <td>ISO 3166-2:AF</td>\n",
       "      <td>.af</td>\n",
       "    </tr>\n",
       "    <tr>\n",
       "      <th>1</th>\n",
       "      <td>Åland Islands</td>\n",
       "      <td>Åland</td>\n",
       "      <td>Finland</td>\n",
       "      <td>AX</td>\n",
       "      <td>ALA</td>\n",
       "      <td>248</td>\n",
       "      <td>ISO 3166-2:AX</td>\n",
       "      <td>.ax</td>\n",
       "    </tr>\n",
       "    <tr>\n",
       "      <th>2</th>\n",
       "      <td>Albania</td>\n",
       "      <td>The Republic of Albania</td>\n",
       "      <td>UN member state</td>\n",
       "      <td>AL</td>\n",
       "      <td>ALB</td>\n",
       "      <td>008</td>\n",
       "      <td>ISO 3166-2:AL</td>\n",
       "      <td>.al</td>\n",
       "    </tr>\n",
       "    <tr>\n",
       "      <th>3</th>\n",
       "      <td>Algeria</td>\n",
       "      <td>The People's Democratic Republic of Algeria</td>\n",
       "      <td>UN member state</td>\n",
       "      <td>DZ</td>\n",
       "      <td>DZA</td>\n",
       "      <td>012</td>\n",
       "      <td>ISO 3166-2:DZ</td>\n",
       "      <td>.dz</td>\n",
       "    </tr>\n",
       "    <tr>\n",
       "      <th>4</th>\n",
       "      <td>American Samoa</td>\n",
       "      <td>The Territory of American Samoa</td>\n",
       "      <td>United States</td>\n",
       "      <td>AS</td>\n",
       "      <td>ASM</td>\n",
       "      <td>016</td>\n",
       "      <td>ISO 3166-2:AS</td>\n",
       "      <td>.as</td>\n",
       "    </tr>\n",
       "  </tbody>\n",
       "</table>\n",
       "</div>"
      ],
      "text/plain": [
       "  Country name[5]                       Official state name[6] Sovereignty[6][7][8]                                    Alpha-2 code[5] Alpha-3 code[5] Numeric code[5]  \\\n",
       "0     Afghanistan          The Islamic Republic of Afghanistan      UN member state  .mw-parser-output .monospaced{font-family:mono...             AFG             004   \n",
       "1   Åland Islands                                        Åland              Finland                                                 AX             ALA             248   \n",
       "2         Albania                      The Republic of Albania      UN member state                                                 AL             ALB             008   \n",
       "3         Algeria  The People's Democratic Republic of Algeria      UN member state                                                 DZ             DZA             012   \n",
       "4  American Samoa              The Territory of American Samoa        United States                                                 AS             ASM             016   \n",
       "\n",
       "  Subdivision code links[3] Internet ccTLD[9]  \n",
       "0             ISO 3166-2:AF               .af  \n",
       "1             ISO 3166-2:AX               .ax  \n",
       "2             ISO 3166-2:AL               .al  \n",
       "3             ISO 3166-2:DZ               .dz  \n",
       "4             ISO 3166-2:AS               .as  "
      ]
     },
     "execution_count": 5,
     "metadata": {},
     "output_type": "execute_result"
    }
   ],
   "source": [
    "isocodes = isocodes.droplevel(0, axis=1)\n",
    "isocodes.head()"
   ]
  },
  {
   "cell_type": "markdown",
   "metadata": {
    "slideshow": {
     "slide_type": "subslide"
    },
    "user_expressions": []
   },
   "source": [
    "## Second, let's correct column names"
   ]
  },
  {
   "cell_type": "code",
   "execution_count": 6,
   "metadata": {
    "slideshow": {
     "slide_type": "fragment"
    }
   },
   "outputs": [
    {
     "data": {
      "text/plain": [
       "['Country name',\n",
       " 'Official state name',\n",
       " 'Sovereignty',\n",
       " 'Alpha-2 code',\n",
       " 'Alpha-3 code',\n",
       " 'Numeric code',\n",
       " 'Subdivision code links',\n",
       " 'Internet ccTLD']"
      ]
     },
     "execution_count": 6,
     "metadata": {},
     "output_type": "execute_result"
    }
   ],
   "source": [
    "mycols = isocodes.columns\n",
    "mycols = [c[:c.find('[')] for c in mycols]\n",
    "mycols"
   ]
  },
  {
   "cell_type": "code",
   "execution_count": 7,
   "metadata": {
    "slideshow": {
     "slide_type": "subslide"
    }
   },
   "outputs": [
    {
     "data": {
      "text/html": [
       "<div>\n",
       "<style scoped>\n",
       "    .dataframe tbody tr th:only-of-type {\n",
       "        vertical-align: middle;\n",
       "    }\n",
       "\n",
       "    .dataframe tbody tr th {\n",
       "        vertical-align: top;\n",
       "    }\n",
       "\n",
       "    .dataframe thead th {\n",
       "        text-align: right;\n",
       "    }\n",
       "</style>\n",
       "<table border=\"1\" class=\"dataframe\">\n",
       "  <thead>\n",
       "    <tr style=\"text-align: right;\">\n",
       "      <th></th>\n",
       "      <th>Country name</th>\n",
       "      <th>Official state name</th>\n",
       "      <th>Sovereignty</th>\n",
       "      <th>Alpha-2 code</th>\n",
       "      <th>Alpha-3 code</th>\n",
       "      <th>Numeric code</th>\n",
       "      <th>Subdivision code links</th>\n",
       "      <th>Internet ccTLD</th>\n",
       "    </tr>\n",
       "  </thead>\n",
       "  <tbody>\n",
       "    <tr>\n",
       "      <th>0</th>\n",
       "      <td>Afghanistan</td>\n",
       "      <td>The Islamic Republic of Afghanistan</td>\n",
       "      <td>UN member state</td>\n",
       "      <td>.mw-parser-output .monospaced{font-family:mono...</td>\n",
       "      <td>AFG</td>\n",
       "      <td>004</td>\n",
       "      <td>ISO 3166-2:AF</td>\n",
       "      <td>.af</td>\n",
       "    </tr>\n",
       "    <tr>\n",
       "      <th>1</th>\n",
       "      <td>Åland Islands</td>\n",
       "      <td>Åland</td>\n",
       "      <td>Finland</td>\n",
       "      <td>AX</td>\n",
       "      <td>ALA</td>\n",
       "      <td>248</td>\n",
       "      <td>ISO 3166-2:AX</td>\n",
       "      <td>.ax</td>\n",
       "    </tr>\n",
       "    <tr>\n",
       "      <th>2</th>\n",
       "      <td>Albania</td>\n",
       "      <td>The Republic of Albania</td>\n",
       "      <td>UN member state</td>\n",
       "      <td>AL</td>\n",
       "      <td>ALB</td>\n",
       "      <td>008</td>\n",
       "      <td>ISO 3166-2:AL</td>\n",
       "      <td>.al</td>\n",
       "    </tr>\n",
       "    <tr>\n",
       "      <th>3</th>\n",
       "      <td>Algeria</td>\n",
       "      <td>The People's Democratic Republic of Algeria</td>\n",
       "      <td>UN member state</td>\n",
       "      <td>DZ</td>\n",
       "      <td>DZA</td>\n",
       "      <td>012</td>\n",
       "      <td>ISO 3166-2:DZ</td>\n",
       "      <td>.dz</td>\n",
       "    </tr>\n",
       "    <tr>\n",
       "      <th>4</th>\n",
       "      <td>American Samoa</td>\n",
       "      <td>The Territory of American Samoa</td>\n",
       "      <td>United States</td>\n",
       "      <td>AS</td>\n",
       "      <td>ASM</td>\n",
       "      <td>016</td>\n",
       "      <td>ISO 3166-2:AS</td>\n",
       "      <td>.as</td>\n",
       "    </tr>\n",
       "  </tbody>\n",
       "</table>\n",
       "</div>"
      ],
      "text/plain": [
       "     Country name                          Official state name      Sovereignty                                       Alpha-2 code Alpha-3 code Numeric code  \\\n",
       "0     Afghanistan          The Islamic Republic of Afghanistan  UN member state  .mw-parser-output .monospaced{font-family:mono...          AFG          004   \n",
       "1   Åland Islands                                        Åland          Finland                                                 AX          ALA          248   \n",
       "2         Albania                      The Republic of Albania  UN member state                                                 AL          ALB          008   \n",
       "3         Algeria  The People's Democratic Republic of Algeria  UN member state                                                 DZ          DZA          012   \n",
       "4  American Samoa              The Territory of American Samoa    United States                                                 AS          ASM          016   \n",
       "\n",
       "  Subdivision code links Internet ccTLD  \n",
       "0          ISO 3166-2:AF            .af  \n",
       "1          ISO 3166-2:AX            .ax  \n",
       "2          ISO 3166-2:AL            .al  \n",
       "3          ISO 3166-2:DZ            .dz  \n",
       "4          ISO 3166-2:AS            .as  "
      ]
     },
     "execution_count": 7,
     "metadata": {},
     "output_type": "execute_result"
    }
   ],
   "source": [
    "isocodes.columns = mycols\n",
    "isocodes.head()"
   ]
  },
  {
   "cell_type": "markdown",
   "metadata": {
    "slideshow": {
     "slide_type": "subslide"
    },
    "user_expressions": []
   },
   "source": [
    "## Third, let's correct `Alpha-2 code` using `Subdivision code links`"
   ]
  },
  {
   "cell_type": "code",
   "execution_count": 8,
   "metadata": {
    "slideshow": {
     "slide_type": "fragment"
    }
   },
   "outputs": [
    {
     "data": {
      "text/html": [
       "<div>\n",
       "<style scoped>\n",
       "    .dataframe tbody tr th:only-of-type {\n",
       "        vertical-align: middle;\n",
       "    }\n",
       "\n",
       "    .dataframe tbody tr th {\n",
       "        vertical-align: top;\n",
       "    }\n",
       "\n",
       "    .dataframe thead th {\n",
       "        text-align: right;\n",
       "    }\n",
       "</style>\n",
       "<table border=\"1\" class=\"dataframe\">\n",
       "  <thead>\n",
       "    <tr style=\"text-align: right;\">\n",
       "      <th></th>\n",
       "      <th>Country name</th>\n",
       "      <th>Official state name</th>\n",
       "      <th>Sovereignty</th>\n",
       "      <th>Alpha-2 code</th>\n",
       "      <th>Alpha-3 code</th>\n",
       "      <th>Numeric code</th>\n",
       "      <th>Subdivision code links</th>\n",
       "      <th>Internet ccTLD</th>\n",
       "      <th>Alpha-2 code original</th>\n",
       "    </tr>\n",
       "  </thead>\n",
       "  <tbody>\n",
       "    <tr>\n",
       "      <th>0</th>\n",
       "      <td>Afghanistan</td>\n",
       "      <td>The Islamic Republic of Afghanistan</td>\n",
       "      <td>UN member state</td>\n",
       "      <td>AF</td>\n",
       "      <td>AFG</td>\n",
       "      <td>004</td>\n",
       "      <td>ISO 3166-2:AF</td>\n",
       "      <td>.af</td>\n",
       "      <td>.mw-parser-output .monospaced{font-family:mono...</td>\n",
       "    </tr>\n",
       "    <tr>\n",
       "      <th>1</th>\n",
       "      <td>Åland Islands</td>\n",
       "      <td>Åland</td>\n",
       "      <td>Finland</td>\n",
       "      <td>AX</td>\n",
       "      <td>ALA</td>\n",
       "      <td>248</td>\n",
       "      <td>ISO 3166-2:AX</td>\n",
       "      <td>.ax</td>\n",
       "      <td>AX</td>\n",
       "    </tr>\n",
       "    <tr>\n",
       "      <th>2</th>\n",
       "      <td>Albania</td>\n",
       "      <td>The Republic of Albania</td>\n",
       "      <td>UN member state</td>\n",
       "      <td>AL</td>\n",
       "      <td>ALB</td>\n",
       "      <td>008</td>\n",
       "      <td>ISO 3166-2:AL</td>\n",
       "      <td>.al</td>\n",
       "      <td>AL</td>\n",
       "    </tr>\n",
       "    <tr>\n",
       "      <th>3</th>\n",
       "      <td>Algeria</td>\n",
       "      <td>The People's Democratic Republic of Algeria</td>\n",
       "      <td>UN member state</td>\n",
       "      <td>DZ</td>\n",
       "      <td>DZA</td>\n",
       "      <td>012</td>\n",
       "      <td>ISO 3166-2:DZ</td>\n",
       "      <td>.dz</td>\n",
       "      <td>DZ</td>\n",
       "    </tr>\n",
       "    <tr>\n",
       "      <th>4</th>\n",
       "      <td>American Samoa</td>\n",
       "      <td>The Territory of American Samoa</td>\n",
       "      <td>United States</td>\n",
       "      <td>AS</td>\n",
       "      <td>ASM</td>\n",
       "      <td>016</td>\n",
       "      <td>ISO 3166-2:AS</td>\n",
       "      <td>.as</td>\n",
       "      <td>AS</td>\n",
       "    </tr>\n",
       "  </tbody>\n",
       "</table>\n",
       "</div>"
      ],
      "text/plain": [
       "     Country name                          Official state name      Sovereignty Alpha-2 code Alpha-3 code Numeric code Subdivision code links Internet ccTLD  \\\n",
       "0     Afghanistan          The Islamic Republic of Afghanistan  UN member state           AF          AFG          004          ISO 3166-2:AF            .af   \n",
       "1   Åland Islands                                        Åland          Finland           AX          ALA          248          ISO 3166-2:AX            .ax   \n",
       "2         Albania                      The Republic of Albania  UN member state           AL          ALB          008          ISO 3166-2:AL            .al   \n",
       "3         Algeria  The People's Democratic Republic of Algeria  UN member state           DZ          DZA          012          ISO 3166-2:DZ            .dz   \n",
       "4  American Samoa              The Territory of American Samoa    United States           AS          ASM          016          ISO 3166-2:AS            .as   \n",
       "\n",
       "                               Alpha-2 code original  \n",
       "0  .mw-parser-output .monospaced{font-family:mono...  \n",
       "1                                                 AX  \n",
       "2                                                 AL  \n",
       "3                                                 DZ  \n",
       "4                                                 AS  "
      ]
     },
     "execution_count": 8,
     "metadata": {},
     "output_type": "execute_result"
    }
   ],
   "source": [
    "isocodes['Alpha-2 code original'] = isocodes['Alpha-2 code']\n",
    "isocodes['Alpha-2 code'] = isocodes['Subdivision code links'].apply(lambda x: x[x.find(':')+1:])\n",
    "isocodes.head()"
   ]
  },
  {
   "cell_type": "markdown",
   "metadata": {
    "slideshow": {
     "slide_type": "subslide"
    },
    "user_expressions": []
   },
   "source": [
    "## Now, let's import the table of countries' GDP per capita (PPP) from [Wikipedia](https://en.wikipedia.org/wiki/List_of_countries_by_GDP_(PPP)_per_capita)"
   ]
  },
  {
   "cell_type": "code",
   "execution_count": 9,
   "metadata": {
    "slideshow": {
     "slide_type": "subslide"
    }
   },
   "outputs": [
    {
     "data": {
      "text/html": [
       "\n",
       "        <iframe\n",
       "            width=\"800\"\n",
       "            height=\"400\"\n",
       "            src=\"https://en.wikipedia.org/wiki/List_of_countries_by_GDP_(PPP)_per_capita\"\n",
       "            frameborder=\"0\"\n",
       "            allowfullscreen\n",
       "            \n",
       "        ></iframe>\n",
       "        "
      ],
      "text/plain": [
       "<IPython.lib.display.IFrame at 0x1864179a0>"
      ]
     },
     "execution_count": 9,
     "metadata": {},
     "output_type": "execute_result"
    }
   ],
   "source": [
    "url = 'https://en.wikipedia.org/wiki/List_of_countries_by_GDP_(PPP)_per_capita'\n",
    "IFrame(url, width=800, height=400)"
   ]
  },
  {
   "cell_type": "code",
   "execution_count": 10,
   "metadata": {
    "slideshow": {
     "slide_type": "subslide"
    }
   },
   "outputs": [
    {
     "data": {
      "text/html": [
       "<div>\n",
       "<style scoped>\n",
       "    .dataframe tbody tr th:only-of-type {\n",
       "        vertical-align: middle;\n",
       "    }\n",
       "\n",
       "    .dataframe tbody tr th {\n",
       "        vertical-align: top;\n",
       "    }\n",
       "\n",
       "    .dataframe thead tr th {\n",
       "        text-align: left;\n",
       "    }\n",
       "</style>\n",
       "<table border=\"1\" class=\"dataframe\">\n",
       "  <thead>\n",
       "    <tr>\n",
       "      <th></th>\n",
       "      <th>Country/Territory</th>\n",
       "      <th>UN Region</th>\n",
       "      <th colspan=\"2\" halign=\"left\">IMF[5][6][7]</th>\n",
       "      <th colspan=\"2\" halign=\"left\">World Bank[8]</th>\n",
       "      <th colspan=\"2\" halign=\"left\">CIA[9][10][11]</th>\n",
       "    </tr>\n",
       "    <tr>\n",
       "      <th></th>\n",
       "      <th>Country/Territory</th>\n",
       "      <th>UN Region</th>\n",
       "      <th>Estimate</th>\n",
       "      <th>Year</th>\n",
       "      <th>Estimate</th>\n",
       "      <th>Year</th>\n",
       "      <th>Estimate</th>\n",
       "      <th>Year</th>\n",
       "    </tr>\n",
       "  </thead>\n",
       "  <tbody>\n",
       "    <tr>\n",
       "      <th>0</th>\n",
       "      <td>Luxembourg *</td>\n",
       "      <td>Europe</td>\n",
       "      <td>141587</td>\n",
       "      <td>2022</td>\n",
       "      <td>134754</td>\n",
       "      <td>2021</td>\n",
       "      <td>110300</td>\n",
       "      <td>2020</td>\n",
       "    </tr>\n",
       "    <tr>\n",
       "      <th>1</th>\n",
       "      <td>Liechtenstein *</td>\n",
       "      <td>Europe</td>\n",
       "      <td>—</td>\n",
       "      <td>—</td>\n",
       "      <td>—</td>\n",
       "      <td>—</td>\n",
       "      <td>139100</td>\n",
       "      <td>2009</td>\n",
       "    </tr>\n",
       "    <tr>\n",
       "      <th>2</th>\n",
       "      <td>Singapore *</td>\n",
       "      <td>Asia</td>\n",
       "      <td>131426</td>\n",
       "      <td>2022</td>\n",
       "      <td>116487</td>\n",
       "      <td>2021</td>\n",
       "      <td>93400</td>\n",
       "      <td>2020</td>\n",
       "    </tr>\n",
       "    <tr>\n",
       "      <th>3</th>\n",
       "      <td>Ireland *</td>\n",
       "      <td>Europe</td>\n",
       "      <td>131034</td>\n",
       "      <td>2022</td>\n",
       "      <td>106456</td>\n",
       "      <td>2021</td>\n",
       "      <td>89700</td>\n",
       "      <td>2020</td>\n",
       "    </tr>\n",
       "    <tr>\n",
       "      <th>4</th>\n",
       "      <td>Monaco *</td>\n",
       "      <td>Europe</td>\n",
       "      <td>—</td>\n",
       "      <td>—</td>\n",
       "      <td>—</td>\n",
       "      <td>—</td>\n",
       "      <td>115700</td>\n",
       "      <td>2015</td>\n",
       "    </tr>\n",
       "    <tr>\n",
       "      <th>...</th>\n",
       "      <td>...</td>\n",
       "      <td>...</td>\n",
       "      <td>...</td>\n",
       "      <td>...</td>\n",
       "      <td>...</td>\n",
       "      <td>...</td>\n",
       "      <td>...</td>\n",
       "      <td>...</td>\n",
       "    </tr>\n",
       "    <tr>\n",
       "      <th>225</th>\n",
       "      <td>DR Congo *</td>\n",
       "      <td>Africa</td>\n",
       "      <td>1328</td>\n",
       "      <td>2022</td>\n",
       "      <td>1219</td>\n",
       "      <td>2021</td>\n",
       "      <td>1100</td>\n",
       "      <td>2020</td>\n",
       "    </tr>\n",
       "    <tr>\n",
       "      <th>226</th>\n",
       "      <td>Somalia *</td>\n",
       "      <td>Africa</td>\n",
       "      <td>1322</td>\n",
       "      <td>2022</td>\n",
       "      <td>1303</td>\n",
       "      <td>2021</td>\n",
       "      <td>800</td>\n",
       "      <td>2020</td>\n",
       "    </tr>\n",
       "    <tr>\n",
       "      <th>227</th>\n",
       "      <td>Central African Republic *</td>\n",
       "      <td>Africa</td>\n",
       "      <td>1088</td>\n",
       "      <td>2022</td>\n",
       "      <td>1021</td>\n",
       "      <td>2021</td>\n",
       "      <td>900</td>\n",
       "      <td>2020</td>\n",
       "    </tr>\n",
       "    <tr>\n",
       "      <th>228</th>\n",
       "      <td>South Sudan *</td>\n",
       "      <td>Africa</td>\n",
       "      <td>934</td>\n",
       "      <td>2022</td>\n",
       "      <td>1235</td>\n",
       "      <td>2015</td>\n",
       "      <td>1600</td>\n",
       "      <td>2017</td>\n",
       "    </tr>\n",
       "    <tr>\n",
       "      <th>229</th>\n",
       "      <td>Burundi *</td>\n",
       "      <td>Africa</td>\n",
       "      <td>865</td>\n",
       "      <td>2022</td>\n",
       "      <td>793</td>\n",
       "      <td>2021</td>\n",
       "      <td>700</td>\n",
       "      <td>2020</td>\n",
       "    </tr>\n",
       "  </tbody>\n",
       "</table>\n",
       "<p>230 rows × 8 columns</p>\n",
       "</div>"
      ],
      "text/plain": [
       "              Country/Territory UN Region IMF[5][6][7]       World Bank[8]       CIA[9][10][11]      \n",
       "              Country/Territory UN Region     Estimate  Year      Estimate  Year       Estimate  Year\n",
       "0                  Luxembourg *    Europe       141587  2022        134754  2021         110300  2020\n",
       "1               Liechtenstein *    Europe            —     —             —     —         139100  2009\n",
       "2                   Singapore *      Asia       131426  2022        116487  2021          93400  2020\n",
       "3                     Ireland *    Europe       131034  2022        106456  2021          89700  2020\n",
       "4                      Monaco *    Europe            —     —             —     —         115700  2015\n",
       "..                          ...       ...          ...   ...           ...   ...            ...   ...\n",
       "225                  DR Congo *    Africa         1328  2022          1219  2021           1100  2020\n",
       "226                   Somalia *    Africa         1322  2022          1303  2021            800  2020\n",
       "227  Central African Republic *    Africa         1088  2022          1021  2021            900  2020\n",
       "228               South Sudan *    Africa          934  2022          1235  2015           1600  2017\n",
       "229                   Burundi *    Africa          865  2022           793  2021            700  2020\n",
       "\n",
       "[230 rows x 8 columns]"
      ]
     },
     "execution_count": 10,
     "metadata": {},
     "output_type": "execute_result"
    }
   ],
   "source": [
    "gdppc_wiki = pd.read_html(url, encoding='utf-8')[1]\n",
    "gdppc_wiki"
   ]
  },
  {
   "cell_type": "markdown",
   "metadata": {
    "slideshow": {
     "slide_type": "subslide"
    },
    "tags": [],
    "user_expressions": []
   },
   "source": [
    "## Again we need to clean the data a little bit"
   ]
  },
  {
   "cell_type": "code",
   "execution_count": 11,
   "metadata": {
    "slideshow": {
     "slide_type": "fragment"
    }
   },
   "outputs": [
    {
     "data": {
      "text/html": [
       "<div>\n",
       "<style scoped>\n",
       "    .dataframe tbody tr th:only-of-type {\n",
       "        vertical-align: middle;\n",
       "    }\n",
       "\n",
       "    .dataframe tbody tr th {\n",
       "        vertical-align: top;\n",
       "    }\n",
       "\n",
       "    .dataframe thead th {\n",
       "        text-align: right;\n",
       "    }\n",
       "</style>\n",
       "<table border=\"1\" class=\"dataframe\">\n",
       "  <thead>\n",
       "    <tr style=\"text-align: right;\">\n",
       "      <th></th>\n",
       "      <th>Country/Territory</th>\n",
       "      <th>UN Region</th>\n",
       "      <th>gdppc_IMF</th>\n",
       "      <th>year_IMF</th>\n",
       "      <th>gdppc_WB</th>\n",
       "      <th>year_WB</th>\n",
       "      <th>gdppc_CIA</th>\n",
       "      <th>year_CIA</th>\n",
       "    </tr>\n",
       "  </thead>\n",
       "  <tbody>\n",
       "    <tr>\n",
       "      <th>0</th>\n",
       "      <td>Luxembourg *</td>\n",
       "      <td>Europe</td>\n",
       "      <td>141587</td>\n",
       "      <td>2022</td>\n",
       "      <td>134754</td>\n",
       "      <td>2021</td>\n",
       "      <td>110300</td>\n",
       "      <td>2020</td>\n",
       "    </tr>\n",
       "    <tr>\n",
       "      <th>1</th>\n",
       "      <td>Liechtenstein *</td>\n",
       "      <td>Europe</td>\n",
       "      <td>—</td>\n",
       "      <td>—</td>\n",
       "      <td>—</td>\n",
       "      <td>—</td>\n",
       "      <td>139100</td>\n",
       "      <td>2009</td>\n",
       "    </tr>\n",
       "    <tr>\n",
       "      <th>2</th>\n",
       "      <td>Singapore *</td>\n",
       "      <td>Asia</td>\n",
       "      <td>131426</td>\n",
       "      <td>2022</td>\n",
       "      <td>116487</td>\n",
       "      <td>2021</td>\n",
       "      <td>93400</td>\n",
       "      <td>2020</td>\n",
       "    </tr>\n",
       "    <tr>\n",
       "      <th>3</th>\n",
       "      <td>Ireland *</td>\n",
       "      <td>Europe</td>\n",
       "      <td>131034</td>\n",
       "      <td>2022</td>\n",
       "      <td>106456</td>\n",
       "      <td>2021</td>\n",
       "      <td>89700</td>\n",
       "      <td>2020</td>\n",
       "    </tr>\n",
       "    <tr>\n",
       "      <th>4</th>\n",
       "      <td>Monaco *</td>\n",
       "      <td>Europe</td>\n",
       "      <td>—</td>\n",
       "      <td>—</td>\n",
       "      <td>—</td>\n",
       "      <td>—</td>\n",
       "      <td>115700</td>\n",
       "      <td>2015</td>\n",
       "    </tr>\n",
       "  </tbody>\n",
       "</table>\n",
       "</div>"
      ],
      "text/plain": [
       "  Country/Territory UN Region gdppc_IMF year_IMF gdppc_WB year_WB  gdppc_CIA year_CIA\n",
       "0      Luxembourg *    Europe    141587     2022   134754    2021     110300     2020\n",
       "1   Liechtenstein *    Europe         —        —        —       —     139100     2009\n",
       "2       Singapore *      Asia    131426     2022   116487    2021      93400     2020\n",
       "3         Ireland *    Europe    131034     2022   106456    2021      89700     2020\n",
       "4          Monaco *    Europe         —        —        —       —     115700     2015"
      ]
     },
     "execution_count": 11,
     "metadata": {},
     "output_type": "execute_result"
    }
   ],
   "source": [
    "gdppc_wiki.columns = ['Country/Territory', 'UN Region', 'gdppc_IMF', 'year_IMF',\n",
    "                      'gdppc_WB', 'year_WB', 'gdppc_CIA', 'year_CIA']\n",
    "gdppc_wiki.head()"
   ]
  },
  {
   "cell_type": "markdown",
   "metadata": {
    "slideshow": {
     "slide_type": "subslide"
    },
    "tags": [],
    "user_expressions": []
   },
   "source": [
    "## Let's eliminate the * in the country names"
   ]
  },
  {
   "cell_type": "code",
   "execution_count": 12,
   "metadata": {
    "slideshow": {
     "slide_type": "fragment"
    }
   },
   "outputs": [
    {
     "data": {
      "text/html": [
       "<div>\n",
       "<style scoped>\n",
       "    .dataframe tbody tr th:only-of-type {\n",
       "        vertical-align: middle;\n",
       "    }\n",
       "\n",
       "    .dataframe tbody tr th {\n",
       "        vertical-align: top;\n",
       "    }\n",
       "\n",
       "    .dataframe thead th {\n",
       "        text-align: right;\n",
       "    }\n",
       "</style>\n",
       "<table border=\"1\" class=\"dataframe\">\n",
       "  <thead>\n",
       "    <tr style=\"text-align: right;\">\n",
       "      <th></th>\n",
       "      <th>Country/Territory</th>\n",
       "      <th>UN Region</th>\n",
       "      <th>gdppc_IMF</th>\n",
       "      <th>year_IMF</th>\n",
       "      <th>gdppc_WB</th>\n",
       "      <th>year_WB</th>\n",
       "      <th>gdppc_CIA</th>\n",
       "      <th>year_CIA</th>\n",
       "      <th>country_name</th>\n",
       "    </tr>\n",
       "  </thead>\n",
       "  <tbody>\n",
       "    <tr>\n",
       "      <th>0</th>\n",
       "      <td>Luxembourg *</td>\n",
       "      <td>Europe</td>\n",
       "      <td>141587</td>\n",
       "      <td>2022</td>\n",
       "      <td>134754</td>\n",
       "      <td>2021</td>\n",
       "      <td>110300</td>\n",
       "      <td>2020</td>\n",
       "      <td>Luxembourg</td>\n",
       "    </tr>\n",
       "    <tr>\n",
       "      <th>1</th>\n",
       "      <td>Liechtenstein *</td>\n",
       "      <td>Europe</td>\n",
       "      <td>—</td>\n",
       "      <td>—</td>\n",
       "      <td>—</td>\n",
       "      <td>—</td>\n",
       "      <td>139100</td>\n",
       "      <td>2009</td>\n",
       "      <td>Liechtenstein</td>\n",
       "    </tr>\n",
       "    <tr>\n",
       "      <th>2</th>\n",
       "      <td>Singapore *</td>\n",
       "      <td>Asia</td>\n",
       "      <td>131426</td>\n",
       "      <td>2022</td>\n",
       "      <td>116487</td>\n",
       "      <td>2021</td>\n",
       "      <td>93400</td>\n",
       "      <td>2020</td>\n",
       "      <td>Singapore</td>\n",
       "    </tr>\n",
       "    <tr>\n",
       "      <th>3</th>\n",
       "      <td>Ireland *</td>\n",
       "      <td>Europe</td>\n",
       "      <td>131034</td>\n",
       "      <td>2022</td>\n",
       "      <td>106456</td>\n",
       "      <td>2021</td>\n",
       "      <td>89700</td>\n",
       "      <td>2020</td>\n",
       "      <td>Ireland</td>\n",
       "    </tr>\n",
       "    <tr>\n",
       "      <th>4</th>\n",
       "      <td>Monaco *</td>\n",
       "      <td>Europe</td>\n",
       "      <td>—</td>\n",
       "      <td>—</td>\n",
       "      <td>—</td>\n",
       "      <td>—</td>\n",
       "      <td>115700</td>\n",
       "      <td>2015</td>\n",
       "      <td>Monaco</td>\n",
       "    </tr>\n",
       "  </tbody>\n",
       "</table>\n",
       "</div>"
      ],
      "text/plain": [
       "  Country/Territory UN Region gdppc_IMF year_IMF gdppc_WB year_WB  gdppc_CIA year_CIA   country_name\n",
       "0      Luxembourg *    Europe    141587     2022   134754    2021     110300     2020     Luxembourg\n",
       "1   Liechtenstein *    Europe         —        —        —       —     139100     2009  Liechtenstein\n",
       "2       Singapore *      Asia    131426     2022   116487    2021      93400     2020      Singapore\n",
       "3         Ireland *    Europe    131034     2022   106456    2021      89700     2020        Ireland\n",
       "4          Monaco *    Europe         —        —        —       —     115700     2015         Monaco"
      ]
     },
     "execution_count": 12,
     "metadata": {},
     "output_type": "execute_result"
    }
   ],
   "source": [
    "gdppc_wiki['country_name'] = gdppc_wiki['Country/Territory'].str.replace('*', '', regex=True).str.strip()\n",
    "gdppc_wiki.head()"
   ]
  },
  {
   "cell_type": "markdown",
   "metadata": {
    "slideshow": {
     "slide_type": "subslide"
    },
    "tags": [],
    "user_expressions": []
   },
   "source": [
    "# Let's make sure years and GDPpc columns are treated as numbers"
   ]
  },
  {
   "cell_type": "code",
   "execution_count": 13,
   "metadata": {
    "slideshow": {
     "slide_type": "fragment"
    }
   },
   "outputs": [
    {
     "data": {
      "text/plain": [
       "Country/Territory    object\n",
       "UN Region            object\n",
       "gdppc_IMF            object\n",
       "year_IMF             object\n",
       "gdppc_WB             object\n",
       "year_WB              object\n",
       "gdppc_CIA             int64\n",
       "year_CIA             object\n",
       "country_name         object\n",
       "dtype: object"
      ]
     },
     "execution_count": 13,
     "metadata": {},
     "output_type": "execute_result"
    }
   ],
   "source": [
    "gdppc_wiki.dtypes"
   ]
  },
  {
   "cell_type": "code",
   "execution_count": 14,
   "metadata": {
    "slideshow": {
     "slide_type": "subslide"
    }
   },
   "outputs": [],
   "source": [
    "for c in gdppc_wiki.columns[2:-1]:\n",
    "    if gdppc_wiki[c].dtype=='O':\n",
    "        gdppc_wiki[c] = pd.to_numeric(gdppc_wiki[c].str.replace('—', 'nan'), errors='coerce')\n",
    "        if c.startswith('year'):\n",
    "            gdppc_wiki[c] = gdppc_wiki[c].astype('Int64')"
   ]
  },
  {
   "cell_type": "code",
   "execution_count": 15,
   "metadata": {
    "slideshow": {
     "slide_type": "subslide"
    }
   },
   "outputs": [
    {
     "data": {
      "text/plain": [
       "Country/Territory     object\n",
       "UN Region             object\n",
       "gdppc_IMF            float64\n",
       "year_IMF               Int64\n",
       "gdppc_WB             float64\n",
       "year_WB                Int64\n",
       "gdppc_CIA              int64\n",
       "year_CIA               Int64\n",
       "country_name          object\n",
       "dtype: object"
      ]
     },
     "execution_count": 15,
     "metadata": {},
     "output_type": "execute_result"
    }
   ],
   "source": [
    "gdppc_wiki.dtypes"
   ]
  },
  {
   "cell_type": "markdown",
   "metadata": {
    "slideshow": {
     "slide_type": "subslide"
    },
    "tags": [],
    "user_expressions": []
   },
   "source": [
    "## Let's try to merge the data from both dataframes"
   ]
  },
  {
   "cell_type": "code",
   "execution_count": 16,
   "metadata": {
    "slideshow": {
     "slide_type": "fragment"
    }
   },
   "outputs": [
    {
     "data": {
      "text/html": [
       "<div>\n",
       "<style scoped>\n",
       "    .dataframe tbody tr th:only-of-type {\n",
       "        vertical-align: middle;\n",
       "    }\n",
       "\n",
       "    .dataframe tbody tr th {\n",
       "        vertical-align: top;\n",
       "    }\n",
       "\n",
       "    .dataframe thead th {\n",
       "        text-align: right;\n",
       "    }\n",
       "</style>\n",
       "<table border=\"1\" class=\"dataframe\">\n",
       "  <thead>\n",
       "    <tr style=\"text-align: right;\">\n",
       "      <th></th>\n",
       "      <th>Country name</th>\n",
       "      <th>Official state name</th>\n",
       "      <th>Sovereignty</th>\n",
       "      <th>Alpha-2 code</th>\n",
       "      <th>Alpha-3 code</th>\n",
       "      <th>Numeric code</th>\n",
       "      <th>Subdivision code links</th>\n",
       "      <th>Internet ccTLD</th>\n",
       "      <th>Alpha-2 code original</th>\n",
       "    </tr>\n",
       "  </thead>\n",
       "  <tbody>\n",
       "    <tr>\n",
       "      <th>0</th>\n",
       "      <td>Afghanistan</td>\n",
       "      <td>The Islamic Republic of Afghanistan</td>\n",
       "      <td>UN member state</td>\n",
       "      <td>AF</td>\n",
       "      <td>AFG</td>\n",
       "      <td>004</td>\n",
       "      <td>ISO 3166-2:AF</td>\n",
       "      <td>.af</td>\n",
       "      <td>.mw-parser-output .monospaced{font-family:mono...</td>\n",
       "    </tr>\n",
       "    <tr>\n",
       "      <th>1</th>\n",
       "      <td>Åland Islands</td>\n",
       "      <td>Åland</td>\n",
       "      <td>Finland</td>\n",
       "      <td>AX</td>\n",
       "      <td>ALA</td>\n",
       "      <td>248</td>\n",
       "      <td>ISO 3166-2:AX</td>\n",
       "      <td>.ax</td>\n",
       "      <td>AX</td>\n",
       "    </tr>\n",
       "  </tbody>\n",
       "</table>\n",
       "</div>"
      ],
      "text/plain": [
       "    Country name                  Official state name      Sovereignty Alpha-2 code Alpha-3 code Numeric code Subdivision code links Internet ccTLD  \\\n",
       "0    Afghanistan  The Islamic Republic of Afghanistan  UN member state           AF          AFG          004          ISO 3166-2:AF            .af   \n",
       "1  Åland Islands                                Åland          Finland           AX          ALA          248          ISO 3166-2:AX            .ax   \n",
       "\n",
       "                               Alpha-2 code original  \n",
       "0  .mw-parser-output .monospaced{font-family:mono...  \n",
       "1                                                 AX  "
      ]
     },
     "execution_count": 16,
     "metadata": {},
     "output_type": "execute_result"
    }
   ],
   "source": [
    "isocodes.head(2)"
   ]
  },
  {
   "cell_type": "code",
   "execution_count": 17,
   "metadata": {
    "slideshow": {
     "slide_type": "fragment"
    }
   },
   "outputs": [
    {
     "data": {
      "text/html": [
       "<div>\n",
       "<style scoped>\n",
       "    .dataframe tbody tr th:only-of-type {\n",
       "        vertical-align: middle;\n",
       "    }\n",
       "\n",
       "    .dataframe tbody tr th {\n",
       "        vertical-align: top;\n",
       "    }\n",
       "\n",
       "    .dataframe thead th {\n",
       "        text-align: right;\n",
       "    }\n",
       "</style>\n",
       "<table border=\"1\" class=\"dataframe\">\n",
       "  <thead>\n",
       "    <tr style=\"text-align: right;\">\n",
       "      <th></th>\n",
       "      <th>Country/Territory</th>\n",
       "      <th>UN Region</th>\n",
       "      <th>gdppc_IMF</th>\n",
       "      <th>year_IMF</th>\n",
       "      <th>gdppc_WB</th>\n",
       "      <th>year_WB</th>\n",
       "      <th>gdppc_CIA</th>\n",
       "      <th>year_CIA</th>\n",
       "      <th>country_name</th>\n",
       "    </tr>\n",
       "  </thead>\n",
       "  <tbody>\n",
       "    <tr>\n",
       "      <th>0</th>\n",
       "      <td>Luxembourg *</td>\n",
       "      <td>Europe</td>\n",
       "      <td>141587.0</td>\n",
       "      <td>2022</td>\n",
       "      <td>134754.0</td>\n",
       "      <td>2021</td>\n",
       "      <td>110300</td>\n",
       "      <td>2020</td>\n",
       "      <td>Luxembourg</td>\n",
       "    </tr>\n",
       "  </tbody>\n",
       "</table>\n",
       "</div>"
      ],
      "text/plain": [
       "  Country/Territory UN Region  gdppc_IMF  year_IMF  gdppc_WB  year_WB  gdppc_CIA  year_CIA country_name\n",
       "0      Luxembourg *    Europe   141587.0      2022  134754.0     2021     110300      2020   Luxembourg"
      ]
     },
     "execution_count": 17,
     "metadata": {},
     "output_type": "execute_result"
    }
   ],
   "source": [
    "gdppc_wiki.head(1)"
   ]
  },
  {
   "cell_type": "markdown",
   "metadata": {
    "slideshow": {
     "slide_type": "subslide"
    },
    "tags": [],
    "user_expressions": []
   },
   "source": [
    "## The only common information in both dataframes is the country's name, so let's merge using the corrected `country_name` and `Country name`"
   ]
  },
  {
   "cell_type": "code",
   "execution_count": 18,
   "metadata": {
    "slideshow": {
     "slide_type": "subslide"
    }
   },
   "outputs": [
    {
     "data": {
      "text/html": [
       "<div>\n",
       "<style scoped>\n",
       "    .dataframe tbody tr th:only-of-type {\n",
       "        vertical-align: middle;\n",
       "    }\n",
       "\n",
       "    .dataframe tbody tr th {\n",
       "        vertical-align: top;\n",
       "    }\n",
       "\n",
       "    .dataframe thead th {\n",
       "        text-align: right;\n",
       "    }\n",
       "</style>\n",
       "<table border=\"1\" class=\"dataframe\">\n",
       "  <thead>\n",
       "    <tr style=\"text-align: right;\">\n",
       "      <th></th>\n",
       "      <th>Country name</th>\n",
       "      <th>Official state name</th>\n",
       "      <th>Sovereignty</th>\n",
       "      <th>Alpha-2 code</th>\n",
       "      <th>Alpha-3 code</th>\n",
       "      <th>Numeric code</th>\n",
       "      <th>Subdivision code links</th>\n",
       "      <th>Internet ccTLD</th>\n",
       "      <th>Alpha-2 code original</th>\n",
       "      <th>Country/Territory</th>\n",
       "      <th>UN Region</th>\n",
       "      <th>gdppc_IMF</th>\n",
       "      <th>year_IMF</th>\n",
       "      <th>gdppc_WB</th>\n",
       "      <th>year_WB</th>\n",
       "      <th>gdppc_CIA</th>\n",
       "      <th>year_CIA</th>\n",
       "      <th>country_name</th>\n",
       "    </tr>\n",
       "  </thead>\n",
       "  <tbody>\n",
       "    <tr>\n",
       "      <th>0</th>\n",
       "      <td>Afghanistan</td>\n",
       "      <td>The Islamic Republic of Afghanistan</td>\n",
       "      <td>UN member state</td>\n",
       "      <td>AF</td>\n",
       "      <td>AFG</td>\n",
       "      <td>004</td>\n",
       "      <td>ISO 3166-2:AF</td>\n",
       "      <td>.af</td>\n",
       "      <td>.mw-parser-output .monospaced{font-family:mono...</td>\n",
       "      <td>Afghanistan *</td>\n",
       "      <td>Asia</td>\n",
       "      <td>2456.0</td>\n",
       "      <td>2020</td>\n",
       "      <td>2079.0</td>\n",
       "      <td>2020</td>\n",
       "      <td>2000</td>\n",
       "      <td>2020</td>\n",
       "      <td>Afghanistan</td>\n",
       "    </tr>\n",
       "    <tr>\n",
       "      <th>1</th>\n",
       "      <td>Albania</td>\n",
       "      <td>The Republic of Albania</td>\n",
       "      <td>UN member state</td>\n",
       "      <td>AL</td>\n",
       "      <td>ALB</td>\n",
       "      <td>008</td>\n",
       "      <td>ISO 3166-2:AL</td>\n",
       "      <td>.al</td>\n",
       "      <td>AL</td>\n",
       "      <td>Albania *</td>\n",
       "      <td>Europe</td>\n",
       "      <td>17858.0</td>\n",
       "      <td>2022</td>\n",
       "      <td>15646.0</td>\n",
       "      <td>2021</td>\n",
       "      <td>13300</td>\n",
       "      <td>2020</td>\n",
       "      <td>Albania</td>\n",
       "    </tr>\n",
       "    <tr>\n",
       "      <th>2</th>\n",
       "      <td>Algeria</td>\n",
       "      <td>The People's Democratic Republic of Algeria</td>\n",
       "      <td>UN member state</td>\n",
       "      <td>DZ</td>\n",
       "      <td>DZA</td>\n",
       "      <td>012</td>\n",
       "      <td>ISO 3166-2:DZ</td>\n",
       "      <td>.dz</td>\n",
       "      <td>DZ</td>\n",
       "      <td>Algeria *</td>\n",
       "      <td>Africa</td>\n",
       "      <td>13324.0</td>\n",
       "      <td>2022</td>\n",
       "      <td>12038.0</td>\n",
       "      <td>2021</td>\n",
       "      <td>10700</td>\n",
       "      <td>2020</td>\n",
       "      <td>Algeria</td>\n",
       "    </tr>\n",
       "    <tr>\n",
       "      <th>3</th>\n",
       "      <td>American Samoa</td>\n",
       "      <td>The Territory of American Samoa</td>\n",
       "      <td>United States</td>\n",
       "      <td>AS</td>\n",
       "      <td>ASM</td>\n",
       "      <td>016</td>\n",
       "      <td>ISO 3166-2:AS</td>\n",
       "      <td>.as</td>\n",
       "      <td>AS</td>\n",
       "      <td>American Samoa *</td>\n",
       "      <td>Oceania</td>\n",
       "      <td>NaN</td>\n",
       "      <td>&lt;NA&gt;</td>\n",
       "      <td>NaN</td>\n",
       "      <td>&lt;NA&gt;</td>\n",
       "      <td>11200</td>\n",
       "      <td>2016</td>\n",
       "      <td>American Samoa</td>\n",
       "    </tr>\n",
       "    <tr>\n",
       "      <th>4</th>\n",
       "      <td>Andorra</td>\n",
       "      <td>The Principality of Andorra</td>\n",
       "      <td>UN member state</td>\n",
       "      <td>AD</td>\n",
       "      <td>AND</td>\n",
       "      <td>020</td>\n",
       "      <td>ISO 3166-2:AD</td>\n",
       "      <td>.ad</td>\n",
       "      <td>AD</td>\n",
       "      <td>Andorra *</td>\n",
       "      <td>Europe</td>\n",
       "      <td>65372.0</td>\n",
       "      <td>2022</td>\n",
       "      <td>NaN</td>\n",
       "      <td>&lt;NA&gt;</td>\n",
       "      <td>49900</td>\n",
       "      <td>2015</td>\n",
       "      <td>Andorra</td>\n",
       "    </tr>\n",
       "    <tr>\n",
       "      <th>...</th>\n",
       "      <td>...</td>\n",
       "      <td>...</td>\n",
       "      <td>...</td>\n",
       "      <td>...</td>\n",
       "      <td>...</td>\n",
       "      <td>...</td>\n",
       "      <td>...</td>\n",
       "      <td>...</td>\n",
       "      <td>...</td>\n",
       "      <td>...</td>\n",
       "      <td>...</td>\n",
       "      <td>...</td>\n",
       "      <td>...</td>\n",
       "      <td>...</td>\n",
       "      <td>...</td>\n",
       "      <td>...</td>\n",
       "      <td>...</td>\n",
       "      <td>...</td>\n",
       "    </tr>\n",
       "    <tr>\n",
       "      <th>171</th>\n",
       "      <td>Vanuatu</td>\n",
       "      <td>The Republic of Vanuatu</td>\n",
       "      <td>UN member state</td>\n",
       "      <td>VU</td>\n",
       "      <td>VUT</td>\n",
       "      <td>548</td>\n",
       "      <td>ISO 3166-2:VU</td>\n",
       "      <td>.vu</td>\n",
       "      <td>VU</td>\n",
       "      <td>Vanuatu *</td>\n",
       "      <td>Oceania</td>\n",
       "      <td>2858.0</td>\n",
       "      <td>2022</td>\n",
       "      <td>3105.0</td>\n",
       "      <td>2021</td>\n",
       "      <td>2800</td>\n",
       "      <td>2020</td>\n",
       "      <td>Vanuatu</td>\n",
       "    </tr>\n",
       "    <tr>\n",
       "      <th>172</th>\n",
       "      <td>Wallis and Futuna</td>\n",
       "      <td>The Territory of the Wallis and Futuna Islands</td>\n",
       "      <td>France</td>\n",
       "      <td>WF</td>\n",
       "      <td>WLF</td>\n",
       "      <td>876</td>\n",
       "      <td>ISO 3166-2:WF</td>\n",
       "      <td>.wf</td>\n",
       "      <td>WF</td>\n",
       "      <td>Wallis and Futuna *</td>\n",
       "      <td>Oceania</td>\n",
       "      <td>NaN</td>\n",
       "      <td>&lt;NA&gt;</td>\n",
       "      <td>NaN</td>\n",
       "      <td>&lt;NA&gt;</td>\n",
       "      <td>3800</td>\n",
       "      <td>2004</td>\n",
       "      <td>Wallis and Futuna</td>\n",
       "    </tr>\n",
       "    <tr>\n",
       "      <th>173</th>\n",
       "      <td>Yemen</td>\n",
       "      <td>The Republic of Yemen</td>\n",
       "      <td>UN member state</td>\n",
       "      <td>YE</td>\n",
       "      <td>YEM</td>\n",
       "      <td>887</td>\n",
       "      <td>ISO 3166-2:YE</td>\n",
       "      <td>.ye</td>\n",
       "      <td>YE</td>\n",
       "      <td>Yemen *</td>\n",
       "      <td>Asia</td>\n",
       "      <td>2136.0</td>\n",
       "      <td>2022</td>\n",
       "      <td>3689.0</td>\n",
       "      <td>2013</td>\n",
       "      <td>2500</td>\n",
       "      <td>2017</td>\n",
       "      <td>Yemen</td>\n",
       "    </tr>\n",
       "    <tr>\n",
       "      <th>174</th>\n",
       "      <td>Zambia</td>\n",
       "      <td>The Republic of Zambia</td>\n",
       "      <td>UN member state</td>\n",
       "      <td>ZM</td>\n",
       "      <td>ZMB</td>\n",
       "      <td>894</td>\n",
       "      <td>ISO 3166-2:ZM</td>\n",
       "      <td>.zm</td>\n",
       "      <td>ZM</td>\n",
       "      <td>Zambia *</td>\n",
       "      <td>Africa</td>\n",
       "      <td>3808.0</td>\n",
       "      <td>2022</td>\n",
       "      <td>3624.0</td>\n",
       "      <td>2021</td>\n",
       "      <td>3300</td>\n",
       "      <td>2020</td>\n",
       "      <td>Zambia</td>\n",
       "    </tr>\n",
       "    <tr>\n",
       "      <th>175</th>\n",
       "      <td>Zimbabwe</td>\n",
       "      <td>The Republic of Zimbabwe</td>\n",
       "      <td>UN member state</td>\n",
       "      <td>ZW</td>\n",
       "      <td>ZWE</td>\n",
       "      <td>716</td>\n",
       "      <td>ISO 3166-2:ZW</td>\n",
       "      <td>.zw</td>\n",
       "      <td>ZW</td>\n",
       "      <td>Zimbabwe *</td>\n",
       "      <td>Africa</td>\n",
       "      <td>2555.0</td>\n",
       "      <td>2022</td>\n",
       "      <td>2445.0</td>\n",
       "      <td>2021</td>\n",
       "      <td>2700</td>\n",
       "      <td>2020</td>\n",
       "      <td>Zimbabwe</td>\n",
       "    </tr>\n",
       "  </tbody>\n",
       "</table>\n",
       "<p>176 rows × 18 columns</p>\n",
       "</div>"
      ],
      "text/plain": [
       "          Country name                             Official state name      Sovereignty Alpha-2 code Alpha-3 code Numeric code Subdivision code links Internet ccTLD  \\\n",
       "0          Afghanistan             The Islamic Republic of Afghanistan  UN member state           AF          AFG          004          ISO 3166-2:AF            .af   \n",
       "1              Albania                         The Republic of Albania  UN member state           AL          ALB          008          ISO 3166-2:AL            .al   \n",
       "2              Algeria     The People's Democratic Republic of Algeria  UN member state           DZ          DZA          012          ISO 3166-2:DZ            .dz   \n",
       "3       American Samoa                 The Territory of American Samoa    United States           AS          ASM          016          ISO 3166-2:AS            .as   \n",
       "4              Andorra                     The Principality of Andorra  UN member state           AD          AND          020          ISO 3166-2:AD            .ad   \n",
       "..                 ...                                             ...              ...          ...          ...          ...                    ...            ...   \n",
       "171            Vanuatu                         The Republic of Vanuatu  UN member state           VU          VUT          548          ISO 3166-2:VU            .vu   \n",
       "172  Wallis and Futuna  The Territory of the Wallis and Futuna Islands           France           WF          WLF          876          ISO 3166-2:WF            .wf   \n",
       "173              Yemen                           The Republic of Yemen  UN member state           YE          YEM          887          ISO 3166-2:YE            .ye   \n",
       "174             Zambia                          The Republic of Zambia  UN member state           ZM          ZMB          894          ISO 3166-2:ZM            .zm   \n",
       "175           Zimbabwe                        The Republic of Zimbabwe  UN member state           ZW          ZWE          716          ISO 3166-2:ZW            .zw   \n",
       "\n",
       "                                 Alpha-2 code original    Country/Territory UN Region  gdppc_IMF  year_IMF  gdppc_WB  year_WB  gdppc_CIA  year_CIA       country_name  \n",
       "0    .mw-parser-output .monospaced{font-family:mono...        Afghanistan *      Asia     2456.0      2020    2079.0     2020       2000      2020        Afghanistan  \n",
       "1                                                   AL            Albania *    Europe    17858.0      2022   15646.0     2021      13300      2020            Albania  \n",
       "2                                                   DZ            Algeria *    Africa    13324.0      2022   12038.0     2021      10700      2020            Algeria  \n",
       "3                                                   AS     American Samoa *   Oceania        NaN      <NA>       NaN     <NA>      11200      2016     American Samoa  \n",
       "4                                                   AD            Andorra *    Europe    65372.0      2022       NaN     <NA>      49900      2015            Andorra  \n",
       "..                                                 ...                  ...       ...        ...       ...       ...      ...        ...       ...                ...  \n",
       "171                                                 VU            Vanuatu *   Oceania     2858.0      2022    3105.0     2021       2800      2020            Vanuatu  \n",
       "172                                                 WF  Wallis and Futuna *   Oceania        NaN      <NA>       NaN     <NA>       3800      2004  Wallis and Futuna  \n",
       "173                                                 YE              Yemen *      Asia     2136.0      2022    3689.0     2013       2500      2017              Yemen  \n",
       "174                                                 ZM             Zambia *    Africa     3808.0      2022    3624.0     2021       3300      2020             Zambia  \n",
       "175                                                 ZW           Zimbabwe *    Africa     2555.0      2022    2445.0     2021       2700      2020           Zimbabwe  \n",
       "\n",
       "[176 rows x 18 columns]"
      ]
     },
     "execution_count": 18,
     "metadata": {},
     "output_type": "execute_result"
    }
   ],
   "source": [
    "merged = isocodes.merge(gdppc_wiki, left_on='Country name', right_on='country_name')\n",
    "merged"
   ]
  },
  {
   "cell_type": "markdown",
   "metadata": {
    "slideshow": {
     "slide_type": "subslide"
    },
    "tags": [],
    "user_expressions": []
   },
   "source": [
    "<div class=\"alert alert-block alert-danger\">\n",
    "<b>Careful:</b> Remember that <code>merge</code> will create a complete dataset only for the countries that have common names in both.\n",
    "</div>"
   ]
  },
  {
   "cell_type": "code",
   "execution_count": 19,
   "metadata": {
    "slideshow": {
     "slide_type": "fragment"
    }
   },
   "outputs": [
    {
     "data": {
      "text/plain": [
       "(176, 18)"
      ]
     },
     "execution_count": 19,
     "metadata": {},
     "output_type": "execute_result"
    }
   ],
   "source": [
    "merged.shape"
   ]
  },
  {
   "cell_type": "markdown",
   "metadata": {
    "slideshow": {
     "slide_type": "subslide"
    },
    "user_expressions": []
   },
   "source": [
    "## What are the not common country names in both dataframes?"
   ]
  },
  {
   "cell_type": "code",
   "execution_count": 20,
   "metadata": {
    "slideshow": {
     "slide_type": "fragment"
    }
   },
   "outputs": [],
   "source": [
    "isocodes_names = set(isocodes['Country name'])\n",
    "gdppc_wiki_names = set(gdppc_wiki['country_name'])"
   ]
  },
  {
   "cell_type": "code",
   "execution_count": 21,
   "metadata": {
    "slideshow": {
     "slide_type": "subslide"
    }
   },
   "outputs": [
    {
     "data": {
      "text/plain": [
       "{'Antarctica\\u200a[a]',\n",
       " 'Australia\\u200a[b]',\n",
       " 'Bahamas (the)',\n",
       " 'Bolivia (Plurinational State of)',\n",
       " 'Bonaire\\xa0Sint Eustatius\\xa0Saba',\n",
       " 'Bouvet Island',\n",
       " 'British Indian Ocean Territory (the)',\n",
       " 'British Virgin Islands – See Virgin Islands (British).',\n",
       " 'Brunei Darussalam\\u200a[e]',\n",
       " 'Burma – See Myanmar.',\n",
       " 'Cabo Verde\\u200a[f]',\n",
       " 'Cape Verde – See Cabo Verde.',\n",
       " 'Caribbean Netherlands – See Bonaire, Sint Eustatius and Saba.',\n",
       " 'Cayman Islands (the)',\n",
       " 'Central African Republic (the)',\n",
       " 'China, The Republic of – See Taiwan (Province of China).',\n",
       " 'Christmas Island',\n",
       " 'Cocos (Keeling) Islands (the)',\n",
       " 'Comoros (the)',\n",
       " 'Congo (the Democratic Republic of the)',\n",
       " 'Congo (the)\\u200a[g]',\n",
       " 'Cook Islands (the)',\n",
       " 'Czechia\\u200a[i]',\n",
       " \"Côte d'Ivoire\\u200a[h]\",\n",
       " \"Democratic People's Republic of Korea – See Korea, The Democratic People's Republic of.\",\n",
       " 'Democratic Republic of the Congo – See Congo, The Democratic Republic of the.',\n",
       " 'Dominican Republic (the)',\n",
       " 'East Timor – See Timor-Leste.',\n",
       " 'Eswatini\\u200a[j]',\n",
       " 'Falkland Islands (the) [Malvinas]\\u200a[k]',\n",
       " 'Faroe Islands (the)',\n",
       " 'France\\u200a[l]',\n",
       " 'French Guiana',\n",
       " 'French Southern Territories (the)\\u200a[m]',\n",
       " 'Gambia (the)',\n",
       " 'Great Britain – See United Kingdom, The.',\n",
       " 'Guadeloupe',\n",
       " 'Heard Island and McDonald Islands',\n",
       " 'Holy See (the)\\u200a[n]',\n",
       " 'Iran (Islamic Republic of)',\n",
       " \"Ivory Coast – See Côte d'Ivoire.\",\n",
       " 'Jan Mayen – See Svalbard and Jan Mayen.',\n",
       " \"Korea (the Democratic People's Republic of)\\u200a[o]\",\n",
       " 'Korea (the Republic of)\\u200a[p]',\n",
       " \"Lao People's Democratic Republic (the)\\u200a[q]\",\n",
       " 'Macao\\u200a[r]',\n",
       " 'Marshall Islands (the)',\n",
       " 'Martinique',\n",
       " 'Mayotte',\n",
       " 'Micronesia (Federated States of)',\n",
       " 'Moldova (the Republic of)',\n",
       " 'Myanmar\\u200a[t]',\n",
       " 'Netherlands (the)',\n",
       " 'Niger (the)',\n",
       " 'Norfolk Island',\n",
       " \"North Korea – See Korea, The Democratic People's Republic of.\",\n",
       " 'North Macedonia\\u200a[s]',\n",
       " 'Northern Mariana Islands (the)',\n",
       " 'Palestine, State of',\n",
       " \"People's Republic of China – See China.\",\n",
       " 'Philippines (the)',\n",
       " 'Pitcairn\\u200a[u]',\n",
       " 'Republic of China – See Taiwan (Province of China).',\n",
       " 'Republic of Korea – See Korea, The Republic of.',\n",
       " 'Republic of the Congo – See Congo, The.',\n",
       " 'Russian Federation (the)\\u200a[v]',\n",
       " 'Réunion',\n",
       " 'Saba – See Bonaire, Sint Eustatius and Saba.',\n",
       " 'Sahrawi Arab Democratic Republic – See Western Sahara.',\n",
       " 'Saint Barthélemy',\n",
       " 'Saint Helena\\xa0Ascension Island\\xa0Tristan da Cunha',\n",
       " 'Sao Tome and Principe',\n",
       " 'Sint Eustatius – See Bonaire, Sint Eustatius and Saba.',\n",
       " 'South Georgia and the South Sandwich Islands',\n",
       " 'South Korea – See Korea, The Republic of.',\n",
       " 'Sudan (the)',\n",
       " 'Svalbard\\xa0Jan Mayen',\n",
       " 'Syrian Arab Republic (the)\\u200a[x]',\n",
       " 'Taiwan (Province of China)\\u200a[y]',\n",
       " 'Tanzania, the United Republic of',\n",
       " 'Timor-Leste\\u200a[aa]',\n",
       " 'Turks and Caicos Islands (the)',\n",
       " 'Türkiye [ab]',\n",
       " 'United Arab Emirates (the)',\n",
       " 'United Kingdom of Great Britain and Northern Ireland (the)',\n",
       " 'United States Minor Outlying Islands (the)\\u200a[ad]',\n",
       " 'United States Virgin Islands – See Virgin Islands (U.S.).',\n",
       " 'United States of America (the)',\n",
       " 'Vatican City – See Holy See, The.',\n",
       " 'Venezuela (Bolivarian Republic of)',\n",
       " 'Viet Nam\\u200a[af]',\n",
       " 'Virgin Islands (British)\\u200a[ag]',\n",
       " 'Virgin Islands (U.S.)\\u200a[ah]',\n",
       " 'Western Sahara\\u200a[ai]',\n",
       " 'Åland Islands'}"
      ]
     },
     "execution_count": 21,
     "metadata": {},
     "output_type": "execute_result"
    }
   ],
   "source": [
    "isocodes_names.difference(gdppc_wiki_names)"
   ]
  },
  {
   "cell_type": "code",
   "execution_count": 22,
   "metadata": {
    "slideshow": {
     "slide_type": "subslide"
    }
   },
   "outputs": [
    {
     "data": {
      "text/plain": [
       "{'Australia',\n",
       " 'Bahamas',\n",
       " 'Bolivia',\n",
       " 'British Virgin Islands',\n",
       " 'Brunei',\n",
       " 'Cape Verde',\n",
       " 'Cayman Islands',\n",
       " 'Central African Republic',\n",
       " 'Comoros',\n",
       " 'Congo',\n",
       " 'Cook Islands',\n",
       " 'Czech Republic',\n",
       " 'DR Congo',\n",
       " 'Dominican Republic',\n",
       " 'East Timor',\n",
       " 'Eswatini',\n",
       " 'European Union',\n",
       " 'Falkland Islands',\n",
       " 'Faroe Islands',\n",
       " 'France',\n",
       " 'Gambia',\n",
       " 'Iran',\n",
       " 'Ivory Coast',\n",
       " 'Kosovo',\n",
       " 'Laos',\n",
       " 'Macau',\n",
       " 'Marshall Islands',\n",
       " 'Micronesia',\n",
       " 'Moldova',\n",
       " 'Myanmar',\n",
       " 'Netherlands',\n",
       " 'Niger',\n",
       " 'North Korea',\n",
       " 'North Macedonia',\n",
       " 'Northern Mariana Islands',\n",
       " 'Palestine',\n",
       " 'Philippines',\n",
       " 'Russia',\n",
       " 'Saint Helena, Ascension andTristan da Cunha',\n",
       " 'South Korea',\n",
       " 'Sudan',\n",
       " 'Syria',\n",
       " 'São Tomé and Príncipe',\n",
       " 'Taiwan',\n",
       " 'Tanzania',\n",
       " 'Turkey',\n",
       " 'Turks and Caicos Islands',\n",
       " 'U.S. Virgin Islands',\n",
       " 'United Arab Emirates',\n",
       " 'United Kingdom',\n",
       " 'United States',\n",
       " 'Venezuela',\n",
       " 'Vietnam',\n",
       " 'World'}"
      ]
     },
     "execution_count": 22,
     "metadata": {},
     "output_type": "execute_result"
    }
   ],
   "source": [
    "gdppc_wiki_names.difference(isocodes_names)"
   ]
  },
  {
   "cell_type": "markdown",
   "metadata": {
    "slideshow": {
     "slide_type": "subslide"
    },
    "tags": [],
    "user_expressions": []
   },
   "source": [
    "## Clearly to create the full dataset, we'd need to standardize the country names. "
   ]
  },
  {
   "cell_type": "markdown",
   "metadata": {
    "slideshow": {
     "slide_type": "fragment"
    },
    "tags": [],
    "user_expressions": []
   },
   "source": [
    "## This is a major reason to use ISO CODES!"
   ]
  },
  {
   "cell_type": "markdown",
   "metadata": {
    "slideshow": {
     "slide_type": "fragment"
    },
    "tags": [],
    "user_expressions": []
   },
   "source": [
    "## We'll learn methods to do this in another lecture, for now let's use the merged subset"
   ]
  },
  {
   "cell_type": "markdown",
   "metadata": {
    "slideshow": {
     "slide_type": "subslide"
    },
    "user_expressions": []
   },
   "source": [
    "# Simple Plots"
   ]
  },
  {
   "cell_type": "code",
   "execution_count": 23,
   "metadata": {
    "slideshow": {
     "slide_type": "subslide"
    }
   },
   "outputs": [
    {
     "data": {
      "text/plain": [
       "<matplotlib.legend.Legend at 0x186548550>"
      ]
     },
     "execution_count": 23,
     "metadata": {},
     "output_type": "execute_result"
    },
    {
     "data": {
      "image/png": "[encoded data removed]",
      "text/plain": [
       "<Figure size 1000x600 with 1 Axes>"
      ]
     },
     "metadata": {},
     "output_type": "display_data"
    }
   ],
   "source": [
    "# Set the size of the figure and get a figure and axis object\n",
    "fig, ax = plt.subplots(figsize=(10,6))\n",
    "merged.gdppc_CIA.plot.kde(ax=ax, label='CIA')\n",
    "merged.gdppc_IMF.plot.kde(ax=ax, label='IMF')\n",
    "merged.gdppc_WB.plot.kde(ax=ax, label='WB')\n",
    "ax.legend()"
   ]
  },
  {
   "cell_type": "code",
   "execution_count": 24,
   "metadata": {
    "slideshow": {
     "slide_type": "subslide"
    }
   },
   "outputs": [
    {
     "data": {
      "text/plain": [
       "<matplotlib.legend.Legend at 0x189488d60>"
      ]
     },
     "execution_count": 24,
     "metadata": {},
     "output_type": "execute_result"
    },
    {
     "data": {
      "image/png": "[encoded data removed]",
      "text/plain": [
       "<Figure size 1000x600 with 1 Axes>"
      ]
     },
     "metadata": {},
     "output_type": "display_data"
    }
   ],
   "source": [
    "# Set the size of the figure and get a figure and axis object\n",
    "fig, ax = plt.subplots(figsize=(10,6))\n",
    "merged.gdppc_CIA.plot.hist(ax=ax, label='CIA')\n",
    "merged.gdppc_IMF.plot.hist(ax=ax, label='IMF', alpha=0.6)\n",
    "merged.gdppc_WB.plot.hist(ax=ax, label='WB', alpha=0.3)\n",
    "ax.legend()"
   ]
  },
  {
   "cell_type": "code",
   "execution_count": 25,
   "metadata": {
    "slideshow": {
     "slide_type": "subslide"
    }
   },
   "outputs": [
    {
     "data": {
      "text/plain": [
       "<matplotlib.legend.Legend at 0x18953a190>"
      ]
     },
     "execution_count": 25,
     "metadata": {},
     "output_type": "execute_result"
    },
    {
     "data": {
      "image/png": "[encoded data removed]",
      "text/plain": [
       "<Figure size 1000x600 with 1 Axes>"
      ]
     },
     "metadata": {},
     "output_type": "display_data"
    }
   ],
   "source": [
    "# Set the size of the figure and get a figure and axis object\n",
    "fig, ax = plt.subplots(figsize=(10,6))\n",
    "merged.plot.scatter(x='gdppc_WB', y='gdppc_CIA', ax=ax, label='WB-CIA', c='r')\n",
    "merged.plot.scatter(x='gdppc_WB', y='gdppc_IMF', ax=ax, label='WB-IMF', c='b')\n",
    "ax.set_xlabel('World Bank')\n",
    "ax.set_ylabel('Other Source')\n",
    "ax.legend(loc='lower right')"
   ]
  },
  {
   "cell_type": "markdown",
   "metadata": {
    "slideshow": {
     "slide_type": "slide"
    },
    "user_expressions": []
   },
   "source": [
    "# Example - Create Data"
   ]
  },
  {
   "cell_type": "markdown",
   "metadata": {
    "slideshow": {
     "slide_type": "fragment"
    },
    "user_expressions": []
   },
   "source": [
    "Let's create a `DataFrame` with some artificial data for some countries. \n",
    "1. Create `Series` of countries\n",
    "2. Create `Series` of data for each country\n",
    "3. Create `DataFrame`"
   ]
  },
  {
   "cell_type": "code",
   "execution_count": 26,
   "metadata": {
    "slideshow": {
     "slide_type": "subslide"
    }
   },
   "outputs": [
    {
     "data": {
      "text/plain": [
       "0         Colombia\n",
       "1           Turkey\n",
       "2    United States\n",
       "3          Germany\n",
       "4            Chile\n",
       "Name: country, dtype: object"
      ]
     },
     "execution_count": 26,
     "metadata": {},
     "output_type": "execute_result"
    }
   ],
   "source": [
    "countries = pd.Series(['Colombia', 'Turkey', 'United States', 'Germany', 'Chile'], name='country')\n",
    "countries"
   ]
  },
  {
   "cell_type": "code",
   "execution_count": 27,
   "metadata": {
    "slideshow": {
     "slide_type": "fragment"
    }
   },
   "outputs": [
    {
     "name": "stdout",
     "output_type": "stream",
     "text": [
      "\n",
      " There are  5 countries in this series.\n"
     ]
    }
   ],
   "source": [
    "print('\\n', 'There are ', countries.shape[0], 'countries in this series.')"
   ]
  },
  {
   "cell_type": "markdown",
   "metadata": {
    "slideshow": {
     "slide_type": "subslide"
    },
    "user_expressions": []
   },
   "source": [
    "## We can apply a function on the data using the `apply` method. \n",
    "E.g., let's find the length of each country name using the `len` function."
   ]
  },
  {
   "cell_type": "code",
   "execution_count": 28,
   "metadata": {
    "slideshow": {
     "slide_type": "fragment"
    }
   },
   "outputs": [
    {
     "data": {
      "text/plain": [
       "0     8\n",
       "1     6\n",
       "2    13\n",
       "3     7\n",
       "4     5\n",
       "Name: country, dtype: int64"
      ]
     },
     "execution_count": 28,
     "metadata": {},
     "output_type": "execute_result"
    }
   ],
   "source": [
    "countries.apply(len)"
   ]
  },
  {
   "cell_type": "markdown",
   "metadata": {
    "slideshow": {
     "slide_type": "subslide"
    },
    "user_expressions": []
   },
   "source": [
    "Let's create the data using some of the functions we already learned."
   ]
  },
  {
   "cell_type": "code",
   "execution_count": 29,
   "metadata": {
    "slideshow": {
     "slide_type": "fragment"
    }
   },
   "outputs": [
    {
     "data": {
      "text/plain": [
       "0    0.469112\n",
       "1   -0.282863\n",
       "2   -1.509059\n",
       "3   -1.135632\n",
       "4    1.212112\n",
       "Name: noise, dtype: float64"
      ]
     },
     "execution_count": 29,
     "metadata": {},
     "output_type": "execute_result"
    }
   ],
   "source": [
    "np.random.seed(123456)\n",
    "data = pd.Series(np.random.normal(size=(countries.shape)), name='noise')\n",
    "data"
   ]
  },
  {
   "cell_type": "markdown",
   "metadata": {
    "slideshow": {
     "slide_type": "subslide"
    },
    "tags": [],
    "user_expressions": []
   },
   "source": [
    "## We can perform certain computation using some of the properties of the `pd.Series`:\n",
    "* mean\n",
    "* std\n",
    "* max"
   ]
  },
  {
   "cell_type": "code",
   "execution_count": 30,
   "metadata": {
    "slideshow": {
     "slide_type": "subslide"
    }
   },
   "outputs": [
    {
     "name": "stdout",
     "output_type": "stream",
     "text": [
      "\n",
      " The average in this sample is  -0.24926597871826645\n",
      "\n",
      " The average in this sample is  -0.25\n",
      "\n",
      " The maximum in this sample is  1.21\n",
      "\n",
      " The standard deviation in this sample is  1.12\n"
     ]
    }
   ],
   "source": [
    "print('\\n', 'The average in this sample is ', data.mean())\n",
    "print('\\n', 'The average in this sample is ', \"{:.2f}\".format(data.mean()))\n",
    "print('\\n', 'The maximum in this sample is ', \"{:.2f}\".format(data.max()))\n",
    "print('\\n', 'The standard deviation in this sample is ', \"{:.2f}\".format(data.std()))"
   ]
  },
  {
   "cell_type": "markdown",
   "metadata": {
    "slideshow": {
     "slide_type": "subslide"
    },
    "user_expressions": []
   },
   "source": [
    "Here we have used the ``mean()`` function of the series to compute its mean. There are many other properties/functions for these series including ``std()``, ``shape``, ``count()``, ``max()``, ``min()``, etc. You can access these by writing ``series.name_of_function_or_property``. To see what functions are available you can hit ``tab`` after writing ``series.``."
   ]
  },
  {
   "cell_type": "markdown",
   "metadata": {
    "slideshow": {
     "slide_type": "subslide"
    },
    "user_expressions": []
   },
   "source": [
    "## We can transform the data using the `apply` method"
   ]
  },
  {
   "cell_type": "code",
   "execution_count": 31,
   "metadata": {
    "slideshow": {
     "slide_type": "subslide"
    }
   },
   "outputs": [
    {
     "data": {
      "text/plain": [
       "0    1.598575\n",
       "1    0.753623\n",
       "2    0.221118\n",
       "3    0.321219\n",
       "4    3.360575\n",
       "Name: noise, dtype: float64"
      ]
     },
     "execution_count": 31,
     "metadata": {},
     "output_type": "execute_result"
    }
   ],
   "source": [
    "data.apply(np.exp)"
   ]
  },
  {
   "cell_type": "markdown",
   "metadata": {
    "slideshow": {
     "slide_type": "subslide"
    },
    "user_expressions": []
   },
   "source": [
    "## Let's create a ``pd.DataFrame`` using these two series."
   ]
  },
  {
   "cell_type": "markdown",
   "metadata": {
    "slideshow": {
     "slide_type": "subslide"
    },
    "tags": [],
    "user_expressions": []
   },
   "source": [
    "## Method 1"
   ]
  },
  {
   "cell_type": "code",
   "execution_count": 32,
   "metadata": {
    "slideshow": {
     "slide_type": "fragment"
    }
   },
   "outputs": [
    {
     "data": {
      "text/html": [
       "<div>\n",
       "<style scoped>\n",
       "    .dataframe tbody tr th:only-of-type {\n",
       "        vertical-align: middle;\n",
       "    }\n",
       "\n",
       "    .dataframe tbody tr th {\n",
       "        vertical-align: top;\n",
       "    }\n",
       "\n",
       "    .dataframe thead th {\n",
       "        text-align: right;\n",
       "    }\n",
       "</style>\n",
       "<table border=\"1\" class=\"dataframe\">\n",
       "  <thead>\n",
       "    <tr style=\"text-align: right;\">\n",
       "      <th></th>\n",
       "      <th>0</th>\n",
       "      <th>1</th>\n",
       "      <th>2</th>\n",
       "      <th>3</th>\n",
       "      <th>4</th>\n",
       "    </tr>\n",
       "  </thead>\n",
       "  <tbody>\n",
       "    <tr>\n",
       "      <th>country</th>\n",
       "      <td>Colombia</td>\n",
       "      <td>Turkey</td>\n",
       "      <td>United States</td>\n",
       "      <td>Germany</td>\n",
       "      <td>Chile</td>\n",
       "    </tr>\n",
       "    <tr>\n",
       "      <th>noise</th>\n",
       "      <td>0.469112</td>\n",
       "      <td>-0.282863</td>\n",
       "      <td>-1.509059</td>\n",
       "      <td>-1.135632</td>\n",
       "      <td>1.212112</td>\n",
       "    </tr>\n",
       "  </tbody>\n",
       "</table>\n",
       "</div>"
      ],
      "text/plain": [
       "                0         1              2         3         4\n",
       "country  Colombia    Turkey  United States   Germany     Chile\n",
       "noise    0.469112 -0.282863      -1.509059 -1.135632  1.212112"
      ]
     },
     "execution_count": 32,
     "metadata": {},
     "output_type": "execute_result"
    }
   ],
   "source": [
    "df = pd.DataFrame([countries, data])\n",
    "df"
   ]
  },
  {
   "cell_type": "markdown",
   "metadata": {
    "slideshow": {
     "slide_type": "subslide"
    },
    "user_expressions": []
   },
   "source": [
    "Not exactly what we'd like, but don't worry, we can just transpose it so it has each country with its data in a row."
   ]
  },
  {
   "cell_type": "code",
   "execution_count": 33,
   "metadata": {
    "slideshow": {
     "slide_type": "fragment"
    }
   },
   "outputs": [
    {
     "data": {
      "text/html": [
       "<div>\n",
       "<style scoped>\n",
       "    .dataframe tbody tr th:only-of-type {\n",
       "        vertical-align: middle;\n",
       "    }\n",
       "\n",
       "    .dataframe tbody tr th {\n",
       "        vertical-align: top;\n",
       "    }\n",
       "\n",
       "    .dataframe thead th {\n",
       "        text-align: right;\n",
       "    }\n",
       "</style>\n",
       "<table border=\"1\" class=\"dataframe\">\n",
       "  <thead>\n",
       "    <tr style=\"text-align: right;\">\n",
       "      <th></th>\n",
       "      <th>country</th>\n",
       "      <th>noise</th>\n",
       "    </tr>\n",
       "  </thead>\n",
       "  <tbody>\n",
       "    <tr>\n",
       "      <th>0</th>\n",
       "      <td>Colombia</td>\n",
       "      <td>0.469112</td>\n",
       "    </tr>\n",
       "    <tr>\n",
       "      <th>1</th>\n",
       "      <td>Turkey</td>\n",
       "      <td>-0.282863</td>\n",
       "    </tr>\n",
       "    <tr>\n",
       "      <th>2</th>\n",
       "      <td>United States</td>\n",
       "      <td>-1.509059</td>\n",
       "    </tr>\n",
       "    <tr>\n",
       "      <th>3</th>\n",
       "      <td>Germany</td>\n",
       "      <td>-1.135632</td>\n",
       "    </tr>\n",
       "    <tr>\n",
       "      <th>4</th>\n",
       "      <td>Chile</td>\n",
       "      <td>1.212112</td>\n",
       "    </tr>\n",
       "  </tbody>\n",
       "</table>\n",
       "</div>"
      ],
      "text/plain": [
       "         country     noise\n",
       "0       Colombia  0.469112\n",
       "1         Turkey -0.282863\n",
       "2  United States -1.509059\n",
       "3        Germany -1.135632\n",
       "4          Chile  1.212112"
      ]
     },
     "execution_count": 33,
     "metadata": {},
     "output_type": "execute_result"
    }
   ],
   "source": [
    "df = df.T\n",
    "df"
   ]
  },
  {
   "cell_type": "markdown",
   "metadata": {
    "slideshow": {
     "slide_type": "subslide"
    },
    "user_expressions": []
   },
   "source": [
    "## Method 2"
   ]
  },
  {
   "cell_type": "code",
   "execution_count": 34,
   "metadata": {
    "slideshow": {
     "slide_type": "fragment"
    }
   },
   "outputs": [
    {
     "data": {
      "text/html": [
       "<div>\n",
       "<style scoped>\n",
       "    .dataframe tbody tr th:only-of-type {\n",
       "        vertical-align: middle;\n",
       "    }\n",
       "\n",
       "    .dataframe tbody tr th {\n",
       "        vertical-align: top;\n",
       "    }\n",
       "\n",
       "    .dataframe thead th {\n",
       "        text-align: right;\n",
       "    }\n",
       "</style>\n",
       "<table border=\"1\" class=\"dataframe\">\n",
       "  <thead>\n",
       "    <tr style=\"text-align: right;\">\n",
       "      <th></th>\n",
       "      <th>country</th>\n",
       "      <th>noise</th>\n",
       "    </tr>\n",
       "  </thead>\n",
       "  <tbody>\n",
       "    <tr>\n",
       "      <th>0</th>\n",
       "      <td>Colombia</td>\n",
       "      <td>0.469112</td>\n",
       "    </tr>\n",
       "    <tr>\n",
       "      <th>1</th>\n",
       "      <td>Turkey</td>\n",
       "      <td>-0.282863</td>\n",
       "    </tr>\n",
       "    <tr>\n",
       "      <th>2</th>\n",
       "      <td>United States</td>\n",
       "      <td>-1.509059</td>\n",
       "    </tr>\n",
       "    <tr>\n",
       "      <th>3</th>\n",
       "      <td>Germany</td>\n",
       "      <td>-1.135632</td>\n",
       "    </tr>\n",
       "    <tr>\n",
       "      <th>4</th>\n",
       "      <td>Chile</td>\n",
       "      <td>1.212112</td>\n",
       "    </tr>\n",
       "  </tbody>\n",
       "</table>\n",
       "</div>"
      ],
      "text/plain": [
       "         country     noise\n",
       "0       Colombia  0.469112\n",
       "1         Turkey -0.282863\n",
       "2  United States -1.509059\n",
       "3        Germany -1.135632\n",
       "4          Chile  1.212112"
      ]
     },
     "execution_count": 34,
     "metadata": {},
     "output_type": "execute_result"
    }
   ],
   "source": [
    "df = pd.concat([countries, data], axis=1)\n",
    "df"
   ]
  },
  {
   "cell_type": "markdown",
   "metadata": {
    "slideshow": {
     "slide_type": "subslide"
    },
    "tags": [],
    "user_expressions": []
   },
   "source": [
    "## Method 3"
   ]
  },
  {
   "cell_type": "code",
   "execution_count": 35,
   "metadata": {
    "slideshow": {
     "slide_type": "fragment"
    }
   },
   "outputs": [
    {
     "data": {
      "text/html": [
       "<div>\n",
       "<style scoped>\n",
       "    .dataframe tbody tr th:only-of-type {\n",
       "        vertical-align: middle;\n",
       "    }\n",
       "\n",
       "    .dataframe tbody tr th {\n",
       "        vertical-align: top;\n",
       "    }\n",
       "\n",
       "    .dataframe thead th {\n",
       "        text-align: right;\n",
       "    }\n",
       "</style>\n",
       "<table border=\"1\" class=\"dataframe\">\n",
       "  <thead>\n",
       "    <tr style=\"text-align: right;\">\n",
       "      <th></th>\n",
       "      <th>country</th>\n",
       "      <th>noise</th>\n",
       "    </tr>\n",
       "  </thead>\n",
       "  <tbody>\n",
       "    <tr>\n",
       "      <th>0</th>\n",
       "      <td>Colombia</td>\n",
       "      <td>0.469112</td>\n",
       "    </tr>\n",
       "    <tr>\n",
       "      <th>1</th>\n",
       "      <td>Turkey</td>\n",
       "      <td>-0.282863</td>\n",
       "    </tr>\n",
       "    <tr>\n",
       "      <th>2</th>\n",
       "      <td>United States</td>\n",
       "      <td>-1.509059</td>\n",
       "    </tr>\n",
       "    <tr>\n",
       "      <th>3</th>\n",
       "      <td>Germany</td>\n",
       "      <td>-1.135632</td>\n",
       "    </tr>\n",
       "    <tr>\n",
       "      <th>4</th>\n",
       "      <td>Chile</td>\n",
       "      <td>1.212112</td>\n",
       "    </tr>\n",
       "  </tbody>\n",
       "</table>\n",
       "</div>"
      ],
      "text/plain": [
       "         country     noise\n",
       "0       Colombia  0.469112\n",
       "1         Turkey -0.282863\n",
       "2  United States -1.509059\n",
       "3        Germany -1.135632\n",
       "4          Chile  1.212112"
      ]
     },
     "execution_count": 35,
     "metadata": {},
     "output_type": "execute_result"
    }
   ],
   "source": [
    "df = pd.DataFrame({'country':countries,\n",
    "                   'noise':data})\n",
    "df"
   ]
  },
  {
   "cell_type": "markdown",
   "metadata": {
    "slideshow": {
     "slide_type": "subslide"
    },
    "user_expressions": []
   },
   "source": [
    "## Adding more variables/rows"
   ]
  },
  {
   "cell_type": "markdown",
   "metadata": {
    "slideshow": {
     "slide_type": "fragment"
    },
    "user_expressions": []
   },
   "source": [
    "Now let us add some more data to this dataframe. This is done easily by defining a new column. \n",
    "\n",
    "Let's create the square of ``noise``, create the sum of ``noise`` and its square, and get the length of the country's name. "
   ]
  },
  {
   "cell_type": "code",
   "execution_count": 36,
   "metadata": {
    "slideshow": {
     "slide_type": "subslide"
    }
   },
   "outputs": [
    {
     "data": {
      "text/html": [
       "<div>\n",
       "<style scoped>\n",
       "    .dataframe tbody tr th:only-of-type {\n",
       "        vertical-align: middle;\n",
       "    }\n",
       "\n",
       "    .dataframe tbody tr th {\n",
       "        vertical-align: top;\n",
       "    }\n",
       "\n",
       "    .dataframe thead th {\n",
       "        text-align: right;\n",
       "    }\n",
       "</style>\n",
       "<table border=\"1\" class=\"dataframe\">\n",
       "  <thead>\n",
       "    <tr style=\"text-align: right;\">\n",
       "      <th></th>\n",
       "      <th>country</th>\n",
       "      <th>noise</th>\n",
       "      <th>noise_sq</th>\n",
       "      <th>noise and its square</th>\n",
       "      <th>name length</th>\n",
       "    </tr>\n",
       "  </thead>\n",
       "  <tbody>\n",
       "    <tr>\n",
       "      <th>0</th>\n",
       "      <td>Colombia</td>\n",
       "      <td>0.469112</td>\n",
       "      <td>0.220066</td>\n",
       "      <td>0.689179</td>\n",
       "      <td>8</td>\n",
       "    </tr>\n",
       "    <tr>\n",
       "      <th>1</th>\n",
       "      <td>Turkey</td>\n",
       "      <td>-0.282863</td>\n",
       "      <td>0.080012</td>\n",
       "      <td>-0.202852</td>\n",
       "      <td>6</td>\n",
       "    </tr>\n",
       "    <tr>\n",
       "      <th>2</th>\n",
       "      <td>United States</td>\n",
       "      <td>-1.509059</td>\n",
       "      <td>2.277258</td>\n",
       "      <td>0.768199</td>\n",
       "      <td>13</td>\n",
       "    </tr>\n",
       "    <tr>\n",
       "      <th>3</th>\n",
       "      <td>Germany</td>\n",
       "      <td>-1.135632</td>\n",
       "      <td>1.289661</td>\n",
       "      <td>0.154029</td>\n",
       "      <td>7</td>\n",
       "    </tr>\n",
       "    <tr>\n",
       "      <th>4</th>\n",
       "      <td>Chile</td>\n",
       "      <td>1.212112</td>\n",
       "      <td>1.469216</td>\n",
       "      <td>2.681328</td>\n",
       "      <td>5</td>\n",
       "    </tr>\n",
       "  </tbody>\n",
       "</table>\n",
       "</div>"
      ],
      "text/plain": [
       "         country     noise  noise_sq  noise and its square  name length\n",
       "0       Colombia  0.469112  0.220066              0.689179            8\n",
       "1         Turkey -0.282863  0.080012             -0.202852            6\n",
       "2  United States -1.509059  2.277258              0.768199           13\n",
       "3        Germany -1.135632  1.289661              0.154029            7\n",
       "4          Chile  1.212112  1.469216              2.681328            5"
      ]
     },
     "execution_count": 36,
     "metadata": {},
     "output_type": "execute_result"
    }
   ],
   "source": [
    "df['noise_sq'] = df.noise**2\n",
    "df['noise and its square'] = df.noise + df.noise_sq\n",
    "df['name length'] = df.country.apply(len)\n",
    "df"
   ]
  },
  {
   "cell_type": "markdown",
   "metadata": {
    "slideshow": {
     "slide_type": "subslide"
    },
    "tags": [],
    "user_expressions": []
   },
   "source": [
    "This shows some of the ways in which you can create new data. \n",
    "\n",
    "Especially useful is the ``apply`` method, which applies a function to the series. \n",
    "\n",
    "You can also apply a function to the whole dataframe, which is useful if you want to perform computations using various columns.\n",
    "\n",
    "Let's see some other ways in which we can interact with dataframes. "
   ]
  },
  {
   "cell_type": "markdown",
   "metadata": {
    "slideshow": {
     "slide_type": "subslide"
    },
    "tags": [],
    "user_expressions": []
   },
   "source": [
    "## First, let's identify some observations, e.g., all countries in the South America."
   ]
  },
  {
   "cell_type": "markdown",
   "metadata": {
    "slideshow": {
     "slide_type": "fragment"
    },
    "user_expressions": []
   },
   "source": [
    "## Let's create a list of South American countries"
   ]
  },
  {
   "cell_type": "code",
   "execution_count": 37,
   "metadata": {
    "slideshow": {
     "slide_type": "fragment"
    }
   },
   "outputs": [],
   "source": [
    "south_america = ['Colombia', 'Chile']"
   ]
  },
  {
   "cell_type": "markdown",
   "metadata": {
    "slideshow": {
     "slide_type": "subslide"
    },
    "user_expressions": []
   },
   "source": [
    "## Let's create a new dummy variable that identifies countries in South America \n",
    "## using `apply` and our `south_america` list"
   ]
  },
  {
   "cell_type": "code",
   "execution_count": 38,
   "metadata": {
    "slideshow": {
     "slide_type": "subslide"
    }
   },
   "outputs": [
    {
     "data": {
      "text/html": [
       "<div>\n",
       "<style scoped>\n",
       "    .dataframe tbody tr th:only-of-type {\n",
       "        vertical-align: middle;\n",
       "    }\n",
       "\n",
       "    .dataframe tbody tr th {\n",
       "        vertical-align: top;\n",
       "    }\n",
       "\n",
       "    .dataframe thead th {\n",
       "        text-align: right;\n",
       "    }\n",
       "</style>\n",
       "<table border=\"1\" class=\"dataframe\">\n",
       "  <thead>\n",
       "    <tr style=\"text-align: right;\">\n",
       "      <th></th>\n",
       "      <th>country</th>\n",
       "      <th>noise</th>\n",
       "      <th>noise_sq</th>\n",
       "      <th>noise and its square</th>\n",
       "      <th>name length</th>\n",
       "      <th>South America Logical</th>\n",
       "    </tr>\n",
       "  </thead>\n",
       "  <tbody>\n",
       "    <tr>\n",
       "      <th>0</th>\n",
       "      <td>Colombia</td>\n",
       "      <td>0.469112</td>\n",
       "      <td>0.220066</td>\n",
       "      <td>0.689179</td>\n",
       "      <td>8</td>\n",
       "      <td>True</td>\n",
       "    </tr>\n",
       "    <tr>\n",
       "      <th>1</th>\n",
       "      <td>Turkey</td>\n",
       "      <td>-0.282863</td>\n",
       "      <td>0.080012</td>\n",
       "      <td>-0.202852</td>\n",
       "      <td>6</td>\n",
       "      <td>False</td>\n",
       "    </tr>\n",
       "    <tr>\n",
       "      <th>2</th>\n",
       "      <td>United States</td>\n",
       "      <td>-1.509059</td>\n",
       "      <td>2.277258</td>\n",
       "      <td>0.768199</td>\n",
       "      <td>13</td>\n",
       "      <td>False</td>\n",
       "    </tr>\n",
       "    <tr>\n",
       "      <th>3</th>\n",
       "      <td>Germany</td>\n",
       "      <td>-1.135632</td>\n",
       "      <td>1.289661</td>\n",
       "      <td>0.154029</td>\n",
       "      <td>7</td>\n",
       "      <td>False</td>\n",
       "    </tr>\n",
       "    <tr>\n",
       "      <th>4</th>\n",
       "      <td>Chile</td>\n",
       "      <td>1.212112</td>\n",
       "      <td>1.469216</td>\n",
       "      <td>2.681328</td>\n",
       "      <td>5</td>\n",
       "      <td>True</td>\n",
       "    </tr>\n",
       "  </tbody>\n",
       "</table>\n",
       "</div>"
      ],
      "text/plain": [
       "         country     noise  noise_sq  noise and its square  name length  South America Logical\n",
       "0       Colombia  0.469112  0.220066              0.689179            8                   True\n",
       "1         Turkey -0.282863  0.080012             -0.202852            6                  False\n",
       "2  United States -1.509059  2.277258              0.768199           13                  False\n",
       "3        Germany -1.135632  1.289661              0.154029            7                  False\n",
       "4          Chile  1.212112  1.469216              2.681328            5                   True"
      ]
     },
     "execution_count": 38,
     "metadata": {},
     "output_type": "execute_result"
    }
   ],
   "source": [
    "df['South America Logical'] = df.country.apply(lambda x: x in south_america)\n",
    "df"
   ]
  },
  {
   "cell_type": "markdown",
   "metadata": {
    "slideshow": {
     "slide_type": "subslide"
    },
    "user_expressions": []
   },
   "source": [
    "## Notice the new column takes on *logical* values, i.e., `True` or `False`"
   ]
  },
  {
   "cell_type": "markdown",
   "metadata": {
    "slideshow": {
     "slide_type": "fragment"
    },
    "user_expressions": []
   },
   "source": [
    "## More useful to have numerical values, where `1:True` and `0:False`"
   ]
  },
  {
   "cell_type": "markdown",
   "metadata": {
    "slideshow": {
     "slide_type": "subslide"
    },
    "user_expressions": []
   },
   "source": [
    "## Method 1: Dictionary and `map`"
   ]
  },
  {
   "cell_type": "code",
   "execution_count": 39,
   "metadata": {
    "slideshow": {
     "slide_type": "subslide"
    }
   },
   "outputs": [
    {
     "data": {
      "text/html": [
       "<div>\n",
       "<style scoped>\n",
       "    .dataframe tbody tr th:only-of-type {\n",
       "        vertical-align: middle;\n",
       "    }\n",
       "\n",
       "    .dataframe tbody tr th {\n",
       "        vertical-align: top;\n",
       "    }\n",
       "\n",
       "    .dataframe thead th {\n",
       "        text-align: right;\n",
       "    }\n",
       "</style>\n",
       "<table border=\"1\" class=\"dataframe\">\n",
       "  <thead>\n",
       "    <tr style=\"text-align: right;\">\n",
       "      <th></th>\n",
       "      <th>country</th>\n",
       "      <th>noise</th>\n",
       "      <th>noise_sq</th>\n",
       "      <th>noise and its square</th>\n",
       "      <th>name length</th>\n",
       "      <th>South America Logical</th>\n",
       "      <th>South America Dict</th>\n",
       "    </tr>\n",
       "  </thead>\n",
       "  <tbody>\n",
       "    <tr>\n",
       "      <th>0</th>\n",
       "      <td>Colombia</td>\n",
       "      <td>0.469112</td>\n",
       "      <td>0.220066</td>\n",
       "      <td>0.689179</td>\n",
       "      <td>8</td>\n",
       "      <td>True</td>\n",
       "      <td>1</td>\n",
       "    </tr>\n",
       "    <tr>\n",
       "      <th>1</th>\n",
       "      <td>Turkey</td>\n",
       "      <td>-0.282863</td>\n",
       "      <td>0.080012</td>\n",
       "      <td>-0.202852</td>\n",
       "      <td>6</td>\n",
       "      <td>False</td>\n",
       "      <td>0</td>\n",
       "    </tr>\n",
       "    <tr>\n",
       "      <th>2</th>\n",
       "      <td>United States</td>\n",
       "      <td>-1.509059</td>\n",
       "      <td>2.277258</td>\n",
       "      <td>0.768199</td>\n",
       "      <td>13</td>\n",
       "      <td>False</td>\n",
       "      <td>0</td>\n",
       "    </tr>\n",
       "    <tr>\n",
       "      <th>3</th>\n",
       "      <td>Germany</td>\n",
       "      <td>-1.135632</td>\n",
       "      <td>1.289661</td>\n",
       "      <td>0.154029</td>\n",
       "      <td>7</td>\n",
       "      <td>False</td>\n",
       "      <td>0</td>\n",
       "    </tr>\n",
       "    <tr>\n",
       "      <th>4</th>\n",
       "      <td>Chile</td>\n",
       "      <td>1.212112</td>\n",
       "      <td>1.469216</td>\n",
       "      <td>2.681328</td>\n",
       "      <td>5</td>\n",
       "      <td>True</td>\n",
       "      <td>1</td>\n",
       "    </tr>\n",
       "  </tbody>\n",
       "</table>\n",
       "</div>"
      ],
      "text/plain": [
       "         country     noise  noise_sq  noise and its square  name length  South America Logical  South America Dict\n",
       "0       Colombia  0.469112  0.220066              0.689179            8                   True                   1\n",
       "1         Turkey -0.282863  0.080012             -0.202852            6                  False                   0\n",
       "2  United States -1.509059  2.277258              0.768199           13                  False                   0\n",
       "3        Germany -1.135632  1.289661              0.154029            7                  False                   0\n",
       "4          Chile  1.212112  1.469216              2.681328            5                   True                   1"
      ]
     },
     "execution_count": 39,
     "metadata": {},
     "output_type": "execute_result"
    }
   ],
   "source": [
    "mydict = {True:1,\n",
    "          False:0}\n",
    "df['South America Dict'] = df['South America Logical'].map(mydict)\n",
    "df"
   ]
  },
  {
   "cell_type": "markdown",
   "metadata": {
    "slideshow": {
     "slide_type": "subslide"
    },
    "user_expressions": []
   },
   "source": [
    "## Method 2: Change type"
   ]
  },
  {
   "cell_type": "code",
   "execution_count": 40,
   "metadata": {
    "slideshow": {
     "slide_type": "fragment"
    }
   },
   "outputs": [
    {
     "data": {
      "text/html": [
       "<div>\n",
       "<style scoped>\n",
       "    .dataframe tbody tr th:only-of-type {\n",
       "        vertical-align: middle;\n",
       "    }\n",
       "\n",
       "    .dataframe tbody tr th {\n",
       "        vertical-align: top;\n",
       "    }\n",
       "\n",
       "    .dataframe thead th {\n",
       "        text-align: right;\n",
       "    }\n",
       "</style>\n",
       "<table border=\"1\" class=\"dataframe\">\n",
       "  <thead>\n",
       "    <tr style=\"text-align: right;\">\n",
       "      <th></th>\n",
       "      <th>country</th>\n",
       "      <th>noise</th>\n",
       "      <th>noise_sq</th>\n",
       "      <th>noise and its square</th>\n",
       "      <th>name length</th>\n",
       "      <th>South America Logical</th>\n",
       "      <th>South America Dict</th>\n",
       "      <th>South America</th>\n",
       "    </tr>\n",
       "  </thead>\n",
       "  <tbody>\n",
       "    <tr>\n",
       "      <th>0</th>\n",
       "      <td>Colombia</td>\n",
       "      <td>0.469112</td>\n",
       "      <td>0.220066</td>\n",
       "      <td>0.689179</td>\n",
       "      <td>8</td>\n",
       "      <td>True</td>\n",
       "      <td>1</td>\n",
       "      <td>1</td>\n",
       "    </tr>\n",
       "    <tr>\n",
       "      <th>1</th>\n",
       "      <td>Turkey</td>\n",
       "      <td>-0.282863</td>\n",
       "      <td>0.080012</td>\n",
       "      <td>-0.202852</td>\n",
       "      <td>6</td>\n",
       "      <td>False</td>\n",
       "      <td>0</td>\n",
       "      <td>0</td>\n",
       "    </tr>\n",
       "    <tr>\n",
       "      <th>2</th>\n",
       "      <td>United States</td>\n",
       "      <td>-1.509059</td>\n",
       "      <td>2.277258</td>\n",
       "      <td>0.768199</td>\n",
       "      <td>13</td>\n",
       "      <td>False</td>\n",
       "      <td>0</td>\n",
       "      <td>0</td>\n",
       "    </tr>\n",
       "    <tr>\n",
       "      <th>3</th>\n",
       "      <td>Germany</td>\n",
       "      <td>-1.135632</td>\n",
       "      <td>1.289661</td>\n",
       "      <td>0.154029</td>\n",
       "      <td>7</td>\n",
       "      <td>False</td>\n",
       "      <td>0</td>\n",
       "      <td>0</td>\n",
       "    </tr>\n",
       "    <tr>\n",
       "      <th>4</th>\n",
       "      <td>Chile</td>\n",
       "      <td>1.212112</td>\n",
       "      <td>1.469216</td>\n",
       "      <td>2.681328</td>\n",
       "      <td>5</td>\n",
       "      <td>True</td>\n",
       "      <td>1</td>\n",
       "      <td>1</td>\n",
       "    </tr>\n",
       "  </tbody>\n",
       "</table>\n",
       "</div>"
      ],
      "text/plain": [
       "         country     noise  noise_sq  noise and its square  name length  South America Logical  South America Dict  South America\n",
       "0       Colombia  0.469112  0.220066              0.689179            8                   True                   1              1\n",
       "1         Turkey -0.282863  0.080012             -0.202852            6                  False                   0              0\n",
       "2  United States -1.509059  2.277258              0.768199           13                  False                   0              0\n",
       "3        Germany -1.135632  1.289661              0.154029            7                  False                   0              0\n",
       "4          Chile  1.212112  1.469216              2.681328            5                   True                   1              1"
      ]
     },
     "execution_count": 40,
     "metadata": {},
     "output_type": "execute_result"
    }
   ],
   "source": [
    "df['South America'] = df.country.apply(lambda x: x in south_america).astype(int)\n",
    "df"
   ]
  },
  {
   "cell_type": "markdown",
   "metadata": {
    "slideshow": {
     "slide_type": "slide"
    },
    "user_expressions": []
   },
   "source": [
    "# <center>Exercises</center>"
   ]
  },
  {
   "cell_type": "markdown",
   "metadata": {
    "slideshow": {
     "slide_type": "subslide"
    },
    "tags": [],
    "user_expressions": []
   },
   "source": [
    "<div class=\"alert alert-block alert-warning\">\n",
    "<b>Exercise 0:</b> Create a new folder and notebook called <b>Intro-Data-Analysis-Pandas-Exercises</b> where you will perform all the exercises below. Make sure to copy any code you need from this notebook to that one. You will use that folder to create a new GitHub repo with the code, html, and slides as usual.\n",
    "</div>"
   ]
  },
  {
   "cell_type": "code",
   "execution_count": 1,
   "metadata": {},
   "outputs": [],
   "source": [
    "import pandas as pd"
   ]
  },
  {
   "cell_type": "markdown",
   "metadata": {
    "slideshow": {
     "slide_type": "fragment"
    },
    "tags": [],
    "user_expressions": []
   },
   "source": [
    "<div class=\"alert alert-block alert-warning\">\n",
    "<b>Exercise 1:</b> Create a new dataframe <code>pop</code> with population data downloaded from <a href=\"https://en.wikipedia.org/wiki/List_of_countries_by_population_(United_Nations)\">Wikipedia</a>. Make sure to clean the data so it can be used further.\n",
    "</div>\n",
    "\n"
   ]
  },
  {
   "cell_type": "code",
   "execution_count": 2,
   "metadata": {},
   "outputs": [
    {
     "data": {
      "text/html": [
       "<div>\n",
       "<style scoped>\n",
       "    .dataframe tbody tr th:only-of-type {\n",
       "        vertical-align: middle;\n",
       "    }\n",
       "\n",
       "    .dataframe tbody tr th {\n",
       "        vertical-align: top;\n",
       "    }\n",
       "\n",
       "    .dataframe thead th {\n",
       "        text-align: right;\n",
       "    }\n",
       "</style>\n",
       "<table border=\"1\" class=\"dataframe\">\n",
       "  <thead>\n",
       "    <tr style=\"text-align: right;\">\n",
       "      <th></th>\n",
       "      <th>Country / Area</th>\n",
       "      <th>UN continentalregion[4]</th>\n",
       "      <th>UN statisticalsubregion[4]</th>\n",
       "      <th>Population(1 July 2018)</th>\n",
       "      <th>Population(1 July 2019)</th>\n",
       "      <th>Change</th>\n",
       "    </tr>\n",
       "  </thead>\n",
       "  <tbody>\n",
       "    <tr>\n",
       "      <th>0</th>\n",
       "      <td>China[a]</td>\n",
       "      <td>Asia</td>\n",
       "      <td>Eastern Asia</td>\n",
       "      <td>1427647786</td>\n",
       "      <td>1433783686</td>\n",
       "      <td>+0.43%</td>\n",
       "    </tr>\n",
       "    <tr>\n",
       "      <th>1</th>\n",
       "      <td>India</td>\n",
       "      <td>Asia</td>\n",
       "      <td>Southern Asia</td>\n",
       "      <td>1352642280</td>\n",
       "      <td>1366417754</td>\n",
       "      <td>+1.02%</td>\n",
       "    </tr>\n",
       "    <tr>\n",
       "      <th>2</th>\n",
       "      <td>United States</td>\n",
       "      <td>Americas</td>\n",
       "      <td>Northern America</td>\n",
       "      <td>327096265</td>\n",
       "      <td>329064917</td>\n",
       "      <td>+0.60%</td>\n",
       "    </tr>\n",
       "    <tr>\n",
       "      <th>3</th>\n",
       "      <td>Indonesia</td>\n",
       "      <td>Asia</td>\n",
       "      <td>South-eastern Asia</td>\n",
       "      <td>267670543</td>\n",
       "      <td>270625568</td>\n",
       "      <td>+1.10%</td>\n",
       "    </tr>\n",
       "    <tr>\n",
       "      <th>4</th>\n",
       "      <td>Pakistan</td>\n",
       "      <td>Asia</td>\n",
       "      <td>Southern Asia</td>\n",
       "      <td>212228286</td>\n",
       "      <td>216565318</td>\n",
       "      <td>+2.04%</td>\n",
       "    </tr>\n",
       "    <tr>\n",
       "      <th>...</th>\n",
       "      <td>...</td>\n",
       "      <td>...</td>\n",
       "      <td>...</td>\n",
       "      <td>...</td>\n",
       "      <td>...</td>\n",
       "      <td>...</td>\n",
       "    </tr>\n",
       "    <tr>\n",
       "      <th>229</th>\n",
       "      <td>Falkland Islands (United Kingdom)</td>\n",
       "      <td>Americas</td>\n",
       "      <td>South America</td>\n",
       "      <td>3234</td>\n",
       "      <td>3377</td>\n",
       "      <td>+4.42%</td>\n",
       "    </tr>\n",
       "    <tr>\n",
       "      <th>230</th>\n",
       "      <td>Niue</td>\n",
       "      <td>Oceania</td>\n",
       "      <td>Polynesia</td>\n",
       "      <td>1620</td>\n",
       "      <td>1615</td>\n",
       "      <td>−0.31%</td>\n",
       "    </tr>\n",
       "    <tr>\n",
       "      <th>231</th>\n",
       "      <td>Tokelau (New Zealand)</td>\n",
       "      <td>Oceania</td>\n",
       "      <td>Polynesia</td>\n",
       "      <td>1319</td>\n",
       "      <td>1340</td>\n",
       "      <td>+1.59%</td>\n",
       "    </tr>\n",
       "    <tr>\n",
       "      <th>232</th>\n",
       "      <td>Vatican City[z]</td>\n",
       "      <td>Europe</td>\n",
       "      <td>Southern Europe</td>\n",
       "      <td>801</td>\n",
       "      <td>799</td>\n",
       "      <td>−0.25%</td>\n",
       "    </tr>\n",
       "    <tr>\n",
       "      <th>233</th>\n",
       "      <td>World</td>\n",
       "      <td>NaN</td>\n",
       "      <td>NaN</td>\n",
       "      <td>7631091040</td>\n",
       "      <td>7713468100</td>\n",
       "      <td>+1.08%</td>\n",
       "    </tr>\n",
       "  </tbody>\n",
       "</table>\n",
       "<p>234 rows × 6 columns</p>\n",
       "</div>"
      ],
      "text/plain": [
       "                        Country / Area UN continentalregion[4]  \\\n",
       "0                             China[a]                    Asia   \n",
       "1                                India                    Asia   \n",
       "2                        United States                Americas   \n",
       "3                            Indonesia                    Asia   \n",
       "4                             Pakistan                    Asia   \n",
       "..                                 ...                     ...   \n",
       "229  Falkland Islands (United Kingdom)                Americas   \n",
       "230                               Niue                 Oceania   \n",
       "231              Tokelau (New Zealand)                 Oceania   \n",
       "232                    Vatican City[z]                  Europe   \n",
       "233                              World                     NaN   \n",
       "\n",
       "    UN statisticalsubregion[4]  Population(1 July 2018)  \\\n",
       "0                 Eastern Asia               1427647786   \n",
       "1                Southern Asia               1352642280   \n",
       "2             Northern America                327096265   \n",
       "3           South-eastern Asia                267670543   \n",
       "4                Southern Asia                212228286   \n",
       "..                         ...                      ...   \n",
       "229              South America                     3234   \n",
       "230                  Polynesia                     1620   \n",
       "231                  Polynesia                     1319   \n",
       "232            Southern Europe                      801   \n",
       "233                        NaN               7631091040   \n",
       "\n",
       "     Population(1 July 2019)  Change  \n",
       "0                 1433783686  +0.43%  \n",
       "1                 1366417754  +1.02%  \n",
       "2                  329064917  +0.60%  \n",
       "3                  270625568  +1.10%  \n",
       "4                  216565318  +2.04%  \n",
       "..                       ...     ...  \n",
       "229                     3377  +4.42%  \n",
       "230                     1615  −0.31%  \n",
       "231                     1340  +1.59%  \n",
       "232                      799  −0.25%  \n",
       "233               7713468100  +1.08%  \n",
       "\n",
       "[234 rows x 6 columns]"
      ]
     },
     "execution_count": 2,
     "metadata": {},
     "output_type": "execute_result"
    }
   ],
   "source": [
    "url = 'https://en.wikipedia.org/wiki/List_of_countries_by_population_(United_Nations)'\n",
    "pop = pd.read_html(url, encoding='utf-8')[0]\n",
    "pop"
   ]
  },
  {
   "cell_type": "code",
   "execution_count": 3,
   "metadata": {},
   "outputs": [
    {
     "data": {
      "text/html": [
       "<div>\n",
       "<style scoped>\n",
       "    .dataframe tbody tr th:only-of-type {\n",
       "        vertical-align: middle;\n",
       "    }\n",
       "\n",
       "    .dataframe tbody tr th {\n",
       "        vertical-align: top;\n",
       "    }\n",
       "\n",
       "    .dataframe thead th {\n",
       "        text-align: right;\n",
       "    }\n",
       "</style>\n",
       "<table border=\"1\" class=\"dataframe\">\n",
       "  <thead>\n",
       "    <tr style=\"text-align: right;\">\n",
       "      <th></th>\n",
       "      <th>Country/Area</th>\n",
       "      <th>Continental_Region</th>\n",
       "      <th>Sub_Region</th>\n",
       "      <th>Population_July_2018</th>\n",
       "      <th>Population_July_2019</th>\n",
       "      <th>Change</th>\n",
       "    </tr>\n",
       "  </thead>\n",
       "  <tbody>\n",
       "    <tr>\n",
       "      <th>0</th>\n",
       "      <td>China[a]</td>\n",
       "      <td>Asia</td>\n",
       "      <td>Eastern Asia</td>\n",
       "      <td>1427647786</td>\n",
       "      <td>1433783686</td>\n",
       "      <td>+0.43%</td>\n",
       "    </tr>\n",
       "    <tr>\n",
       "      <th>1</th>\n",
       "      <td>India</td>\n",
       "      <td>Asia</td>\n",
       "      <td>Southern Asia</td>\n",
       "      <td>1352642280</td>\n",
       "      <td>1366417754</td>\n",
       "      <td>+1.02%</td>\n",
       "    </tr>\n",
       "    <tr>\n",
       "      <th>2</th>\n",
       "      <td>United States</td>\n",
       "      <td>Americas</td>\n",
       "      <td>Northern America</td>\n",
       "      <td>327096265</td>\n",
       "      <td>329064917</td>\n",
       "      <td>+0.60%</td>\n",
       "    </tr>\n",
       "    <tr>\n",
       "      <th>3</th>\n",
       "      <td>Indonesia</td>\n",
       "      <td>Asia</td>\n",
       "      <td>South-eastern Asia</td>\n",
       "      <td>267670543</td>\n",
       "      <td>270625568</td>\n",
       "      <td>+1.10%</td>\n",
       "    </tr>\n",
       "    <tr>\n",
       "      <th>4</th>\n",
       "      <td>Pakistan</td>\n",
       "      <td>Asia</td>\n",
       "      <td>Southern Asia</td>\n",
       "      <td>212228286</td>\n",
       "      <td>216565318</td>\n",
       "      <td>+2.04%</td>\n",
       "    </tr>\n",
       "  </tbody>\n",
       "</table>\n",
       "</div>"
      ],
      "text/plain": [
       "    Country/Area Continental_Region          Sub_Region  Population_July_2018  \\\n",
       "0       China[a]               Asia        Eastern Asia            1427647786   \n",
       "1          India               Asia       Southern Asia            1352642280   \n",
       "2  United States           Americas    Northern America             327096265   \n",
       "3      Indonesia               Asia  South-eastern Asia             267670543   \n",
       "4       Pakistan               Asia       Southern Asia             212228286   \n",
       "\n",
       "   Population_July_2019  Change  \n",
       "0            1433783686  +0.43%  \n",
       "1            1366417754  +1.02%  \n",
       "2             329064917  +0.60%  \n",
       "3             270625568  +1.10%  \n",
       "4             216565318  +2.04%  "
      ]
     },
     "execution_count": 3,
     "metadata": {},
     "output_type": "execute_result"
    }
   ],
   "source": [
    "pop.columns = ['Country/Area','Continental_Region','Sub_Region','Population_July_2018','Population_July_2019','Change']\n",
    "pop.head()"
   ]
  },
  {
   "cell_type": "code",
   "execution_count": 4,
   "metadata": {},
   "outputs": [
    {
     "data": {
      "text/plain": [
       "Country/Area            object\n",
       "Continental_Region      object\n",
       "Sub_Region              object\n",
       "Population_July_2018     int64\n",
       "Population_July_2019     int64\n",
       "Change                  object\n",
       "dtype: object"
      ]
     },
     "execution_count": 4,
     "metadata": {},
     "output_type": "execute_result"
    }
   ],
   "source": [
    "pop.dtypes"
   ]
  },
  {
   "cell_type": "markdown",
   "metadata": {
    "slideshow": {
     "slide_type": "fragment"
    },
    "tags": [],
    "user_expressions": []
   },
   "source": [
    "<div class=\"alert alert-block alert-warning\">\n",
    "<b>Exercise 2:</b> Merge the <code>isocodes</code> and <code>pop</code> dataframes.\n",
    "</div>"
   ]
  },
  {
   "cell_type": "code",
   "execution_count": 12,
   "metadata": {},
   "outputs": [
    {
     "data": {
      "text/html": [
       "<div>\n",
       "<style scoped>\n",
       "    .dataframe tbody tr th:only-of-type {\n",
       "        vertical-align: middle;\n",
       "    }\n",
       "\n",
       "    .dataframe tbody tr th {\n",
       "        vertical-align: top;\n",
       "    }\n",
       "\n",
       "    .dataframe thead th {\n",
       "        text-align: right;\n",
       "    }\n",
       "</style>\n",
       "<table border=\"1\" class=\"dataframe\">\n",
       "  <thead>\n",
       "    <tr style=\"text-align: right;\">\n",
       "      <th></th>\n",
       "      <th>Country name</th>\n",
       "      <th>Alpha-3 code</th>\n",
       "      <th>Alpha-2 code original</th>\n",
       "      <th>Country/Area</th>\n",
       "      <th>Continental_Region</th>\n",
       "      <th>Sub_Region</th>\n",
       "      <th>Population_July_2018</th>\n",
       "      <th>Population_July_2019</th>\n",
       "      <th>Change</th>\n",
       "    </tr>\n",
       "  </thead>\n",
       "  <tbody>\n",
       "    <tr>\n",
       "      <th>0</th>\n",
       "      <td>Afghanistan</td>\n",
       "      <td>AFG</td>\n",
       "      <td>.mw-parser-output .monospaced{font-family:mono...</td>\n",
       "      <td>Afghanistan</td>\n",
       "      <td>Asia</td>\n",
       "      <td>Southern Asia</td>\n",
       "      <td>37171921</td>\n",
       "      <td>38041754</td>\n",
       "      <td>+2.34%</td>\n",
       "    </tr>\n",
       "    <tr>\n",
       "      <th>1</th>\n",
       "      <td>Albania</td>\n",
       "      <td>ALB</td>\n",
       "      <td>AL</td>\n",
       "      <td>Albania</td>\n",
       "      <td>Europe</td>\n",
       "      <td>Southern Europe</td>\n",
       "      <td>2882740</td>\n",
       "      <td>2880917</td>\n",
       "      <td>−0.06%</td>\n",
       "    </tr>\n",
       "    <tr>\n",
       "      <th>2</th>\n",
       "      <td>Algeria</td>\n",
       "      <td>DZA</td>\n",
       "      <td>DZ</td>\n",
       "      <td>Algeria</td>\n",
       "      <td>Africa</td>\n",
       "      <td>Northern Africa</td>\n",
       "      <td>42228408</td>\n",
       "      <td>43053054</td>\n",
       "      <td>+1.95%</td>\n",
       "    </tr>\n",
       "    <tr>\n",
       "      <th>3</th>\n",
       "      <td>Andorra</td>\n",
       "      <td>AND</td>\n",
       "      <td>AD</td>\n",
       "      <td>Andorra</td>\n",
       "      <td>Europe</td>\n",
       "      <td>Southern Europe</td>\n",
       "      <td>77006</td>\n",
       "      <td>77142</td>\n",
       "      <td>+0.18%</td>\n",
       "    </tr>\n",
       "    <tr>\n",
       "      <th>4</th>\n",
       "      <td>Angola</td>\n",
       "      <td>AGO</td>\n",
       "      <td>AO</td>\n",
       "      <td>Angola</td>\n",
       "      <td>Africa</td>\n",
       "      <td>Middle Africa</td>\n",
       "      <td>30809787</td>\n",
       "      <td>31825295</td>\n",
       "      <td>+3.30%</td>\n",
       "    </tr>\n",
       "    <tr>\n",
       "      <th>...</th>\n",
       "      <td>...</td>\n",
       "      <td>...</td>\n",
       "      <td>...</td>\n",
       "      <td>...</td>\n",
       "      <td>...</td>\n",
       "      <td>...</td>\n",
       "      <td>...</td>\n",
       "      <td>...</td>\n",
       "      <td>...</td>\n",
       "    </tr>\n",
       "    <tr>\n",
       "      <th>139</th>\n",
       "      <td>Uzbekistan</td>\n",
       "      <td>UZB</td>\n",
       "      <td>UZ</td>\n",
       "      <td>Uzbekistan</td>\n",
       "      <td>Asia</td>\n",
       "      <td>Central Asia</td>\n",
       "      <td>32476244</td>\n",
       "      <td>32981716</td>\n",
       "      <td>+1.56%</td>\n",
       "    </tr>\n",
       "    <tr>\n",
       "      <th>140</th>\n",
       "      <td>Vanuatu</td>\n",
       "      <td>VUT</td>\n",
       "      <td>VU</td>\n",
       "      <td>Vanuatu</td>\n",
       "      <td>Oceania</td>\n",
       "      <td>Melanesia</td>\n",
       "      <td>292680</td>\n",
       "      <td>299882</td>\n",
       "      <td>+2.46%</td>\n",
       "    </tr>\n",
       "    <tr>\n",
       "      <th>141</th>\n",
       "      <td>Yemen</td>\n",
       "      <td>YEM</td>\n",
       "      <td>YE</td>\n",
       "      <td>Yemen</td>\n",
       "      <td>Asia</td>\n",
       "      <td>Western Asia</td>\n",
       "      <td>28498683</td>\n",
       "      <td>29161922</td>\n",
       "      <td>+2.33%</td>\n",
       "    </tr>\n",
       "    <tr>\n",
       "      <th>142</th>\n",
       "      <td>Zambia</td>\n",
       "      <td>ZMB</td>\n",
       "      <td>ZM</td>\n",
       "      <td>Zambia</td>\n",
       "      <td>Africa</td>\n",
       "      <td>Eastern Africa</td>\n",
       "      <td>17351708</td>\n",
       "      <td>17861030</td>\n",
       "      <td>+2.94%</td>\n",
       "    </tr>\n",
       "    <tr>\n",
       "      <th>143</th>\n",
       "      <td>Zimbabwe</td>\n",
       "      <td>ZWE</td>\n",
       "      <td>ZW</td>\n",
       "      <td>Zimbabwe</td>\n",
       "      <td>Africa</td>\n",
       "      <td>Eastern Africa</td>\n",
       "      <td>14438802</td>\n",
       "      <td>14645468</td>\n",
       "      <td>+1.43%</td>\n",
       "    </tr>\n",
       "  </tbody>\n",
       "</table>\n",
       "<p>144 rows × 9 columns</p>\n",
       "</div>"
      ],
      "text/plain": [
       "    Country name Alpha-3 code  \\\n",
       "0    Afghanistan          AFG   \n",
       "1        Albania          ALB   \n",
       "2        Algeria          DZA   \n",
       "3        Andorra          AND   \n",
       "4         Angola          AGO   \n",
       "..           ...          ...   \n",
       "139   Uzbekistan          UZB   \n",
       "140      Vanuatu          VUT   \n",
       "141        Yemen          YEM   \n",
       "142       Zambia          ZMB   \n",
       "143     Zimbabwe          ZWE   \n",
       "\n",
       "                                 Alpha-2 code original Country/Area  \\\n",
       "0    .mw-parser-output .monospaced{font-family:mono...  Afghanistan   \n",
       "1                                                   AL      Albania   \n",
       "2                                                   DZ      Algeria   \n",
       "3                                                   AD      Andorra   \n",
       "4                                                   AO       Angola   \n",
       "..                                                 ...          ...   \n",
       "139                                                 UZ   Uzbekistan   \n",
       "140                                                 VU      Vanuatu   \n",
       "141                                                 YE        Yemen   \n",
       "142                                                 ZM       Zambia   \n",
       "143                                                 ZW     Zimbabwe   \n",
       "\n",
       "    Continental_Region       Sub_Region  Population_July_2018  \\\n",
       "0                 Asia    Southern Asia              37171921   \n",
       "1               Europe  Southern Europe               2882740   \n",
       "2               Africa  Northern Africa              42228408   \n",
       "3               Europe  Southern Europe                 77006   \n",
       "4               Africa    Middle Africa              30809787   \n",
       "..                 ...              ...                   ...   \n",
       "139               Asia     Central Asia              32476244   \n",
       "140            Oceania        Melanesia                292680   \n",
       "141               Asia     Western Asia              28498683   \n",
       "142             Africa   Eastern Africa              17351708   \n",
       "143             Africa   Eastern Africa              14438802   \n",
       "\n",
       "     Population_July_2019  Change  \n",
       "0                38041754  +2.34%  \n",
       "1                 2880917  −0.06%  \n",
       "2                43053054  +1.95%  \n",
       "3                   77142  +0.18%  \n",
       "4                31825295  +3.30%  \n",
       "..                    ...     ...  \n",
       "139              32981716  +1.56%  \n",
       "140                299882  +2.46%  \n",
       "141              29161922  +2.33%  \n",
       "142              17861030  +2.94%  \n",
       "143              14645468  +1.43%  \n",
       "\n",
       "[144 rows x 9 columns]"
      ]
     },
     "execution_count": 12,
     "metadata": {},
     "output_type": "execute_result"
    }
   ],
   "source": [
    "from IPython.display import IFrame\n",
    "url = 'https://en.wikipedia.org/wiki/List_of_ISO_3166_country_codes'\n",
    "\n",
    "isocodes = pd.read_html(url, encoding='utf-8')[0]\n",
    "isocodes\n",
    "\n",
    "isocodes = isocodes.droplevel(0, axis=1)\n",
    "isocodes.head()\n",
    "\n",
    "mycols = isocodes.columns\n",
    "mycols = [c[:c.find('[')] for c in mycols]\n",
    "mycols\n",
    "\n",
    "isocodes.columns = mycols\n",
    "isocodes.head()\n",
    "\n",
    "isocodes['Alpha-2 code original'] = isocodes['Alpha-2 code']\n",
    "isocodes['Alpha-2 code'] = isocodes['Subdivision code links'].apply(lambda x: x[x.find(':')+1:])\n",
    "isocodes.head()\n",
    "\n",
    "isocodes = isocodes.drop(columns = ([\"Official state name\", \"Sovereignty\", \"Alpha-2 code\", \"Numeric code\", \"Subdivision code links\", \"Internet ccTLD\"]))\n",
    "\n",
    "merged = isocodes.merge(pop, left_on='Country name', right_on='Country/Area')\n",
    "merged"
   ]
  },
  {
   "cell_type": "markdown",
   "metadata": {
    "slideshow": {
     "slide_type": "subslide"
    },
    "tags": [],
    "user_expressions": []
   },
   "source": [
    "<div class=\"alert alert-block alert-warning\">\n",
    "<b>Exercise 3:</b> Merge the dataframes we have created so far to have a unique dataframe that has ISO codes, GDP per capita, and population data.\n",
    "</div>"
   ]
  },
  {
   "cell_type": "code",
   "execution_count": 13,
   "metadata": {},
   "outputs": [
    {
     "data": {
      "text/html": [
       "<div>\n",
       "<style scoped>\n",
       "    .dataframe tbody tr th:only-of-type {\n",
       "        vertical-align: middle;\n",
       "    }\n",
       "\n",
       "    .dataframe tbody tr th {\n",
       "        vertical-align: top;\n",
       "    }\n",
       "\n",
       "    .dataframe thead th {\n",
       "        text-align: right;\n",
       "    }\n",
       "</style>\n",
       "<table border=\"1\" class=\"dataframe\">\n",
       "  <thead>\n",
       "    <tr style=\"text-align: right;\">\n",
       "      <th></th>\n",
       "      <th>Country/Territory</th>\n",
       "      <th>UN Region</th>\n",
       "      <th>gdppc_IMF</th>\n",
       "      <th>year_IMF</th>\n",
       "      <th>gdppc_WB</th>\n",
       "      <th>year_WB</th>\n",
       "      <th>gdppc_CIA</th>\n",
       "      <th>year_CIA</th>\n",
       "      <th>country_name</th>\n",
       "    </tr>\n",
       "  </thead>\n",
       "  <tbody>\n",
       "    <tr>\n",
       "      <th>0</th>\n",
       "      <td>Luxembourg *</td>\n",
       "      <td>Europe</td>\n",
       "      <td>141587.0</td>\n",
       "      <td>2022</td>\n",
       "      <td>134754.0</td>\n",
       "      <td>2021</td>\n",
       "      <td>110300</td>\n",
       "      <td>2020</td>\n",
       "      <td>Luxembourg</td>\n",
       "    </tr>\n",
       "    <tr>\n",
       "      <th>1</th>\n",
       "      <td>Liechtenstein *</td>\n",
       "      <td>Europe</td>\n",
       "      <td>NaN</td>\n",
       "      <td>&lt;NA&gt;</td>\n",
       "      <td>NaN</td>\n",
       "      <td>&lt;NA&gt;</td>\n",
       "      <td>139100</td>\n",
       "      <td>2009</td>\n",
       "      <td>Liechtenstein</td>\n",
       "    </tr>\n",
       "    <tr>\n",
       "      <th>2</th>\n",
       "      <td>Singapore *</td>\n",
       "      <td>Asia</td>\n",
       "      <td>131426.0</td>\n",
       "      <td>2022</td>\n",
       "      <td>116487.0</td>\n",
       "      <td>2021</td>\n",
       "      <td>93400</td>\n",
       "      <td>2020</td>\n",
       "      <td>Singapore</td>\n",
       "    </tr>\n",
       "    <tr>\n",
       "      <th>3</th>\n",
       "      <td>Ireland *</td>\n",
       "      <td>Europe</td>\n",
       "      <td>131034.0</td>\n",
       "      <td>2022</td>\n",
       "      <td>106456.0</td>\n",
       "      <td>2021</td>\n",
       "      <td>89700</td>\n",
       "      <td>2020</td>\n",
       "      <td>Ireland</td>\n",
       "    </tr>\n",
       "    <tr>\n",
       "      <th>4</th>\n",
       "      <td>Monaco *</td>\n",
       "      <td>Europe</td>\n",
       "      <td>NaN</td>\n",
       "      <td>&lt;NA&gt;</td>\n",
       "      <td>NaN</td>\n",
       "      <td>&lt;NA&gt;</td>\n",
       "      <td>115700</td>\n",
       "      <td>2015</td>\n",
       "      <td>Monaco</td>\n",
       "    </tr>\n",
       "  </tbody>\n",
       "</table>\n",
       "</div>"
      ],
      "text/plain": [
       "  Country/Territory UN Region  gdppc_IMF  year_IMF  gdppc_WB  year_WB  \\\n",
       "0      Luxembourg *    Europe   141587.0      2022  134754.0     2021   \n",
       "1   Liechtenstein *    Europe        NaN      <NA>       NaN     <NA>   \n",
       "2       Singapore *      Asia   131426.0      2022  116487.0     2021   \n",
       "3         Ireland *    Europe   131034.0      2022  106456.0     2021   \n",
       "4          Monaco *    Europe        NaN      <NA>       NaN     <NA>   \n",
       "\n",
       "   gdppc_CIA  year_CIA   country_name  \n",
       "0     110300      2020     Luxembourg  \n",
       "1     139100      2009  Liechtenstein  \n",
       "2      93400      2020      Singapore  \n",
       "3      89700      2020        Ireland  \n",
       "4     115700      2015         Monaco  "
      ]
     },
     "execution_count": 13,
     "metadata": {},
     "output_type": "execute_result"
    }
   ],
   "source": [
    "url = 'https://en.wikipedia.org/wiki/List_of_countries_by_GDP_(PPP)_per_capita'\n",
    "IFrame(url, width=800, height=400)\n",
    "\n",
    "gdppc_wiki = pd.read_html(url, encoding='utf-8')[1]\n",
    "gdppc_wiki\n",
    "\n",
    "gdppc_wiki.columns = ['Country/Territory', 'UN Region', 'gdppc_IMF', 'year_IMF',\n",
    "                      'gdppc_WB', 'year_WB', 'gdppc_CIA', 'year_CIA']\n",
    "gdppc_wiki.head()\n",
    "\n",
    "gdppc_wiki['country_name'] = gdppc_wiki['Country/Territory'].str.replace('*', '', regex=True).str.strip()\n",
    "\n",
    "for c in gdppc_wiki.columns[2:-1]:\n",
    "    if gdppc_wiki[c].dtype=='O':\n",
    "        gdppc_wiki[c] = pd.to_numeric(gdppc_wiki[c].str.replace('Ã¢Â€Â”', 'nan'), errors='coerce')\n",
    "        if c.startswith('year'):\n",
    "            gdppc_wiki[c] = gdppc_wiki[c].astype('Int64')\n",
    "gdppc_wiki.head()"
   ]
  },
  {
   "cell_type": "code",
   "execution_count": 14,
   "metadata": {},
   "outputs": [
    {
     "data": {
      "text/html": [
       "<div>\n",
       "<style scoped>\n",
       "    .dataframe tbody tr th:only-of-type {\n",
       "        vertical-align: middle;\n",
       "    }\n",
       "\n",
       "    .dataframe tbody tr th {\n",
       "        vertical-align: top;\n",
       "    }\n",
       "\n",
       "    .dataframe thead th {\n",
       "        text-align: right;\n",
       "    }\n",
       "</style>\n",
       "<table border=\"1\" class=\"dataframe\">\n",
       "  <thead>\n",
       "    <tr style=\"text-align: right;\">\n",
       "      <th></th>\n",
       "      <th>Country name</th>\n",
       "      <th>Alpha-3 code</th>\n",
       "      <th>Alpha-2 code original</th>\n",
       "      <th>Country/Area</th>\n",
       "      <th>Continental_Region</th>\n",
       "      <th>Sub_Region</th>\n",
       "      <th>Population_July_2018</th>\n",
       "      <th>Population_July_2019</th>\n",
       "      <th>Change</th>\n",
       "      <th>Country/Territory</th>\n",
       "      <th>UN Region</th>\n",
       "      <th>gdppc_IMF</th>\n",
       "      <th>year_IMF</th>\n",
       "      <th>gdppc_WB</th>\n",
       "      <th>year_WB</th>\n",
       "      <th>gdppc_CIA</th>\n",
       "      <th>year_CIA</th>\n",
       "      <th>country_name</th>\n",
       "    </tr>\n",
       "  </thead>\n",
       "  <tbody>\n",
       "    <tr>\n",
       "      <th>0</th>\n",
       "      <td>Afghanistan</td>\n",
       "      <td>AFG</td>\n",
       "      <td>.mw-parser-output .monospaced{font-family:mono...</td>\n",
       "      <td>Afghanistan</td>\n",
       "      <td>Asia</td>\n",
       "      <td>Southern Asia</td>\n",
       "      <td>37171921</td>\n",
       "      <td>38041754</td>\n",
       "      <td>+2.34%</td>\n",
       "      <td>Afghanistan *</td>\n",
       "      <td>Asia</td>\n",
       "      <td>2456.0</td>\n",
       "      <td>2020</td>\n",
       "      <td>2079.0</td>\n",
       "      <td>2020</td>\n",
       "      <td>2000</td>\n",
       "      <td>2020</td>\n",
       "      <td>Afghanistan</td>\n",
       "    </tr>\n",
       "    <tr>\n",
       "      <th>1</th>\n",
       "      <td>Albania</td>\n",
       "      <td>ALB</td>\n",
       "      <td>AL</td>\n",
       "      <td>Albania</td>\n",
       "      <td>Europe</td>\n",
       "      <td>Southern Europe</td>\n",
       "      <td>2882740</td>\n",
       "      <td>2880917</td>\n",
       "      <td>−0.06%</td>\n",
       "      <td>Albania *</td>\n",
       "      <td>Europe</td>\n",
       "      <td>17858.0</td>\n",
       "      <td>2022</td>\n",
       "      <td>15646.0</td>\n",
       "      <td>2021</td>\n",
       "      <td>13300</td>\n",
       "      <td>2020</td>\n",
       "      <td>Albania</td>\n",
       "    </tr>\n",
       "    <tr>\n",
       "      <th>2</th>\n",
       "      <td>Algeria</td>\n",
       "      <td>DZA</td>\n",
       "      <td>DZ</td>\n",
       "      <td>Algeria</td>\n",
       "      <td>Africa</td>\n",
       "      <td>Northern Africa</td>\n",
       "      <td>42228408</td>\n",
       "      <td>43053054</td>\n",
       "      <td>+1.95%</td>\n",
       "      <td>Algeria *</td>\n",
       "      <td>Africa</td>\n",
       "      <td>13324.0</td>\n",
       "      <td>2022</td>\n",
       "      <td>12038.0</td>\n",
       "      <td>2021</td>\n",
       "      <td>10700</td>\n",
       "      <td>2020</td>\n",
       "      <td>Algeria</td>\n",
       "    </tr>\n",
       "    <tr>\n",
       "      <th>3</th>\n",
       "      <td>Andorra</td>\n",
       "      <td>AND</td>\n",
       "      <td>AD</td>\n",
       "      <td>Andorra</td>\n",
       "      <td>Europe</td>\n",
       "      <td>Southern Europe</td>\n",
       "      <td>77006</td>\n",
       "      <td>77142</td>\n",
       "      <td>+0.18%</td>\n",
       "      <td>Andorra *</td>\n",
       "      <td>Europe</td>\n",
       "      <td>65372.0</td>\n",
       "      <td>2022</td>\n",
       "      <td>NaN</td>\n",
       "      <td>&lt;NA&gt;</td>\n",
       "      <td>49900</td>\n",
       "      <td>2015</td>\n",
       "      <td>Andorra</td>\n",
       "    </tr>\n",
       "    <tr>\n",
       "      <th>4</th>\n",
       "      <td>Angola</td>\n",
       "      <td>AGO</td>\n",
       "      <td>AO</td>\n",
       "      <td>Angola</td>\n",
       "      <td>Africa</td>\n",
       "      <td>Middle Africa</td>\n",
       "      <td>30809787</td>\n",
       "      <td>31825295</td>\n",
       "      <td>+3.30%</td>\n",
       "      <td>Angola *</td>\n",
       "      <td>Africa</td>\n",
       "      <td>7455.0</td>\n",
       "      <td>2022</td>\n",
       "      <td>6581.0</td>\n",
       "      <td>2021</td>\n",
       "      <td>6200</td>\n",
       "      <td>2020</td>\n",
       "      <td>Angola</td>\n",
       "    </tr>\n",
       "    <tr>\n",
       "      <th>...</th>\n",
       "      <td>...</td>\n",
       "      <td>...</td>\n",
       "      <td>...</td>\n",
       "      <td>...</td>\n",
       "      <td>...</td>\n",
       "      <td>...</td>\n",
       "      <td>...</td>\n",
       "      <td>...</td>\n",
       "      <td>...</td>\n",
       "      <td>...</td>\n",
       "      <td>...</td>\n",
       "      <td>...</td>\n",
       "      <td>...</td>\n",
       "      <td>...</td>\n",
       "      <td>...</td>\n",
       "      <td>...</td>\n",
       "      <td>...</td>\n",
       "      <td>...</td>\n",
       "    </tr>\n",
       "    <tr>\n",
       "      <th>139</th>\n",
       "      <td>Uzbekistan</td>\n",
       "      <td>UZB</td>\n",
       "      <td>UZ</td>\n",
       "      <td>Uzbekistan</td>\n",
       "      <td>Asia</td>\n",
       "      <td>Central Asia</td>\n",
       "      <td>32476244</td>\n",
       "      <td>32981716</td>\n",
       "      <td>+1.56%</td>\n",
       "      <td>Uzbekistan *</td>\n",
       "      <td>Asia</td>\n",
       "      <td>9478.0</td>\n",
       "      <td>2022</td>\n",
       "      <td>8497.0</td>\n",
       "      <td>2021</td>\n",
       "      <td>7000</td>\n",
       "      <td>2020</td>\n",
       "      <td>Uzbekistan</td>\n",
       "    </tr>\n",
       "    <tr>\n",
       "      <th>140</th>\n",
       "      <td>Vanuatu</td>\n",
       "      <td>VUT</td>\n",
       "      <td>VU</td>\n",
       "      <td>Vanuatu</td>\n",
       "      <td>Oceania</td>\n",
       "      <td>Melanesia</td>\n",
       "      <td>292680</td>\n",
       "      <td>299882</td>\n",
       "      <td>+2.46%</td>\n",
       "      <td>Vanuatu *</td>\n",
       "      <td>Oceania</td>\n",
       "      <td>2858.0</td>\n",
       "      <td>2022</td>\n",
       "      <td>3105.0</td>\n",
       "      <td>2021</td>\n",
       "      <td>2800</td>\n",
       "      <td>2020</td>\n",
       "      <td>Vanuatu</td>\n",
       "    </tr>\n",
       "    <tr>\n",
       "      <th>141</th>\n",
       "      <td>Yemen</td>\n",
       "      <td>YEM</td>\n",
       "      <td>YE</td>\n",
       "      <td>Yemen</td>\n",
       "      <td>Asia</td>\n",
       "      <td>Western Asia</td>\n",
       "      <td>28498683</td>\n",
       "      <td>29161922</td>\n",
       "      <td>+2.33%</td>\n",
       "      <td>Yemen *</td>\n",
       "      <td>Asia</td>\n",
       "      <td>2136.0</td>\n",
       "      <td>2022</td>\n",
       "      <td>3689.0</td>\n",
       "      <td>2013</td>\n",
       "      <td>2500</td>\n",
       "      <td>2017</td>\n",
       "      <td>Yemen</td>\n",
       "    </tr>\n",
       "    <tr>\n",
       "      <th>142</th>\n",
       "      <td>Zambia</td>\n",
       "      <td>ZMB</td>\n",
       "      <td>ZM</td>\n",
       "      <td>Zambia</td>\n",
       "      <td>Africa</td>\n",
       "      <td>Eastern Africa</td>\n",
       "      <td>17351708</td>\n",
       "      <td>17861030</td>\n",
       "      <td>+2.94%</td>\n",
       "      <td>Zambia *</td>\n",
       "      <td>Africa</td>\n",
       "      <td>3808.0</td>\n",
       "      <td>2022</td>\n",
       "      <td>3624.0</td>\n",
       "      <td>2021</td>\n",
       "      <td>3300</td>\n",
       "      <td>2020</td>\n",
       "      <td>Zambia</td>\n",
       "    </tr>\n",
       "    <tr>\n",
       "      <th>143</th>\n",
       "      <td>Zimbabwe</td>\n",
       "      <td>ZWE</td>\n",
       "      <td>ZW</td>\n",
       "      <td>Zimbabwe</td>\n",
       "      <td>Africa</td>\n",
       "      <td>Eastern Africa</td>\n",
       "      <td>14438802</td>\n",
       "      <td>14645468</td>\n",
       "      <td>+1.43%</td>\n",
       "      <td>Zimbabwe *</td>\n",
       "      <td>Africa</td>\n",
       "      <td>2555.0</td>\n",
       "      <td>2022</td>\n",
       "      <td>2445.0</td>\n",
       "      <td>2021</td>\n",
       "      <td>2700</td>\n",
       "      <td>2020</td>\n",
       "      <td>Zimbabwe</td>\n",
       "    </tr>\n",
       "  </tbody>\n",
       "</table>\n",
       "<p>144 rows × 18 columns</p>\n",
       "</div>"
      ],
      "text/plain": [
       "    Country name Alpha-3 code  \\\n",
       "0    Afghanistan          AFG   \n",
       "1        Albania          ALB   \n",
       "2        Algeria          DZA   \n",
       "3        Andorra          AND   \n",
       "4         Angola          AGO   \n",
       "..           ...          ...   \n",
       "139   Uzbekistan          UZB   \n",
       "140      Vanuatu          VUT   \n",
       "141        Yemen          YEM   \n",
       "142       Zambia          ZMB   \n",
       "143     Zimbabwe          ZWE   \n",
       "\n",
       "                                 Alpha-2 code original Country/Area  \\\n",
       "0    .mw-parser-output .monospaced{font-family:mono...  Afghanistan   \n",
       "1                                                   AL      Albania   \n",
       "2                                                   DZ      Algeria   \n",
       "3                                                   AD      Andorra   \n",
       "4                                                   AO       Angola   \n",
       "..                                                 ...          ...   \n",
       "139                                                 UZ   Uzbekistan   \n",
       "140                                                 VU      Vanuatu   \n",
       "141                                                 YE        Yemen   \n",
       "142                                                 ZM       Zambia   \n",
       "143                                                 ZW     Zimbabwe   \n",
       "\n",
       "    Continental_Region       Sub_Region  Population_July_2018  \\\n",
       "0                 Asia    Southern Asia              37171921   \n",
       "1               Europe  Southern Europe               2882740   \n",
       "2               Africa  Northern Africa              42228408   \n",
       "3               Europe  Southern Europe                 77006   \n",
       "4               Africa    Middle Africa              30809787   \n",
       "..                 ...              ...                   ...   \n",
       "139               Asia     Central Asia              32476244   \n",
       "140            Oceania        Melanesia                292680   \n",
       "141               Asia     Western Asia              28498683   \n",
       "142             Africa   Eastern Africa              17351708   \n",
       "143             Africa   Eastern Africa              14438802   \n",
       "\n",
       "     Population_July_2019  Change Country/Territory UN Region  gdppc_IMF  \\\n",
       "0                38041754  +2.34%     Afghanistan *      Asia     2456.0   \n",
       "1                 2880917  −0.06%         Albania *    Europe    17858.0   \n",
       "2                43053054  +1.95%         Algeria *    Africa    13324.0   \n",
       "3                   77142  +0.18%         Andorra *    Europe    65372.0   \n",
       "4                31825295  +3.30%          Angola *    Africa     7455.0   \n",
       "..                    ...     ...               ...       ...        ...   \n",
       "139              32981716  +1.56%      Uzbekistan *      Asia     9478.0   \n",
       "140                299882  +2.46%         Vanuatu *   Oceania     2858.0   \n",
       "141              29161922  +2.33%           Yemen *      Asia     2136.0   \n",
       "142              17861030  +2.94%          Zambia *    Africa     3808.0   \n",
       "143              14645468  +1.43%        Zimbabwe *    Africa     2555.0   \n",
       "\n",
       "     year_IMF  gdppc_WB  year_WB  gdppc_CIA  year_CIA country_name  \n",
       "0        2020    2079.0     2020       2000      2020  Afghanistan  \n",
       "1        2022   15646.0     2021      13300      2020      Albania  \n",
       "2        2022   12038.0     2021      10700      2020      Algeria  \n",
       "3        2022       NaN     <NA>      49900      2015      Andorra  \n",
       "4        2022    6581.0     2021       6200      2020       Angola  \n",
       "..        ...       ...      ...        ...       ...          ...  \n",
       "139      2022    8497.0     2021       7000      2020   Uzbekistan  \n",
       "140      2022    3105.0     2021       2800      2020      Vanuatu  \n",
       "141      2022    3689.0     2013       2500      2017        Yemen  \n",
       "142      2022    3624.0     2021       3300      2020       Zambia  \n",
       "143      2022    2445.0     2021       2700      2020     Zimbabwe  \n",
       "\n",
       "[144 rows x 18 columns]"
      ]
     },
     "execution_count": 14,
     "metadata": {},
     "output_type": "execute_result"
    }
   ],
   "source": [
    "merged = merged.merge(gdppc_wiki, left_on='Country name', right_on='country_name')\n",
    "merged"
   ]
  },
  {
   "cell_type": "markdown",
   "metadata": {
    "slideshow": {
     "slide_type": "fragment"
    },
    "tags": [],
    "user_expressions": []
   },
   "source": [
    "<div class=\"alert alert-block alert-warning\">\n",
    "<b>Exercise 4:</b> Use the <code>os</code> package to create folders to export data and figures. \n",
    "Since you will be using the names of these folders a lot, save their names in variables called <code>path</code>, <code>pathout</code>, and <code>pathgraphs</code>, where <code>path = './data/'</code>, <code>pathout = './data/'</code>, and <code>pathgraphs = './graphs/'</code>\n",
    "</div>"
   ]
  },
  {
   "cell_type": "code",
   "execution_count": 15,
   "metadata": {},
   "outputs": [],
   "source": [
    "import os\n",
    "\n",
    "path = './data/'\n",
    "pathout = './data/'\n",
    "pathgraphs = './graphs/'\n",
    "\n",
    "try: \n",
    "    os.mkdir(path) \n",
    "except OSError as error: \n",
    "    print(\"Folder already exists.\")\n",
    "\n",
    "try: \n",
    "    os.mkdir(pathgraphs) \n",
    "except OSError as error: \n",
    "    print(\"Folder already exists.\")"
   ]
  },
  {
   "cell_type": "markdown",
   "metadata": {
    "slideshow": {
     "slide_type": "fragment"
    },
    "tags": [],
    "user_expressions": []
   },
   "source": [
    "<div class=\"alert alert-block alert-warning\">\n",
    "    <b>Exercise 5:</b> Save the dataframe created in Exercise 3 as a <b>CSV, XLSX, and Stata</b> file into the <code>pathout</code> folder. Use a variable called <code>filename = 'Wiki_Data'</code> so you can use similar code to save all file types. Notice only the filetype will change.\n",
    "</div>"
   ]
  },
  {
   "cell_type": "code",
   "execution_count": 16,
   "metadata": {},
   "outputs": [],
   "source": [
    "merged.to_csv('./data/Wiki_Data', sep='\\t')"
   ]
  },
  {
   "cell_type": "markdown",
   "metadata": {
    "slideshow": {
     "slide_type": "subslide"
    },
    "tags": [],
    "user_expressions": []
   },
   "source": [
    "<div class=\"alert alert-block alert-warning\">\n",
    "<b>Exercise 6:</b> Create plots showing the relation between GDP per capita and Population. Create all 4 types of possible regression plots and save them as <b> PNG, PDF, and JPG</b> files. Make sure to save them in the folder you created for <b>graphs</b>\n",
    "</div>"
   ]
  },
  {
   "cell_type": "code",
   "execution_count": 26,
   "metadata": {},
   "outputs": [
    {
     "ename": "NameError",
     "evalue": "name 'plt' is not defined",
     "output_type": "error",
     "traceback": [
      "\u001b[0;31m---------------------------------------------------------------------------\u001b[0m",
      "\u001b[0;31mNameError\u001b[0m                                 Traceback (most recent call last)",
      "Input \u001b[0;32mIn [26]\u001b[0m, in \u001b[0;36m<cell line: 2>\u001b[0;34m()\u001b[0m\n\u001b[1;32m      1\u001b[0m merged\u001b[38;5;241m.\u001b[39mplot( x\u001b[38;5;241m=\u001b[39m\u001b[38;5;124m'\u001b[39m\u001b[38;5;124mPopulation_July_2019\u001b[39m\u001b[38;5;124m'\u001b[39m, y\u001b[38;5;241m=\u001b[39m\u001b[38;5;124m'\u001b[39m\u001b[38;5;124mgdppc_IMF\u001b[39m\u001b[38;5;124m'\u001b[39m, kind\u001b[38;5;241m=\u001b[39m\u001b[38;5;124m'\u001b[39m\u001b[38;5;124mhist\u001b[39m\u001b[38;5;124m'\u001b[39m)\n\u001b[0;32m----> 2\u001b[0m \u001b[43mplt\u001b[49m\u001b[38;5;241m.\u001b[39msavefig(\u001b[38;5;124m\"\u001b[39m\u001b[38;5;124m./graphs/output1.png\u001b[39m\u001b[38;5;124m\"\u001b[39m)\n",
      "\u001b[0;31mNameError\u001b[0m: name 'plt' is not defined"
     ]
    },
    {
     "data": {
      "image/png": "[encoded data removed]",
      "text/plain": [
       "<Figure size 640x480 with 1 Axes>"
      ]
     },
     "metadata": {},
     "output_type": "display_data"
    }
   ],
   "source": [
    "merged.plot( x='Population_July_2019', y='gdppc_IMF', kind='hist')\n",
    "plt.savefig(\"./graphs/output1.png\")"
   ]
  },
  {
   "cell_type": "code",
   "execution_count": 27,
   "metadata": {},
   "outputs": [
    {
     "ename": "NameError",
     "evalue": "name 'plt' is not defined",
     "output_type": "error",
     "traceback": [
      "\u001b[0;31m---------------------------------------------------------------------------\u001b[0m",
      "\u001b[0;31mNameError\u001b[0m                                 Traceback (most recent call last)",
      "Input \u001b[0;32mIn [27]\u001b[0m, in \u001b[0;36m<cell line: 2>\u001b[0;34m()\u001b[0m\n\u001b[1;32m      1\u001b[0m merged\u001b[38;5;241m.\u001b[39mplot( x\u001b[38;5;241m=\u001b[39m\u001b[38;5;124m'\u001b[39m\u001b[38;5;124mPopulation_July_2019\u001b[39m\u001b[38;5;124m'\u001b[39m, y\u001b[38;5;241m=\u001b[39m\u001b[38;5;124m'\u001b[39m\u001b[38;5;124mgdppc_IMF\u001b[39m\u001b[38;5;124m'\u001b[39m, kind\u001b[38;5;241m=\u001b[39m\u001b[38;5;124m'\u001b[39m\u001b[38;5;124mscatter\u001b[39m\u001b[38;5;124m'\u001b[39m)\n\u001b[0;32m----> 2\u001b[0m \u001b[43mplt\u001b[49m\u001b[38;5;241m.\u001b[39msavefig(\u001b[38;5;124m\"\u001b[39m\u001b[38;5;124m./graphs/output2.png\u001b[39m\u001b[38;5;124m\"\u001b[39m)\n",
      "\u001b[0;31mNameError\u001b[0m: name 'plt' is not defined"
     ]
    },
    {
     "data": {
      "image/png": "[encoded data removed]",
      "text/plain": [
       "<Figure size 640x480 with 1 Axes>"
      ]
     },
     "metadata": {},
     "output_type": "display_data"
    }
   ],
   "source": [
    "merged.plot( x='Population_July_2019', y='gdppc_IMF', kind='scatter')\n",
    "plt.savefig(\"./graphs/output2.png\")"
   ]
  },
  {
   "cell_type": "code",
   "execution_count": 28,
   "metadata": {},
   "outputs": [
    {
     "ename": "NameError",
     "evalue": "name 'plt' is not defined",
     "output_type": "error",
     "traceback": [
      "\u001b[0;31m---------------------------------------------------------------------------\u001b[0m",
      "\u001b[0;31mNameError\u001b[0m                                 Traceback (most recent call last)",
      "Input \u001b[0;32mIn [28]\u001b[0m, in \u001b[0;36m<cell line: 2>\u001b[0;34m()\u001b[0m\n\u001b[1;32m      1\u001b[0m merged\u001b[38;5;241m.\u001b[39mplot( x\u001b[38;5;241m=\u001b[39m\u001b[38;5;124m'\u001b[39m\u001b[38;5;124mPopulation_July_2019\u001b[39m\u001b[38;5;124m'\u001b[39m, y\u001b[38;5;241m=\u001b[39m\u001b[38;5;124m'\u001b[39m\u001b[38;5;124mgdppc_IMF\u001b[39m\u001b[38;5;124m'\u001b[39m, kind\u001b[38;5;241m=\u001b[39m\u001b[38;5;124m'\u001b[39m\u001b[38;5;124mline\u001b[39m\u001b[38;5;124m'\u001b[39m)\n\u001b[0;32m----> 2\u001b[0m \u001b[43mplt\u001b[49m\u001b[38;5;241m.\u001b[39msavefig(\u001b[38;5;124m\"\u001b[39m\u001b[38;5;124m./graphs/output3.png\u001b[39m\u001b[38;5;124m\"\u001b[39m)\n",
      "\u001b[0;31mNameError\u001b[0m: name 'plt' is not defined"
     ]
    },
    {
     "data": {
      "image/png": "[encoded data removed]",
      "text/plain": [
       "<Figure size 640x480 with 1 Axes>"
      ]
     },
     "metadata": {},
     "output_type": "display_data"
    }
   ],
   "source": [
    "merged.plot( x='Population_July_2019', y='gdppc_IMF', kind='line')\n",
    "plt.savefig(\"./graphs/output3.png\")"
   ]
  },
  {
   "cell_type": "code",
   "execution_count": 29,
   "metadata": {},
   "outputs": [
    {
     "data": {
      "text/plain": [
       "<AxesSubplot:ylabel='Density'>"
      ]
     },
     "execution_count": 29,
     "metadata": {},
     "output_type": "execute_result"
    },
    {
     "data": {
      "image/png": "[encoded data removed]",
      "text/plain": [
       "<Figure size 640x480 with 1 Axes>"
      ]
     },
     "metadata": {},
     "output_type": "display_data"
    }
   ],
   "source": [
    "merged.plot( x='Population_July_2019', y='gdppc_IMF', kind='kde')"
   ]
  },
  {
   "cell_type": "markdown",
   "metadata": {
    "slideshow": {
     "slide_type": "fragment"
    },
    "tags": [],
    "user_expressions": []
   },
   "source": [
    "<div class=\"alert alert-block alert-warning\">\n",
    "<b>Exercise 7:</b> Create plots showing the relation between GDP per capita and Population Growth. Create all 4 types of possible regression plots and save them as <b> PNG, PDF, and JPG</b> files. Make sure to save them in the folder you created for <b>graphs</b>\n",
    "</div>"
   ]
  },
  {
   "cell_type": "markdown",
   "metadata": {
    "slideshow": {
     "slide_type": "fragment"
    },
    "tags": [],
    "user_expressions": []
   },
   "source": [
    "<div class=\"alert alert-block alert-warning\">\n",
    "<b>Exercise 8:</b> Using the notebook create slides for presenting your work and results. Once you have your slides, create a new public repo, publish it, and make sure to create a READ.ME file that show links to the notebook, html, and slides. Also, create the gh-pages branch to have a working slides webpage.\n",
    "</div>"
   ]
  },
  {
   "cell_type": "markdown",
   "metadata": {
    "slideshow": {
     "slide_type": "slide"
    },
    "tags": [],
    "user_expressions": []
   },
   "source": [
    "Notebook written by [Ömer Özak](http://omerozak.com) for his students in Economics at [Southern Methodist University](http://www.smu.edu). Feel free to use, distribute, or contribute."
   ]
  },
  {
   "cell_type": "markdown",
   "metadata": {
    "slideshow": {
     "slide_type": "-"
    },
    "tags": [],
    "user_expressions": []
   },
   "source": [
    "[<center><img src=\"https://github.com/measuring-culture/Expanding-Measurement-Culture-Facebook-JRSI/blob/main/pics/SMUlogowWordmarkRB.jpg?raw=true\" width=\"250\"></center>](http://omerozak.com)"
   ]
  }
 ],
 "metadata": {
  "celltoolbar": "Slideshow",
  "kernelspec": {
   "display_name": "Python 3 (ipykernel)",
   "language": "python",
   "name": "python3"
  },
  "language_info": {
   "codemirror_mode": {
    "name": "ipython",
    "version": 3
   },
   "file_extension": ".py",
   "mimetype": "text/x-python",
   "name": "python",
   "nbconvert_exporter": "python",
   "pygments_lexer": "ipython3",
   "version": "3.9.13"
  },
  "nbTranslate": {
   "displayLangs": [
    "*"
   ],
   "hotkey": "alt-t",
   "langInMainMenu": true,
   "sourceLang": "en",
   "targetLang": "fr",
   "useGoogleTranslate": true
  },
  "widgets": {
   "application/vnd.jupyter.widget-state+json": {
    "state": {},
    "version_major": 2,
    "version_minor": 0
   }
  }
 },
 "nbformat": 4,
 "nbformat_minor": 4
}
