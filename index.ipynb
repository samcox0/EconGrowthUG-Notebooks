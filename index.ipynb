{
 "cells": [
  {
   "cell_type": "markdown",
   "metadata": {},
   "source": [
    "# Economic Growth"
   ]
  },
  {
   "cell_type": "markdown",
   "metadata": {},
   "source": [
    "## Binder startup notebook"
   ]
  },
  {
   "cell_type": "markdown",
   "metadata": {
    "tags": [],
    "user_expressions": []
   },
   "source": [
    "This repository contains the notebooks I created for my Economic Growth and Comparative Development course.\n",
    "\n",
    "From here you can open the other notebooks in this repository.\n",
    "\n",
    "# Basics\n",
    "1. Introduction to Jupyter and Markdown [(Notebook)](./Intro-Jupyter.ipynb) [(html)](https://smu-econ-growth.github.io/EconGrowthUG-Slides-Intro-Jupyter/Intro-Jupyter.html) [(slides)](https://smu-econ-growth.github.io/EconGrowthUG-Slides-Intro-Jupyter/)\n",
    "2. Introduction to Python [(Notebook)](./Intro-Python.ipynb) [(html)](https://smu-econ-growth.github.io/EconGrowthUG-Slides-Intro-Python/Intro-Python.html) [(slides)](https://smu-econ-growth.github.io/EconGrowthUG-Slides-Intro-Python/)\n",
    "3. Introduction to Python II - Statements [(Notebook)](./Intro-Python-Statements.ipynb) [(html)](https://smu-econ-growth.github.io/EconGrowthUG-Slides-Intro-Python-Statements/Intro-Python-Statements.html) [(slides)](https://smu-econ-growth.github.io/EconGrowthUG-Slides-Intro-Python-Statements/)\n",
    "4. Introduction to Python III - Functions and Packages [(Notebook)](./Intro-Python-Functions-Packages.ipynb) [(html)](https://smu-econ-growth.github.io/EconGrowthUG-Slides-Intro-Python-Functions-Packages/Intro-Python-Functions-Packages.html) [(slides)](https://smu-econ-growth.github.io/EconGrowthUG-Slides-Intro-Python-Functions-Packages/)\n",
    "5. Introduction to Data Analysis with Pandas [(Notebook)](./Intro-Data-Analysis-Pandas.ipynb) [(html)](https://smu-econ-growth.github.io/EconGrowthUG-Slides-Intro-Data-Analysis-Pandas/Intro-Data-Analysis-Pandas.html) [(slides)](https://smu-econ-growth.github.io/EconGrowthUG-Slides-Intro-Data-Analysis-Pandas/)\n",
    "\n",
    "# Data Analysis\n",
    "\n",
    "6. Working with World Development Indicators [(Notebook)](./Working-with-WDI.ipynb) [(html)](https://smu-econ-growth.github.io/EconGrowthUG-Slides-Working-with-WDI/Working-with-WDI.html) [(slides)](https://smu-econ-growth.github.io/EconGrowthUG-Slides-Working-with-WDI/)\n",
    "7. Working with Penn World Table [(Notebook)](./Working-with-PWT.ipynb) [(html)](https://smu-econ-growth.github.io/EconGrowthUG-Slides-Working-with-PWT/Working-with-PWT.html) [(slides)](https://smu-econ-growth.github.io/EconGrowthUG-Slides-Working-with-PWT/)\n",
    "\n"
   ]
  }
 ],
 "metadata": {
  "kernelspec": {
   "display_name": "Python 3 (ipykernel)",
   "language": "python",
   "name": "python3"
  },
  "language_info": {
   "codemirror_mode": {
    "name": "ipython",
    "version": 3
   },
   "file_extension": ".py",
   "mimetype": "text/x-python",
   "name": "python",
   "nbconvert_exporter": "python",
   "pygments_lexer": "ipython3",
   "version": "3.9.13"
  },
  "nbTranslate": {
   "displayLangs": [
    "*"
   ],
   "hotkey": "alt-t",
   "langInMainMenu": true,
   "sourceLang": "en",
   "targetLang": "fr",
   "useGoogleTranslate": true
  },
  "widgets": {
   "application/vnd.jupyter.widget-state+json": {
    "state": {},
    "version_major": 2,
    "version_minor": 0
   }
  }
 },
 "nbformat": 4,
 "nbformat_minor": 4
}
